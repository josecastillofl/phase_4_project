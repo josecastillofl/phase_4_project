{
 "cells": [
  {
   "cell_type": "markdown",
   "metadata": {},
   "source": [
    "# Phase 4 project"
   ]
  },
  {
   "cell_type": "code",
   "execution_count": 81,
   "metadata": {},
   "outputs": [
    {
     "name": "stderr",
     "output_type": "stream",
     "text": [
      "[nltk_data] Downloading package wordnet to\n",
      "[nltk_data]     C:\\Users\\josec\\AppData\\Roaming\\nltk_data...\n",
      "[nltk_data]   Package wordnet is already up-to-date!\n"
     ]
    }
   ],
   "source": [
    "import numpy as np\n",
    "import pandas as pd\n",
    "import matplotlib.pyplot as plt\n",
    "import seaborn as sns\n",
    "\n",
    "from sklearn.model_selection import train_test_split\n",
    "import nltk\n",
    "from nltk.tokenize import regexp_tokenize, word_tokenize, RegexpTokenizer\n",
    "from nltk.corpus import stopwords, wordnet\n",
    "from nltk import pos_tag\n",
    "from nltk.stem import SnowballStemmer\n",
    "from sklearn.feature_extraction.text import TfidfVectorizer, CountVectorizer\n",
    "from sklearn.ensemble import RandomForestClassifier\n",
    "from nltk.probability import FreqDist\n",
    "from sklearn.naive_bayes import MultinomialNB\n",
    "from sklearn.model_selection import GridSearchCV\n",
    "from sklearn.metrics import accuracy_score, precision_score, confusion_matrix, plot_confusion_matrix\n",
    "\n",
    "\n",
    "nltk.download('wordnet')\n",
    "\n",
    "\n",
    "plt.style.use('ggplot')\n",
    "%matplotlib inline"
   ]
  },
  {
   "cell_type": "code",
   "execution_count": 2,
   "metadata": {},
   "outputs": [],
   "source": [
    "data = pd.read_csv('data/judge-1377884607_tweet_product_company.csv', encoding='latin1')"
   ]
  },
  {
   "cell_type": "code",
   "execution_count": 3,
   "metadata": {
    "scrolled": false
   },
   "outputs": [
    {
     "data": {
      "text/html": [
       "<div>\n",
       "<style scoped>\n",
       "    .dataframe tbody tr th:only-of-type {\n",
       "        vertical-align: middle;\n",
       "    }\n",
       "\n",
       "    .dataframe tbody tr th {\n",
       "        vertical-align: top;\n",
       "    }\n",
       "\n",
       "    .dataframe thead th {\n",
       "        text-align: right;\n",
       "    }\n",
       "</style>\n",
       "<table border=\"1\" class=\"dataframe\">\n",
       "  <thead>\n",
       "    <tr style=\"text-align: right;\">\n",
       "      <th></th>\n",
       "      <th>tweet_text</th>\n",
       "      <th>emotion_in_tweet_is_directed_at</th>\n",
       "      <th>is_there_an_emotion_directed_at_a_brand_or_product</th>\n",
       "    </tr>\n",
       "  </thead>\n",
       "  <tbody>\n",
       "    <tr>\n",
       "      <th>0</th>\n",
       "      <td>.@wesley83 I have a 3G iPhone. After 3 hrs twe...</td>\n",
       "      <td>iPhone</td>\n",
       "      <td>Negative emotion</td>\n",
       "    </tr>\n",
       "    <tr>\n",
       "      <th>1</th>\n",
       "      <td>@jessedee Know about @fludapp ? Awesome iPad/i...</td>\n",
       "      <td>iPad or iPhone App</td>\n",
       "      <td>Positive emotion</td>\n",
       "    </tr>\n",
       "    <tr>\n",
       "      <th>2</th>\n",
       "      <td>@swonderlin Can not wait for #iPad 2 also. The...</td>\n",
       "      <td>iPad</td>\n",
       "      <td>Positive emotion</td>\n",
       "    </tr>\n",
       "    <tr>\n",
       "      <th>3</th>\n",
       "      <td>@sxsw I hope this year's festival isn't as cra...</td>\n",
       "      <td>iPad or iPhone App</td>\n",
       "      <td>Negative emotion</td>\n",
       "    </tr>\n",
       "    <tr>\n",
       "      <th>4</th>\n",
       "      <td>@sxtxstate great stuff on Fri #SXSW: Marissa M...</td>\n",
       "      <td>Google</td>\n",
       "      <td>Positive emotion</td>\n",
       "    </tr>\n",
       "  </tbody>\n",
       "</table>\n",
       "</div>"
      ],
      "text/plain": [
       "                                          tweet_text  \\\n",
       "0  .@wesley83 I have a 3G iPhone. After 3 hrs twe...   \n",
       "1  @jessedee Know about @fludapp ? Awesome iPad/i...   \n",
       "2  @swonderlin Can not wait for #iPad 2 also. The...   \n",
       "3  @sxsw I hope this year's festival isn't as cra...   \n",
       "4  @sxtxstate great stuff on Fri #SXSW: Marissa M...   \n",
       "\n",
       "  emotion_in_tweet_is_directed_at  \\\n",
       "0                          iPhone   \n",
       "1              iPad or iPhone App   \n",
       "2                            iPad   \n",
       "3              iPad or iPhone App   \n",
       "4                          Google   \n",
       "\n",
       "  is_there_an_emotion_directed_at_a_brand_or_product  \n",
       "0                                   Negative emotion  \n",
       "1                                   Positive emotion  \n",
       "2                                   Positive emotion  \n",
       "3                                   Negative emotion  \n",
       "4                                   Positive emotion  "
      ]
     },
     "execution_count": 3,
     "metadata": {},
     "output_type": "execute_result"
    }
   ],
   "source": [
    "## First look at the data\n",
    "data.head()"
   ]
  },
  {
   "cell_type": "code",
   "execution_count": 4,
   "metadata": {},
   "outputs": [],
   "source": [
    "# Change the column names so it can be more readable\n",
    "data.columns = ['tweet', 'product', 'sentiment']"
   ]
  },
  {
   "cell_type": "code",
   "execution_count": 5,
   "metadata": {
    "scrolled": false
   },
   "outputs": [
    {
     "data": {
      "text/html": [
       "<div>\n",
       "<style scoped>\n",
       "    .dataframe tbody tr th:only-of-type {\n",
       "        vertical-align: middle;\n",
       "    }\n",
       "\n",
       "    .dataframe tbody tr th {\n",
       "        vertical-align: top;\n",
       "    }\n",
       "\n",
       "    .dataframe thead th {\n",
       "        text-align: right;\n",
       "    }\n",
       "</style>\n",
       "<table border=\"1\" class=\"dataframe\">\n",
       "  <thead>\n",
       "    <tr style=\"text-align: right;\">\n",
       "      <th></th>\n",
       "      <th>tweet</th>\n",
       "      <th>product</th>\n",
       "      <th>sentiment</th>\n",
       "    </tr>\n",
       "  </thead>\n",
       "  <tbody>\n",
       "    <tr>\n",
       "      <th>0</th>\n",
       "      <td>.@wesley83 I have a 3G iPhone. After 3 hrs twe...</td>\n",
       "      <td>iPhone</td>\n",
       "      <td>Negative emotion</td>\n",
       "    </tr>\n",
       "    <tr>\n",
       "      <th>1</th>\n",
       "      <td>@jessedee Know about @fludapp ? Awesome iPad/i...</td>\n",
       "      <td>iPad or iPhone App</td>\n",
       "      <td>Positive emotion</td>\n",
       "    </tr>\n",
       "    <tr>\n",
       "      <th>2</th>\n",
       "      <td>@swonderlin Can not wait for #iPad 2 also. The...</td>\n",
       "      <td>iPad</td>\n",
       "      <td>Positive emotion</td>\n",
       "    </tr>\n",
       "    <tr>\n",
       "      <th>3</th>\n",
       "      <td>@sxsw I hope this year's festival isn't as cra...</td>\n",
       "      <td>iPad or iPhone App</td>\n",
       "      <td>Negative emotion</td>\n",
       "    </tr>\n",
       "    <tr>\n",
       "      <th>4</th>\n",
       "      <td>@sxtxstate great stuff on Fri #SXSW: Marissa M...</td>\n",
       "      <td>Google</td>\n",
       "      <td>Positive emotion</td>\n",
       "    </tr>\n",
       "  </tbody>\n",
       "</table>\n",
       "</div>"
      ],
      "text/plain": [
       "                                               tweet             product  \\\n",
       "0  .@wesley83 I have a 3G iPhone. After 3 hrs twe...              iPhone   \n",
       "1  @jessedee Know about @fludapp ? Awesome iPad/i...  iPad or iPhone App   \n",
       "2  @swonderlin Can not wait for #iPad 2 also. The...                iPad   \n",
       "3  @sxsw I hope this year's festival isn't as cra...  iPad or iPhone App   \n",
       "4  @sxtxstate great stuff on Fri #SXSW: Marissa M...              Google   \n",
       "\n",
       "          sentiment  \n",
       "0  Negative emotion  \n",
       "1  Positive emotion  \n",
       "2  Positive emotion  \n",
       "3  Negative emotion  \n",
       "4  Positive emotion  "
      ]
     },
     "execution_count": 5,
     "metadata": {},
     "output_type": "execute_result"
    }
   ],
   "source": [
    "## Much cleaner\n",
    "data.head()"
   ]
  },
  {
   "cell_type": "code",
   "execution_count": 6,
   "metadata": {
    "scrolled": false
   },
   "outputs": [
    {
     "data": {
      "text/plain": [
       "No emotion toward brand or product    5389\n",
       "Positive emotion                      2978\n",
       "Negative emotion                       570\n",
       "I can't tell                           156\n",
       "Name: sentiment, dtype: int64"
      ]
     },
     "execution_count": 6,
     "metadata": {},
     "output_type": "execute_result"
    }
   ],
   "source": [
    "## Quick look at our target values\n",
    "data.sentiment.value_counts()"
   ]
  },
  {
   "cell_type": "code",
   "execution_count": 7,
   "metadata": {},
   "outputs": [],
   "source": [
    "## Change it so its now positive, negative or neutral\n",
    "data['sentiment'].replace({'No emotion toward brand or product' : 'Neutral emotion', '''I can't tell''' : 'Neutral emotion'},\n",
    "                         inplace=True)"
   ]
  },
  {
   "cell_type": "code",
   "execution_count": 8,
   "metadata": {},
   "outputs": [
    {
     "data": {
      "text/plain": [
       "Neutral emotion     5545\n",
       "Positive emotion    2978\n",
       "Negative emotion     570\n",
       "Name: sentiment, dtype: int64"
      ]
     },
     "execution_count": 8,
     "metadata": {},
     "output_type": "execute_result"
    }
   ],
   "source": [
    "data['sentiment'].value_counts()"
   ]
  },
  {
   "cell_type": "code",
   "execution_count": 9,
   "metadata": {},
   "outputs": [],
   "source": [
    "## Dropping all rows with Null values in it\n",
    "data = data.dropna(axis=0)"
   ]
  },
  {
   "cell_type": "code",
   "execution_count": 10,
   "metadata": {},
   "outputs": [],
   "source": [
    "## Reset index for aesthetics \n",
    "data.reset_index(drop=True, inplace=True)"
   ]
  },
  {
   "cell_type": "code",
   "execution_count": 11,
   "metadata": {},
   "outputs": [
    {
     "data": {
      "text/plain": [
       "iPad                               946\n",
       "Apple                              661\n",
       "iPad or iPhone App                 470\n",
       "Google                             430\n",
       "iPhone                             297\n",
       "Other Google product or service    293\n",
       "Android App                         81\n",
       "Android                             78\n",
       "Other Apple product or service      35\n",
       "Name: product, dtype: int64"
      ]
     },
     "execution_count": 11,
     "metadata": {},
     "output_type": "execute_result"
    }
   ],
   "source": [
    "data['product'].value_counts()"
   ]
  },
  {
   "cell_type": "code",
   "execution_count": 56,
   "metadata": {},
   "outputs": [],
   "source": [
    "## A copy of the original dataframe that we can modify a play around with\n",
    "rq = data.copy()"
   ]
  },
  {
   "cell_type": "markdown",
   "metadata": {},
   "source": [
    "## Quick EDA"
   ]
  },
  {
   "cell_type": "code",
   "execution_count": 60,
   "metadata": {},
   "outputs": [
    {
     "data": {
      "image/png": "[encoded data removed]",
      "text/plain": [
       "<Figure size 720x360 with 1 Axes>"
      ]
     },
     "metadata": {
      "needs_background": "light"
     },
     "output_type": "display_data"
    }
   ],
   "source": [
    "ax = data['sentiment'].value_counts().sort_index() \\\n",
    "    .plot(kind='bar',\n",
    "         title = 'Customer sentiment',\n",
    "         figsize=(10,5))"
   ]
  },
  {
   "cell_type": "markdown",
   "metadata": {},
   "source": [
    "Data is clearly biased towards positive emotion, something to keep in mind"
   ]
  },
  {
   "cell_type": "code",
   "execution_count": 13,
   "metadata": {
    "scrolled": false
   },
   "outputs": [
    {
     "data": {
      "image/png": "[encoded data removed]",
      "text/plain": [
       "<Figure size 720x360 with 1 Axes>"
      ]
     },
     "metadata": {
      "needs_background": "light"
     },
     "output_type": "display_data"
    }
   ],
   "source": [
    "ax = data['product'].value_counts().sort_index() \\\n",
    "    .plot(kind='bar',\n",
    "         title = 'Products',\n",
    "         figsize=(10,5))"
   ]
  },
  {
   "cell_type": "code",
   "execution_count": 58,
   "metadata": {},
   "outputs": [],
   "source": [
    "## Checkout products but group them by Google or Apple\n",
    "rq['product'].replace({'iPad' : 'Apple', 'iPad or iPhone App' : 'Apple', 'iPhone':'Apple',\n",
    "                      'Other Apple product or service':'Apple', 'Other Google product or service':'Google',\n",
    "                      'Android App':'Google', 'Android':'Google'},\n",
    "                         inplace=True)"
   ]
  },
  {
   "cell_type": "code",
   "execution_count": 61,
   "metadata": {
    "scrolled": true
   },
   "outputs": [
    {
     "data": {
      "image/png": "[encoded data removed]",
      "text/plain": [
       "<Figure size 720x360 with 1 Axes>"
      ]
     },
     "metadata": {
      "needs_background": "light"
     },
     "output_type": "display_data"
    }
   ],
   "source": [
    "ax = rq['product'].value_counts().sort_index() \\\n",
    "    .plot(kind='bar',\n",
    "         title = 'Products by provider',\n",
    "         figsize=(10,5))"
   ]
  },
  {
   "cell_type": "markdown",
   "metadata": {},
   "source": [
    "## Words"
   ]
  },
  {
   "cell_type": "code",
   "execution_count": 85,
   "metadata": {},
   "outputs": [],
   "source": [
    "rq['tokens'] = rq['tweet'].apply(lambda x: [word.lower()\n",
    "                                                for word in word_tokenize(x) if word.isalpha() and word.lower() \\\n",
    "                                                not in stop_words])"
   ]
  },
  {
   "cell_type": "markdown",
   "metadata": {},
   "source": [
    "## Basic NLTK preprocessing"
   ]
  },
  {
   "cell_type": "code",
   "execution_count": 14,
   "metadata": {},
   "outputs": [],
   "source": [
    "tokenizer = RegexpTokenizer(r'\\w+')\n",
    "stop_words = set(stopwords.words('english'))\n",
    "stemmer = SnowballStemmer(\"english\")"
   ]
  },
  {
   "cell_type": "code",
   "execution_count": 15,
   "metadata": {},
   "outputs": [],
   "source": [
    "def preprocess(tweet):\n",
    "    tweet = tweet.lower()\n",
    "    tweet = tokenizer.tokenize(tweet)\n",
    "    tweet = [word for word in tweet if word not in stop_words]\n",
    "    tweet = [stemmer.stem(word) for word in tweet]\n",
    "    return ' '.join(tweet)"
   ]
  },
  {
   "cell_type": "code",
   "execution_count": 16,
   "metadata": {},
   "outputs": [],
   "source": [
    "data['preprocessed_tweet'] = data['tweet'].apply(preprocess)"
   ]
  },
  {
   "cell_type": "code",
   "execution_count": 17,
   "metadata": {
    "scrolled": true
   },
   "outputs": [
    {
     "data": {
      "text/plain": [
       "0       wesley83 3g iphon 3 hrs tweet rise_austin dead...\n",
       "1       jessede know fludapp awesom ipad iphon app lik...\n",
       "2                   swonderlin wait ipad 2 also sale sxsw\n",
       "3        sxsw hope year festiv crashi year iphon app sxsw\n",
       "4       sxtxstate great stuff fri sxsw marissa mayer g...\n",
       "                              ...                        \n",
       "3286    mention pr guy convinc switch back iphon great...\n",
       "3287    quot papyrus sort like ipad quot nice lol sxsw...\n",
       "3288    diller say googl tv quot might run playstat xb...\n",
       "3289    alway use camera iphon b c imag stabil mode su...\n",
       "3290                             ipad everywher sxsw link\n",
       "Name: preprocessed_tweet, Length: 3291, dtype: object"
      ]
     },
     "execution_count": 17,
     "metadata": {},
     "output_type": "execute_result"
    }
   ],
   "source": [
    "data['preprocessed_tweet']"
   ]
  },
  {
   "cell_type": "markdown",
   "metadata": {},
   "source": [
    "## Model 1"
   ]
  },
  {
   "cell_type": "code",
   "execution_count": 18,
   "metadata": {},
   "outputs": [],
   "source": [
    "## Make X into a vector\n",
    "vectorizer = CountVectorizer()\n",
    "X = vectorizer.fit_transform(data['preprocessed_tweet'])"
   ]
  },
  {
   "cell_type": "code",
   "execution_count": 19,
   "metadata": {},
   "outputs": [],
   "source": [
    "## Create my y-axis and Train Test split\n",
    "y = data['sentiment']\n",
    "X_train, X_test, y_train, y_test = train_test_split(X, y, test_size=0.2, random_state=42)"
   ]
  },
  {
   "cell_type": "code",
   "execution_count": 20,
   "metadata": {},
   "outputs": [
    {
     "data": {
      "text/plain": [
       "0.8543247344461306"
      ]
     },
     "execution_count": 20,
     "metadata": {},
     "output_type": "execute_result"
    }
   ],
   "source": [
    "clf = RandomForestClassifier(random_state=42)\n",
    "clf.fit(X_train, y_train)\n",
    "clf.score(X_test, y_test)"
   ]
  },
  {
   "cell_type": "code",
   "execution_count": 21,
   "metadata": {},
   "outputs": [],
   "source": [
    "y_pred = clf.predict(X_test)"
   ]
  },
  {
   "cell_type": "markdown",
   "metadata": {},
   "source": [
    "## Top most common words"
   ]
  },
  {
   "cell_type": "code",
   "execution_count": 71,
   "metadata": {},
   "outputs": [],
   "source": [
    "feature_names = vectorizer.get_feature_names()"
   ]
  },
  {
   "cell_type": "code",
   "execution_count": 88,
   "metadata": {},
   "outputs": [],
   "source": [
    "fdist = FreqDist(feature_names)"
   ]
  },
  {
   "cell_type": "code",
   "execution_count": 89,
   "metadata": {},
   "outputs": [
    {
     "name": "stdout",
     "output_type": "stream",
     "text": [
      "<FreqDist with 4490 samples and 4490 outcomes>\n"
     ]
    }
   ],
   "source": [
    "print(fdist)"
   ]
  },
  {
   "cell_type": "code",
   "execution_count": 90,
   "metadata": {},
   "outputs": [
    {
     "name": "stdout",
     "output_type": "stream",
     "text": [
      "[('000', 1), ('02', 1), ('03', 1), ('08', 1), ('10', 1), ('100', 1), ('100s', 1), ('100tc', 1), ('101', 1), ('106', 1), ('10am', 1), ('10k', 1), ('10min', 1), ('10pm', 1), ('10x', 1), ('11', 1), ('11ntc', 1), ('11th', 1), ('12', 1), ('12am', 1), ('12b', 1), ('12th', 1), ('13', 1), ('130', 1), ('14', 1), ('1406', 1), ('1413', 1), ('1415', 1), ('15', 1), ('150', 1), ('1500', 1), ('150m', 1), ('157', 1), ('15am', 1), ('15k', 1), ('16162', 1), ('16gb', 1), ('16min', 1), ('17', 1), ('188', 1), ('1986', 1), ('1990style', 1), ('1m', 1), ('1of', 1), ('1pm', 1), ('1st', 1), ('20', 1), ('200', 1), ('2010', 1), ('2011', 1), ('2012', 1), ('20s', 1), ('21', 1), ('22', 1), ('23', 1), ('24', 1), ('25', 1), ('250k', 1), ('25th', 1), ('2am', 1), ('2day', 1), ('2honor', 1), ('2moro', 1), ('2nd', 1), ('2nite', 1), ('2s', 1), ('2yr', 1), ('30', 1), ('300', 1), ('3000', 1), ('30a', 1), ('30am', 1), ('30p', 1), ('30pm', 1), ('32', 1), ('32gb', 1), ('35', 1), ('350', 1), ('36', 1), ('37', 1), ('3d', 1), ('3g', 1), ('3gs', 1), ('3k', 1), ('3rd', 1), ('3x', 1), ('40', 1), ('400', 1), ('40min', 1), ('41', 1), ('45', 1), ('45am', 1), ('47', 1), ('48', 1), ('4android', 1), ('4chan', 1), ('4g', 1), ('4nqv92l', 1), ('4sq', 1), ('4sq3', 1), ('4squar', 1), ('50', 1), ('54', 1), ('55', 1), ('58', 1), ('59', 1), ('59p', 1), ('59pm', 1), ('5pm', 1), ('5th', 1), ('60', 1), ('64g', 1), ('64gb', 1), ('64gig', 1), ('64mb', 1), ('65', 1), ('6hour', 1), ('6th', 1), ('70', 1), ('75', 1), ('7th', 1), ('80', 1), ('800', 1), ('80s', 1), ('81', 1), ('82', 1), ('89', 1), ('8am', 1), ('8p', 1), ('8pm', 1), ('8th', 1), ('90', 1), ('900', 1), ('911tweet', 1), ('95', 1), ('96', 1), ('967', 1), ('97', 1), ('98', 1), ('99', 1), ('99å', 1), ('9th', 1), ('__', 1), ('______', 1), ('_______', 1), ('_ã', 1), ('_ô', 1), ('a3xvwc6', 1), ('aapl', 1), ('aaron', 1), ('abacus', 1), ('abandon', 1), ('aber', 1), ('abil', 1), ('abl', 1), ('abroad', 1), ('absolut', 1), ('abt', 1), ('abuzz', 1), ('academi', 1), ('acc', 1), ('accept', 1), ('access', 1), ('accessori', 1), ('accesssxsw', 1), ('accommod', 1), ('accord', 1), ('accordion', 1), ('account', 1), ('acerb', 1), ('achiev', 1), ('acknowledg', 1), ('aclu', 1), ('aclus', 1), ('acquir', 1), ('across', 1), ('action', 1), ('activ', 1), ('actor', 1), ('actsofshar', 1), ('actual', 1), ('ad', 1), ('adam', 1), ('adapt', 1), ('add', 1), ('addict', 1), ('addictedtotheinterweb', 1), ('addit', 1), ('address', 1), ('adfon', 1), ('admir', 1), ('admiss', 1), ('admit', 1), ('ado', 1), ('adopt', 1), ('adpeopleproblem', 1), ('advanc', 1), ('advent', 1), ('adventur', 1), ('advertis', 1), ('advic', 1), ('advisori', 1), ('aesthet', 1), ('afar', 1), ('affair', 1), ('affirm', 1), ('afford', 1), ('afraid', 1), ('african', 1), ('afternoon', 1), ('agchat', 1), ('agenc', 1), ('agenda', 1), ('agent', 1), ('agileag', 1), ('agnerd', 1), ('ago', 1), ('agre', 1), ('ah', 1), ('ahe', 1), ('ahead', 1), ('ahem', 1), ('ahh', 1), ('ahhh', 1), ('aicn', 1), ('aid', 1), ('aim', 1), ('air', 1), ('airlin', 1), ('airplan', 1), ('airport', 1), ('ajs2011', 1), ('aka', 1), ('akqa', 1), ('al', 1), ('ala', 1), ('alamo', 1), ('alan', 1), ('alarm', 1), ('alcohol', 1), ('alert', 1), ('alex', 1), ('aliv', 1), ('allow', 1), ('allshar', 1), ('almost', 1), ('alon', 1), ('along', 1), ('alot', 1), ('alphagraph', 1), ('alreadi', 1), ('also', 1), ('alt', 1), ('altern', 1), ('although', 1), ('alway', 1), ('alwayshavingtoplugin', 1), ('amateurhour', 1), ('amaz', 1), ('amazon', 1), ('ambassador', 1), ('america', 1), ('amex', 1), ('amigo', 1), ('among', 1), ('amount', 1), ('amp', 1), ('amus', 1), ('analysi', 1), ('analyt', 1), ('andoid', 1), ('andriod', 1), ('andro', 1), ('android', 1), ('androidsxsw', 1), ('angri', 1), ('angrybird', 1), ('announc', 1), ('annoy', 1), ('anoth', 1), ('answer', 1), ('anti', 1), ('anticip', 1), ('antigov', 1), ('antiqu', 1), ('antonio', 1), ('antwoord', 1), ('anxieti', 1), ('anxious', 1), ('anybodi', 1), ('anybodywanttobuymeanipad2', 1), ('anymor', 1), ('anyon', 1), ('anyth', 1), ('anyway', 1), ('anywher', 1), ('ao', 1), ('ap', 1), ('apac', 1), ('apart', 1), ('api', 1), ('app', 1), ('appar', 1), ('appcircus', 1), ('appeal', 1), ('appear', 1), ('appl', 1), ('applaud', 1), ('applaus', 1), ('apple_stor', 1), ('appleaddict', 1), ('appleatxdt', 1), ('applefanat', 1), ('appletakingoverworld', 1), ('appli', 1), ('applic', 1), ('appolici', 1), ('appreci', 1), ('approach', 1), ('approv', 1), ('apptrophi', 1), ('aquent', 1), ('arabspr', 1), ('arcad', 1), ('archiv', 1), ('arctic', 1), ('arduino', 1), ('area', 1), ('arg', 1), ('argu', 1), ('argument', 1), ('aristotl', 1), ('arm', 1), ('armadillo', 1), ('aron', 1), ('around', 1), ('arriv', 1), ('art', 1), ('articl', 1), ('articul', 1), ('artifici', 1), ('artist', 1), ('artwork', 1), ('arw', 1), ('asddieu', 1), ('ask', 1), ('asleep', 1), ('ass', 1), ('assist', 1), ('assistivetech', 1), ('assum', 1), ('atari', 1), ('atl', 1), ('atm', 1), ('atrix', 1), ('att', 1), ('attach', 1), ('attempt', 1), ('attend', 1), ('attende', 1), ('attent', 1), ('attitud', 1), ('attn', 1), ('attract', 1), ('atx', 1), ('atzip', 1), ('atåê', 1), ('audienc', 1), ('audio', 1), ('augcomm', 1), ('augment', 1), ('augmentedr', 1), ('aunti', 1), ('aus', 1), ('austin', 1), ('austincrowd', 1), ('austinit', 1), ('austinj', 1), ('austintx', 1), ('austinwin', 1), ('australian', 1), ('ausxsw', 1), ('auth', 1), ('authent', 1), ('authenticationdesign', 1), ('author', 1), ('autist', 1), ('auto', 1), ('autocorrect', 1), ('autonom', 1), ('avail', 1), ('ave', 1), ('avenu', 1), ('averag', 1), ('avoid', 1), ('aw', 1), ('awak', 1), ('awar', 1), ('award', 1), ('away', 1), ('awe', 1), ('awesom', 1), ('awesometim', 1), ('awhil', 1), ('awkward', 1), ('awwww', 1), ('axzwxb', 1), ('ay', 1), ('b4', 1), ('baaah', 1), ('babi', 1), ('back', 1), ('background', 1), ('backlight', 1), ('backpack', 1), ('backup', 1), ('backupifi', 1), ('bad', 1), ('badg', 1), ('badgeless', 1), ('bag', 1), ('bahahahaha', 1), ('bajillion', 1), ('balanc', 1), ('balckberri', 1), ('balconi', 1), ('ball', 1), ('ballroom', 1), ('banal', 1), ('band', 1), ('bandwaggon', 1), ('bandwidth', 1), ('bang', 1), ('bank', 1), ('bankinnov', 1), ('bar', 1), ('barcod', 1), ('bare', 1), ('barri', 1), ('barroom', 1), ('barrydil', 1), ('bart', 1), ('barton', 1), ('base', 1), ('bash', 1), ('basi', 1), ('basic', 1), ('basket', 1), ('bastard', 1), ('bat', 1), ('bathroom', 1), ('batphon', 1), ('batt', 1), ('batteri', 1), ('batterykil', 1), ('battl', 1), ('battledeck', 1), ('battlela', 1), ('bavcid', 1), ('bawl', 1), ('bb', 1), ('bbq', 1), ('bc', 1), ('bd', 1), ('bday', 1), ('beach', 1), ('bean', 1), ('bear', 1), ('beard', 1), ('beat', 1), ('beauti', 1), ('becom', 1), ('bed', 1), ('beechwood', 1), ('beer', 1), ('beforetwitt', 1), ('beg', 1), ('begin', 1), ('behanc', 1), ('behav', 1), ('behavior', 1), ('behind', 1), ('believ', 1), ('belinski', 1), ('belong', 1), ('beluga', 1), ('ben', 1), ('benefit', 1), ('benieuwd', 1), ('bereft', 1), ('bergstrom', 1), ('berkle', 1), ('bernd', 1), ('berri', 1), ('best', 1), ('bestappev', 1), ('besti', 1), ('bet', 1), ('beta', 1), ('betainvit', 1), ('better', 1), ('bettercloud', 1), ('bettersearch', 1), ('betterthingstodo', 1), ('bewar', 1), ('beyond', 1), ('bff', 1), ('bicycl', 1), ('big', 1), ('bigger', 1), ('biggest', 1), ('bike', 1), ('billion', 1), ('bin', 1), ('bing', 1), ('biomimicri', 1), ('bird', 1), ('birth', 1), ('birthday', 1), ('bit', 1), ('bite', 1), ('biz', 1), ('bizzi', 1), ('bjdproduct', 1), ('black', 1), ('blackberri', 1), ('blackbook', 1), ('blame', 1), ('blast', 1), ('bleed', 1), ('blew', 1), ('blind', 1), ('blinksal', 1), ('block', 1), ('blog', 1), ('bloggabl', 1), ('blogger', 1), ('bloodi', 1), ('bloomberg', 1), ('blow', 1), ('blue', 1), ('blueray', 1), ('bluetooth', 1), ('bluezoom', 1), ('blur', 1), ('bmm', 1), ('bnet', 1), ('board', 1), ('bodi', 1), ('boggl', 1), ('bomb', 1), ('boo', 1), ('book', 1), ('bookbook', 1), ('boom', 1), ('boomer', 1), ('boost', 1), ('boot', 1), ('booth', 1), ('booyah', 1), ('booz', 1), ('borderstylo', 1), ('bore', 1), ('born', 1), ('borrow', 1), ('boss', 1), ('bot', 1), ('botch', 1), ('bother', 1), ('bottom', 1), ('bought', 1), ('bounc', 1), ('bound', 1), ('boundari', 1), ('bout', 1), ('bowl', 1), ('box', 1), ('boxe', 1), ('boy', 1), ('boyfriend', 1), ('bpm', 1), ('bracket', 1), ('brah', 1), ('brain', 1), ('brainwash', 1), ('brand', 1), ('brave', 1), ('bravo', 1), ('brawl', 1), ('brazil', 1), ('bread', 1), ('break', 1), ('breakdown', 1), ('breakfast', 1), ('breakout', 1), ('breakthrough', 1), ('breath', 1), ('breathtak', 1), ('breed', 1), ('brian', 1), ('brian_lam', 1), ('brick', 1), ('bricklin', 1), ('bridg', 1), ('bright', 1), ('brighten', 1), ('brillianc', 1), ('brilliant', 1), ('bring', 1), ('brisk', 1), ('brit', 1), ('british', 1), ('brk', 1), ('bro', 1), ('broadcast', 1), ('broadcastr', 1), ('broadfe', 1), ('broken', 1), ('brother', 1), ('brought', 1), ('brows', 1), ('browser', 1), ('browserwar', 1), ('bruis', 1), ('brushstrok', 1), ('bryce', 1), ('bt', 1), ('btw', 1), ('bubbl', 1), ('bucket', 1), ('buffalo', 1), ('bug', 1), ('bugger', 1), ('buggi', 1), ('build', 1), ('built', 1), ('bulletin', 1), ('bum', 1), ('bummer', 1), ('bump', 1), ('bunch', 1), ('burn', 1), ('burst', 1), ('bus', 1), ('busdev', 1), ('busi', 1), ('butt', 1), ('button', 1), ('buy', 1), ('buyer', 1), ('buzz', 1), ('bynd', 1), ('ca', 1), ('cab', 1), ('cabbi', 1), ('cabl', 1), ('cactus', 1), ('cake', 1), ('calcul', 1), ('calendar', 1), ('calhoun', 1), ('california', 1), ('call', 1), ('callay', 1), ('callback', 1), ('callooh', 1), ('calyp', 1), ('cam', 1), ('came', 1), ('camera', 1), ('campaign', 1), ('campbel', 1), ('campus', 1), ('canada', 1), ('canadian', 1), ('cancel', 1), ('cannot', 1), ('cant', 1), ('canva', 1), ('cap', 1), ('capabl', 1), ('capitol', 1), ('captain', 1), ('captur', 1), ('car', 1), ('caramel', 1), ('carbon', 1), ('card', 1), ('care', 1), ('career', 1), ('carri', 1), ('carrol', 1), ('cart', 1), ('cartel', 1), ('cartoon', 1), ('cartoonish', 1), ('case', 1), ('cash', 1), ('cashmer', 1), ('cashmor', 1), ('cast', 1), ('castl', 1), ('casual', 1), ('cat', 1), ('catch', 1), ('catphys', 1), ('cattl', 1), ('caus', 1), ('cautious', 1), ('cbatsxsw', 1), ('cc', 1), ('cedar', 1), ('celeb', 1), ('celebr', 1), ('cell', 1), ('cellular', 1), ('cent', 1), ('center', 1), ('centr', 1), ('central', 1), ('ceo', 1), ('ceokidschat', 1), ('cera', 1), ('cerebellum', 1), ('cerebr', 1), ('certain', 1), ('certif', 1), ('ces', 1), ('chain', 1), ('chair', 1), ('chalk', 1), ('challeng', 1), ('champ', 1), ('chanc', 1), ('chang', 1), ('changer', 1), ('channel', 1), ('chao', 1), ('charact', 1), ('charg', 1), ('charger', 1), ('chargin2diffphonesatonc', 1), ('chariti', 1), ('charl', 1), ('charm', 1), ('chart', 1), ('chat', 1), ('chatter', 1), ('cheapen', 1), ('cheaper', 1), ('check', 1), ('checkin', 1), ('checkout', 1), ('cheeki', 1), ('cheer', 1), ('chees', 1), ('chen', 1), ('chevi', 1), ('chevysmc', 1), ('chevysxsw', 1), ('chevytweethous', 1), ('chic', 1), ('chief', 1), ('child', 1), ('childhood', 1), ('chill', 1), ('chilltab', 1), ('china', 1), ('chines', 1), ('chip', 1), ('chk', 1), ('chng', 1), ('choic', 1), ('choke', 1), ('choos', 1), ('choplift', 1), ('choreographi', 1), ('chris', 1), ('christian', 1), ('christma', 1), ('chrome', 1), ('chromeo', 1), ('chronicl', 1), ('chump', 1), ('chunki', 1), ('chìáo', 1), ('cigarett', 1), ('cinema', 1), ('circl', 1), ('circusmash', 1), ('cite', 1), ('citi', 1), ('ck', 1), ('cks', 1), ('claim', 1), ('clariti', 1), ('clark', 1), ('class', 1), ('classi', 1), ('classic', 1), ('classiest', 1), ('cle', 1), ('clean', 1), ('clear', 1), ('cleveland', 1), ('clever', 1), ('click', 1), ('client', 1), ('climb', 1), ('clipcon', 1), ('clock', 1), ('close', 1), ('closer', 1), ('cloth', 1), ('cloud', 1), ('cloudapp', 1), ('cloudsight', 1), ('clumsili', 1), ('cluster', 1), ('clutter', 1), ('cm48', 1), ('cmswire', 1), ('cmti', 1), ('cnet', 1), ('cnn', 1), ('cnngrill', 1), ('cnnmoney', 1), ('cnnmoneysxsw', 1), ('cnt', 1), ('cntr', 1), ('co', 1), ('cobra', 1), ('cocain', 1), ('cocki', 1), ('cocoon', 1), ('code', 1), ('coder', 1), ('coffe', 1), ('cohen', 1), ('coin', 1), ('coincid', 1), ('cold', 1), ('colin', 1), ('collab', 1), ('collect', 1), ('color', 1), ('colour', 1), ('com', 1), ('combin', 1), ('comcom', 1), ('come', 1), ('comedi', 1), ('comer', 1), ('comfort', 1), ('comm', 1), ('command', 1), ('comment', 1), ('common', 1), ('communal', 1), ('communic', 1), ('communiti', 1), ('comp', 1), ('compan', 1), ('compani', 1), ('compar', 1), ('compat', 1), ('compel', 1), ('compet', 1), ('competit', 1), ('competitor', 1), ('compil', 1), ('complement', 1), ('complet', 1), ('complex', 1), ('complic', 1), ('compos', 1), ('comput', 1), ('concentr', 1), ('concept', 1), ('concert', 1), ('concertgo', 1), ('condens', 1), ('conf', 1), ('confer', 1), ('confess', 1), ('configur', 1), ('confin', 1), ('confirm', 1), ('conflagr', 1), ('confus', 1), ('congrat', 1), ('congratul', 1), ('congress', 1), ('connect', 1), ('connectedbrand', 1), ('connectedcar', 1), ('connectedtv', 1), ('conquer', 1), ('conscious', 1), ('consid', 1), ('consist', 1), ('constant', 1), ('consult', 1), ('consum', 1), ('consumer', 1), ('consumerist', 1), ('cont', 1), ('contact', 1), ('content', 1), ('contentrul', 1), ('contest', 1), ('context', 1), ('contextu', 1), ('continu', 1), ('continuum', 1), ('control', 1), ('conv', 1), ('conveni', 1), ('convent', 1), ('converg', 1), ('convers', 1), ('convienc', 1), ('convinc', 1), ('convor', 1), ('cool', 1), ('cooler', 1), ('coolest', 1), ('coolhaus', 1), ('coordin', 1), ('cop', 1), ('cope', 1), ('copi', 1), ('copia', 1), ('copper', 1), ('cor', 1), ('cord', 1), ('cordless', 1), ('core', 1), ('corner', 1), ('corpor', 1), ('corral', 1), ('correct', 1), ('corrupt', 1), ('cost', 1), ('costum', 1), ('couch', 1), ('couchfan', 1), ('cough', 1), ('could', 1), ('count', 1), ('countri', 1), ('coupl', 1), ('coupon', 1), ('cours', 1), ('courtesi', 1), ('courtsid', 1), ('courtyard', 1), ('cover', 1), ('coverag', 1), ('covet', 1), ('cow', 1), ('cowboy', 1), ('cowork', 1), ('cpa', 1), ('cr', 1), ('crack', 1), ('crackberri', 1), ('crafti', 1), ('crap', 1), ('crapkit', 1), ('crappi', 1), ('crash', 1), ('crasher', 1), ('crashi', 1), ('crave', 1), ('crazi', 1), ('crazyco', 1), ('crazyfest', 1), ('cream', 1), ('creat', 1), ('creativ', 1), ('creator', 1), ('creatur', 1), ('cred', 1), ('credit', 1), ('creek', 1), ('creeper', 1), ('crew', 1), ('cri', 1), ('crippl', 1), ('crisi', 1), ('critiqu', 1), ('cross', 1), ('crowd', 1), ('crowdbeacon', 1), ('crowdsourc', 1), ('crowley', 1), ('crunch', 1), ('crush', 1), ('crushit', 1), ('cruze', 1), ('csr', 1), ('csteja', 1), ('csuitecsourc', 1), ('ctia', 1), ('cult', 1), ('cultur', 1), ('cun', 1), ('cup', 1), ('cupcak', 1), ('cupertino', 1), ('curat', 1), ('curatedeb', 1), ('curios', 1), ('curious', 1), ('current', 1), ('curs', 1), ('cursor', 1), ('custom', 1), ('cut', 1), ('cute', 1), ('cutsi', 1), ('cuz', 1), ('cwc2011', 1), ('cwebb', 1), ('cynic', 1), ('dad', 1), ('dah', 1), ('dahl', 1), ('daili', 1), ('dairi', 1), ('dali', 1), ('damag', 1), ('damm', 1), ('dammit', 1), ('damn', 1), ('damon', 1), ('dan', 1), ('danc', 1), ('dandi', 1), ('danfung', 1), ('dang', 1), ('danger', 1), ('daniel', 1), ('danni', 1), ('dark', 1), ('darn', 1), ('darryl', 1), ('das', 1), ('dat', 1), ('data', 1), ('databas', 1), ('date', 1), ('davi', 1), ('david', 1), ('dawdl', 1), ('dawg', 1), ('dawn', 1), ('day', 1), ('daylight', 1), ('de', 1), ('dead', 1), ('deadlin', 1), ('deal', 1), ('dear', 1), ('death', 1), ('debat', 1), ('debut', 1), ('decad', 1), ('decent', 1), ('decid', 1), ('decis', 1), ('deck', 1), ('dedic', 1), ('deeper', 1), ('def', 1), ('default', 1), ('deficit', 1), ('defin', 1), ('definit', 1), ('deforest', 1), ('degre', 1), ('dehuman', 1), ('delay', 1), ('deleg', 1), ('delet', 1), ('delici', 1), ('delight', 1), ('deliv', 1), ('deliveri', 1), ('dell', 1), ('delv', 1), ('demand', 1), ('demo', 1), ('democraci', 1), ('demonstr', 1), ('deni', 1), ('denim', 1), ('denni', 1), ('denot', 1), ('dens', 1), ('densiti', 1), ('depech', 1), ('depress', 1), ('describ', 1), ('deserv', 1), ('design', 1), ('designflaw', 1), ('designingforkid', 1), ('desk', 1), ('desktop', 1), ('desper', 1), ('despit', 1), ('destroy', 1), ('detail', 1), ('detect', 1), ('dev', 1), ('develop', 1), ('deviantart', 1), ('devic', 1), ('dexteria', 1), ('dfcbto', 1), ('dfp', 1), ('dfw', 1), ('dgtltribe', 1), ('diabet', 1), ('diali', 1), ('dictaphon', 1), ('dictatorship', 1), ('die', 1), ('diego', 1), ('diet', 1), ('diferencia', 1), ('diff', 1), ('differ', 1), ('dig', 1), ('digg', 1), ('digibiz', 1), ('digit', 1), ('dilemma', 1), ('diller', 1), ('dimension', 1), ('dine', 1), ('dinner', 1), ('direct', 1), ('director', 1), ('dirti', 1), ('dis', 1), ('disabl', 1), ('disagre', 1), ('disappoint', 1), ('disast', 1), ('disavow', 1), ('disc', 1), ('discotalk', 1), ('discov', 1), ('discoveri', 1), ('discovr', 1), ('discuss', 1), ('disgrac', 1), ('disgust', 1), ('dislik', 1), ('disney', 1), ('disneyland', 1), ('display', 1), ('disproportion', 1), ('disrupt', 1), ('dissapoint', 1), ('distanc', 1), ('distribut', 1), ('disturb', 1), ('disus', 1), ('ditch', 1), ('ditto', 1), ('divasanddork', 1), ('divid', 1), ('dividend', 1), ('dj', 1), ('djroe', 1), ('dk', 1), ('dl', 1), ('dm', 1), ('doc', 1), ('dock', 1), ('docomo', 1), ('document', 1), ('dodgebal', 1), ('dodo', 1), ('doesdroid', 1), ('dog', 1), ('dokobot', 1), ('dollar', 1), ('dom', 1), ('domain', 1), ('domin', 1), ('domo', 1), ('donat', 1), ('done', 1), ('dongl', 1), ('donlin', 1), ('dont', 1), ('dontbehatin', 1), ('doo', 1), ('doodl', 1), ('doofus', 1), ('door', 1), ('dorkinout', 1), ('dotco', 1), ('dotright', 1), ('doubl', 1), ('doubli', 1), ('doubt', 1), ('douch', 1), ('douchebag', 1), ('douchebaggeri', 1), ('dow', 1), ('download', 1), ('downsid', 1), ('downstair', 1), ('downtown', 1), ('dr_black', 1), ('drafthous', 1), ('drag', 1), ('drain', 1), ('draw', 1), ('dream', 1), ('drink', 1), ('drive', 1), ('driven', 1), ('driver', 1), ('droid', 1), ('drool', 1), ('drop', 1), ('drown', 1), ('drug', 1), ('drumrol', 1), ('drupalcon', 1), ('dst', 1), ('dt', 1), ('dtas', 1), ('duck', 1), ('dude', 1), ('due', 1), ('duh', 1), ('duke', 1), ('dump', 1), ('dunno', 1), ('durabl', 1), ('dwindl', 1), ('dyac', 1), ('dynam', 1), ('ea1zgd', 1), ('eager', 1), ('ear', 1), ('earbud', 1), ('earli', 1), ('earlier', 1), ('earn', 1), ('earphon', 1), ('earplug', 1), ('earth', 1), ('earthhour', 1), ('earthquak', 1), ('easelj', 1), ('easi', 1), ('easier', 1), ('eat', 1), ('eatdrinktweet', 1), ('ebay', 1), ('ebook', 1), ('echofon', 1), ('ecodriv', 1), ('economi', 1), ('ecosystem', 1), ('edibl', 1), ('edit', 1), ('edtech', 1), ('educ', 1), ('ef', 1), ('eff', 1), ('effect', 1), ('effici', 1), ('effort', 1), ('eg', 1), ('egomaniac', 1), ('eh', 1), ('either', 1), ('elbow', 1), ('elect', 1), ('electron', 1), ('eleg', 1), ('element', 1), ('elev', 1), ('ellen', 1), ('elonsxsw', 1), ('els', 1), ('email', 1), ('embarrass', 1), ('emc', 1), ('emin', 1), ('emot', 1), ('employe', 1), ('empow', 1), ('empti', 1), ('emul', 1), ('enabl', 1), ('enchant', 1), ('end', 1), ('endeavor', 1), ('endors', 1), ('energi', 1), ('engag', 1), ('engage365', 1), ('engin', 1), ('english', 1), ('enhanc', 1), ('enjoy', 1), ('enlighten', 1), ('enough', 1), ('ensu', 1), ('enter', 1), ('enterpris', 1), ('entertain', 1), ('entir', 1), ('entrepreneur', 1), ('entri', 1), ('enuf', 1), ('envi', 1), ('enviro', 1), ('environ', 1), ('environment', 1), ('envis', 1), ('epic', 1), ('epicent', 1), ('epicuri', 1), ('equiti', 1), ('er', 1), ('era', 1), ('eric', 1), ('error', 1), ('escap', 1), ('esp', 1), ('especi', 1), ('essenti', 1), ('estat', 1), ('et', 1), ('etc', 1), ('etch', 1), ('etsbzk', 1), ('etsi', 1), ('europ', 1), ('eurosxsw', 1), ('evad', 1), ('evapor', 1), ('even', 1), ('event', 1), ('eventbrit', 1), ('eventprof', 1), ('eventseekr', 1), ('eventu', 1), ('ever', 1), ('everbodi', 1), ('everi', 1), ('evernot', 1), ('everybodi', 1), ('everyday', 1), ('everyon', 1), ('everyth', 1), ('everytim', 1), ('everywher', 1), ('evid', 1), ('evil', 1), ('evo', 1), ('evolv', 1), ('evolvingworkplac', 1), ('ex', 1), ('exact', 1), ('exampl', 1), ('excel', 1), ('except', 1), ('exchang', 1), ('excit', 1), ('exclud', 1), ('exclus', 1), ('excus', 1), ('execut', 1), ('exhibit', 1), ('exhibitor', 1), ('exist', 1), ('expans', 1), ('expect', 1), ('expens', 1), ('experi', 1), ('experienti', 1), ('expert', 1), ('expier', 1), ('explain', 1), ('explan', 1), ('exploit', 1), ('explor', 1), ('export', 1), ('expos', 1), ('express', 1), ('exquisit', 1), ('extend', 1), ('extra', 1), ('extraordinari', 1), ('eye', 1), ('eyebal', 1), ('f6bcet', 1), ('fab', 1), ('fab5', 1), ('fabul', 1), ('face', 1), ('facebook', 1), ('facepalm', 1), ('facetim', 1), ('facist', 1), ('fact', 1), ('factor', 1), ('fade', 1), ('fail', 1), ('failur', 1), ('fair', 1), ('fake', 1), ('fals', 1), ('fam', 1), ('familiar', 1), ('famous', 1), ('fan', 1), ('fanboy', 1), ('fancraz', 1), ('fandango', 1), ('fantast', 1), ('fantastico', 1), ('far', 1), ('farm', 1), ('farmer', 1), ('farmvill', 1), ('farooqui', 1), ('fascin', 1), ('fascist', 1), ('fashion', 1), ('fast', 1), ('fastcompanygril', 1), ('fastcompanygrill', 1), ('faster', 1), ('fastest', 1), ('fastsocieti', 1), ('fat', 1), ('fathom', 1), ('faulti', 1), ('fav', 1), ('fave', 1), ('favorit', 1), ('favour', 1), ('fawn', 1), ('fb', 1), ('fear', 1), ('featur', 1), ('feckin', 1), ('fed', 1), ('fee', 1), ('feed', 1), ('feel', 1), ('feelin', 1), ('fell', 1), ('fellow', 1), ('fellowship', 1), ('felt', 1), ('ferri', 1), ('ferriss', 1), ('fess', 1), ('fest', 1), ('festgoer', 1), ('festiv', 1), ('festivalexplor', 1), ('festivalgenius', 1), ('fetish', 1), ('fewer', 1), ('ff', 1), ('fh', 1), ('fi', 1), ('field', 1), ('fiendish', 1), ('fight', 1), ('figur', 1), ('fill', 1), ('film', 1), ('filmast', 1), ('filter', 1), ('fin', 1), ('final', 1), ('finalist', 1), ('find', 1), ('finder', 1), ('fine', 1), ('finger', 1), ('fingerprint', 1), ('finish', 1), ('fire', 1), ('first', 1), ('firstworldproblem', 1), ('fish', 1), ('fist', 1), ('fit', 1), ('five', 1), ('fix', 1), ('flame', 1), ('flannel', 1), ('flash', 1), ('flashspeci', 1), ('flask', 1), ('flavor', 1), ('flaw', 1), ('flawless', 1), ('fleet', 1), ('flew', 1), ('fli', 1), ('flight', 1), ('flip', 1), ('flipboard', 1), ('float', 1), ('flock', 1), ('flood', 1), ('floor', 1), ('flop', 1), ('florian', 1), ('flow', 1), ('fludapp', 1), ('fluid', 1), ('flummox', 1), ('flypost', 1), ('fmsignal', 1), ('fo', 1), ('focus', 1), ('fogo', 1), ('folk', 1), ('follow', 1), ('fond', 1), ('fondl', 1), ('font', 1), ('food', 1), ('foodi', 1), ('foodspot', 1), ('fool', 1), ('foosspot', 1), ('foot', 1), ('footag', 1), ('footnot', 1), ('forb', 1), ('forbidden', 1), ('forc', 1), ('forecast', 1), ('forest', 1), ('forev', 1), ('forget', 1), ('forgo', 1), ('forgot', 1), ('forgotten', 1), ('form', 1), ('format', 1), ('former', 1), ('formula', 1), ('forward', 1), ('foster', 1), ('found', 1), ('four', 1), ('foursquar', 1), ('fr', 1), ('frabjous', 1), ('fragment', 1), ('franchis', 1), ('francisco', 1), ('franco', 1), ('frank', 1), ('franken', 1), ('freak', 1), ('free', 1), ('freespeech', 1), ('freez', 1), ('frenzi', 1), ('fresh', 1), ('fri', 1), ('frick', 1), ('frickin', 1), ('frid', 1), ('friday', 1), ('friend', 1), ('frm', 1), ('front', 1), ('frontend', 1), ('frood', 1), ('frostwir', 1), ('frothi', 1), ('frozen', 1), ('fruit', 1), ('frustrat', 1), ('ft', 1), ('ftp', 1), ('ftw', 1), ('fuck', 1), ('fuckit', 1), ('fuckyeah', 1), ('fuel', 1), ('full', 1), ('fulli', 1), ('fulltim', 1), ('fun', 1), ('function', 1), ('fundrais', 1), ('funni', 1), ('fusion', 1), ('futur', 1), ('futurecast', 1), ('futuremf', 1), ('futureoftouch', 1), ('fwd', 1), ('fxsw', 1), ('fyi', 1), ('fì_r', 1), ('g03mzb', 1), ('g2', 1), ('g4gzypv', 1), ('gabacustweet', 1), ('gadget', 1), ('gadgetenvi', 1), ('gadgetzilla', 1), ('gaga', 1), ('gah', 1), ('galaxi', 1), ('galleri', 1), ('game', 1), ('gamechang', 1), ('gamelay', 1), ('gamesfortv', 1), ('gamestorm', 1), ('gap', 1), ('garageband', 1), ('garyve', 1), ('gas', 1), ('gasp', 1), ('gatekeep', 1), ('gather', 1), ('gave', 1), ('gawk', 1), ('gay', 1), ('gayno', 1), ('gb', 1), ('gear', 1), ('gecko', 1), ('gee', 1), ('geek', 1), ('geekdat', 1), ('geekdilemma', 1), ('geekdom', 1), ('geekeri', 1), ('geekest', 1), ('geekfest', 1), ('geeki', 1), ('geekout', 1), ('geekspringbreak', 1), ('geeksrul', 1), ('geez', 1), ('gen', 1), ('general', 1), ('generat', 1), ('generous', 1), ('genius', 1), ('gent', 1), ('geo', 1), ('geogam', 1), ('geoloc', 1), ('germ', 1), ('gestur', 1), ('get', 1), ('getjarsxsw', 1), ('gettinng', 1), ('giant', 1), ('gibson', 1), ('giddi', 1), ('gift', 1), ('gig', 1), ('giggl', 1), ('gilt', 1), ('ginger', 1), ('girl', 1), ('girlcrush', 1), ('git', 1), ('gitchococktailon', 1), ('give', 1), ('giveaway', 1), ('given', 1), ('glad', 1), ('glass', 1), ('glenda', 1), ('glimps', 1), ('global', 1), ('globalbestaward', 1), ('glow', 1), ('glu', 1), ('gmail', 1), ('go', 1), ('go2', 1), ('god', 1), ('goddamn', 1), ('godsend', 1), ('goe', 1), ('goer', 1), ('goggl', 1), ('goggler', 1), ('gogo', 1), ('goin', 1), ('gold', 1), ('gone', 1), ('gonna', 1), ('gonnagetanipad2', 1), ('goo', 1), ('good', 1), ('goodcustomerservic', 1), ('goodde', 1), ('goodguid', 1), ('goodi', 1), ('goog', 1), ('googl', 1), ('googleblog', 1), ('googlebread', 1), ('googlecircl', 1), ('googledoodl', 1), ('googlegay', 1), ('googleio', 1), ('googlela', 1), ('googlemap', 1), ('googlemarch', 1), ('googleplac', 1), ('googletv', 1), ('goona', 1), ('got', 1), ('gotta', 1), ('gotten', 1), ('gotto', 1), ('govern', 1), ('govt', 1), ('gowalla', 1), ('gps', 1), ('gr2l2', 1), ('gr8', 1), ('grab', 1), ('gram', 1), ('gran', 1), ('grand', 1), ('grant', 1), ('grape', 1), ('graph', 1), ('graphic', 1), ('grate', 1), ('gratif', 1), ('great', 1), ('greater', 1), ('greatergood', 1), ('greatest', 1), ('greet', 1), ('griddler', 1), ('griffin', 1), ('grill', 1), ('grindr', 1), ('grn7pk', 1), ('groov', 1), ('ground', 1), ('group', 1), ('groupchatapp', 1), ('groupm', 1), ('groupon', 1), ('grow', 1), ('grown', 1), ('grrr', 1), ('grrrr', 1), ('grumbl', 1), ('gsd', 1), ('gsdm', 1), ('gswsxsw', 1), ('gt', 1), ('guard', 1), ('guardian', 1), ('guardianapp', 1), ('guess', 1), ('guest', 1), ('guguchu', 1), ('guid', 1), ('guidelin', 1), ('guild', 1), ('guilti', 1), ('guitar', 1), ('gun', 1), ('guru', 1), ('gut', 1), ('guy', 1), ('guykawasaki', 1), ('gvlrin', 1), ('gym', 1), ('h264', 1), ('h2o', 1), ('h4cker', 1), ('ha', 1), ('habit', 1), ('hack', 1), ('hackathon', 1), ('hacker', 1), ('hacknew', 1), ('hah', 1), ('haha', 1), ('hairi', 1), ('haiti', 1), ('half', 1), ('halfway', 1), ('hall', 1), ('hallway', 1), ('hamsandwich', 1), ('hand', 1), ('handi', 1), ('handicap', 1), ('handl', 1), ('handset', 1), ('handsom', 1), ('handwrit', 1), ('hang', 1), ('hangov', 1), ('hangover3', 1), ('hannukah', 1), ('happen', 1), ('happi', 1), ('happiest', 1), ('happili', 1), ('happyd', 1), ('har', 1), ('hard', 1), ('harlow', 1), ('harri', 1), ('hash', 1), ('hashabl', 1), ('hashtag', 1), ('hassl', 1), ('hate', 1), ('haul', 1), ('havent', 1), ('havnt', 1), ('hawk', 1), ('hawt', 1), ('haystack', 1), ('haz', 1), ('hcsm', 1), ('hdmi', 1), ('head', 1), ('headach', 1), ('headlin', 1), ('headphon', 1), ('headset', 1), ('health2dev', 1), ('hear', 1), ('heard', 1), ('heart', 1), ('heat', 1), ('heatmap', 1), ('heattrack', 1), ('heaven', 1), ('heavier', 1), ('heck', 1), ('held', 1), ('hell', 1), ('hello', 1), ('help', 1), ('hereforwork', 1), ('hesayswithtwohoursleft', 1), ('hey', 1), ('heyo', 1), ('hhaha', 1), ('hhrs', 1), ('hi', 1), ('hidden', 1), ('hide', 1), ('high', 1), ('higher', 1), ('highlight', 1), ('hijack', 1), ('hilari', 1), ('hill', 1), ('hilton', 1), ('hint', 1), ('hip', 1), ('hipstamat', 1), ('hipster', 1), ('hipstermuch', 1), ('hire', 1), ('hirem', 1), ('hirer', 1), ('hiss', 1), ('histori', 1), ('hisxsw', 1), ('hit', 1), ('hitlanti', 1), ('hive', 1), ('hls', 1), ('hm', 1), ('hmm', 1), ('hmmm', 1), ('hmmzi', 1), ('hobo', 1), ('hoc', 1), ('hold', 1), ('hole', 1), ('holi', 1), ('holla', 1), ('holler', 1), ('hollergram', 1), ('hollow', 1), ('hollrback', 1), ('hollywood', 1), ('holytrafficjam', 1), ('home', 1), ('homeless', 1), ('homepag', 1), ('honesti', 1), ('honor', 1), ('hoo', 1), ('hook', 1), ('hoooooooooooooo', 1), ('hooray', 1), ('hoot', 1), ('hootsuit', 1), ('hop', 1), ('hope', 1), ('hopkin', 1), ('hord', 1), ('horrend', 1), ('horribl', 1), ('horror', 1), ('host', 1), ('hot', 1), ('hotel', 1), ('hotpot', 1), ('hotspot', 1), ('hottest', 1), ('hour', 1), ('hous', 1), ('howdi', 1), ('howmto', 1), ('hp', 1), ('hpsxsw', 1), ('hr', 1), ('hrs', 1), ('ht', 1), ('htdfim', 1), ('html', 1), ('html5', 1), ('htt', 1), ('http', 1), ('https', 1), ('hubbi', 1), ('huge', 1), ('human', 1), ('hundr', 1), ('hunger', 1), ('hungri', 1), ('hunt', 1), ('hurricaneparti', 1), ('hurt', 1), ('husband', 1), ('huzzah', 1), ('hyatt', 1), ('hype', 1), ('i41h53', 1), ('ia', 1), ('iad', 1), ('iava', 1), ('ical', 1), ('icanha', 1), ('ice', 1), ('icebreak', 1), ('iconbuffet', 1), ('id', 1), ('id420666439', 1), ('idea', 1), ('ideal', 1), ('ident', 1), ('idioci', 1), ('idiot', 1), ('idk', 1), ('idol', 1), ('idontbeliev', 1), ('ie', 1), ('ie9', 1), ('ieavob', 1), ('ifrom', 1), ('ignit', 1), ('ignor', 1), ('igottagetit', 1), ('ihop', 1), ('il', 1), ('illa', 1), ('illeg', 1), ('illmakeitwork', 1), ('iloveasurpris', 1), ('im', 1), ('imac', 1), ('imag', 1), ('imagin', 1), ('imanidiot', 1), ('imanoutcast', 1), ('imho', 1), ('immers', 1), ('immobil', 1), ('imo', 1), ('imp1000', 1), ('impact', 1), ('impactdashboard', 1), ('impedi', 1), ('impedimenta', 1), ('implement', 1), ('implic', 1), ('implod', 1), ('import', 1), ('imposs', 1), ('impress', 1), ('impromptu', 1), ('improv', 1), ('improvemnt', 1), ('impuls', 1), ('imrich', 1), ('imthatgood', 1), ('in', 1), ('inan', 1), ('inbox', 1), ('incap', 1), ('incentic', 1), ('incl', 1), ('includ', 1), ('incorrect', 1), ('increas', 1), ('incred', 1), ('ind', 1), ('indic', 1), ('indigen', 1), ('individu', 1), ('indoor', 1), ('industri', 1), ('inertia', 1), ('infektd', 1), ('inferior', 1), ('influenc', 1), ('influx', 1), ('info', 1), ('inform', 1), ('ing', 1), ('ingeni', 1), ('initi', 1), ('ink', 1), ('innacur', 1), ('inner', 1), ('innotrib', 1), ('innov', 1), ('input', 1), ('insan', 1), ('insati', 1), ('insert', 1), ('insid', 1), ('insidi', 1), ('insight', 1), ('insist', 1), ('inspir', 1), ('instagram', 1), ('instal', 1), ('instant', 1), ('instead', 1), ('instrument', 1), ('integr', 1), ('intel', 1), ('intellig', 1), ('intend', 1), ('intens', 1), ('intent', 1), ('interact', 1), ('interest', 1), ('interfac', 1), ('intermitt', 1), ('intern', 1), ('internet', 1), ('internetonlinewebsit', 1), ('interrupt', 1), ('interview', 1), ('intim', 1), ('intimid', 1), ('intrestin', 1), ('intric', 1), ('intrigu', 1), ('intro', 1), ('introduc', 1), ('intrvw', 1), ('invad', 1), ('invent', 1), ('inventori', 1), ('invest', 1), ('investor', 1), ('invis', 1), ('invit', 1), ('invok', 1), ('io', 1), ('ip', 1), ('ip4', 1), ('ipad', 1), ('ipad1', 1), ('ipad2', 1), ('ipad2tim', 1), ('ipad_2', 1), ('ipaddesignheadach', 1), ('ipadmad', 1), ('iphon', 1), ('iphone4', 1), ('iphone5', 1), ('ipod', 1), ('ipoo', 1), ('iqlab', 1), ('iradar', 1), ('irelay', 1), ('ireport', 1), ('irish', 1), ('iron', 1), ('irrelev', 1), ('isack', 1), ('ischaf', 1), ('issu', 1), ('istach', 1), ('istock', 1), ('item', 1), ('ittttt', 1), ('itun', 1), ('itwillbemin', 1), ('iun', 1), ('iusxsw', 1), ('iwantacameraonmyipad', 1), ('jailbreak', 1), ('jaloux', 1), ('jame', 1), ('jammi', 1), ('janecek', 1), ('japan', 1), ('japanes', 1), ('jare', 1), ('java', 1), ('javascript', 1), ('jaw', 1), ('jcpenney', 1), ('jealous', 1), ('jean', 1), ('jeann', 1), ('jeebus', 1), ('jeez', 1), ('jeff', 1), ('jerk', 1), ('jerranalley', 1), ('jessede', 1), ('jet', 1), ('jetson', 1), ('jinx', 1), ('jk', 1), ('job', 1), ('jobs_co', 1), ('jobsco', 1), ('joe', 1), ('johnston', 1), ('join', 1), ('joke', 1), ('jonathan', 1), ('joomla', 1), ('jose', 1), ('josh', 1), ('journal', 1), ('journalist', 1), ('journalsim', 1), ('journey', 1), ('joy', 1), ('jpmobilesummit', 1), ('jqtouch', 1), ('jr', 1), ('js', 1), ('judg', 1), ('juic', 1), ('juicepack', 1), ('juli', 1), ('julian', 1), ('jump', 1), ('june', 1), ('justin', 1), ('justmet', 1), ('justsay', 1), ('jut', 1), ('jwtatl', 1), ('jzsxsw', 1), ('kara', 1), ('karaok', 1), ('karateka', 1), ('kawasaki', 1), ('keep', 1), ('keepaustinweird', 1), ('keg', 1), ('kek', 1), ('ken', 1), ('kenni', 1), ('ketchsx', 1), ('key', 1), ('keyboard', 1), ('keynot', 1), ('keyword', 1), ('khan', 1), ('khoi', 1), ('kick', 1), ('kickass', 1), ('kid', 1), ('kiddi', 1), ('kiiiiiill', 1), ('kill', 1), ('killcommun', 1), ('killer', 1), ('kind', 1), ('kinda', 1), ('kindl', 1), ('king', 1), ('kingston', 1), ('kiosk', 1), ('kirkus', 1), ('kiss', 1), ('kit', 1), ('klick', 1), ('klm', 1), ('knacker', 1), ('knew', 1), ('knicker', 1), ('knife', 1), ('knockout', 1), ('know', 1), ('knowledg', 1), ('known', 1), ('korean', 1), ('korin', 1), ('kthxbai', 1), ('kudo', 1), ('kweli', 1), ('kype', 1), ('l8er', 1), ('la', 1), ('lab', 1), ('lack', 1), ('ladi', 1), ('lake', 1), ('lame', 1), ('lamewad', 1), ('land', 1), ('landlord', 1), ('landmark', 1), ('landscap', 1), ('lanyrd', 1), ('lap', 1), ('laptop', 1), ('larg', 1), ('larger', 1), ('largest', 1), ('larri', 1), ('laser', 1), ('last', 1), ('lat', 1), ('late', 1), ('later', 1), ('latest', 1), ('latina', 1), ('latinasintech', 1), ('latism', 1), ('latitud', 1), ('laugh', 1), ('launch', 1), ('launchrock', 1), ('laurieshook', 1), ('lava', 1), ('lavell', 1), ('law', 1), ('lax', 1), ('lay', 1), ('layer', 1), ('lazi', 1), ('lazyweb', 1), ('lbs', 1), ('lead', 1), ('leagu', 1), ('leak', 1), ('lean', 1), ('leanstartup', 1), ('learn', 1), ('leas', 1), ('leash', 1), ('least', 1), ('leather', 1), ('leav', 1), ('left', 1), ('legaci', 1), ('lego', 1), ('leider', 1), ('leisur', 1), ('lemon', 1), ('leopard', 1), ('less', 1), ('lesson', 1), ('let', 1), ('letschangetheworld', 1), ('letshookup', 1), ('letter', 1), ('letushopenot', 1), ('level', 1), ('leverag', 1), ('lewi', 1), ('liberti', 1), ('librari', 1), ('lick', 1), ('lie', 1), ('life', 1), ('lifeless', 1), ('lifelinetotheworld', 1), ('lifetim', 1), ('light', 1), ('lightbox', 1), ('lightbulb', 1), ('lighter', 1), ('likabl', 1), ('like', 1), ('likeabl', 1), ('lil', 1), ('limit', 1), ('limp', 1), ('lindsay', 1), ('line', 1), ('lineup', 1), ('link', 1), ('lisa', 1), ('list', 1), ('listen', 1), ('liter', 1), ('litl', 1), ('littl', 1), ('live', 1), ('liveblog', 1), ('livesteam', 1), ('livetapp', 1), ('livingthedream', 1), ('load', 1), ('loath', 1), ('lobbi', 1), ('local', 1), ('localmind', 1), ('locat', 1), ('locker', 1), ('lockout', 1), ('logic', 1), ('login', 1), ('logo', 1), ('lol', 1), ('lone', 1), ('lonelyplanet', 1), ('long', 1), ('longer', 1), ('longlinesbadux', 1), ('look', 1), ('lookalik', 1), ('lookingforwardtothemusicfest', 1), ('loom', 1), ('loos', 1), ('looseorgan', 1), ('lord', 1), ('lordi', 1), ('lorri', 1), ('lose', 1), ('loser', 1), ('lost', 1), ('lot', 1), ('lotteri', 1), ('loud', 1), ('louisiana', 1), ('loung', 1), ('lousi', 1), ('love', 1), ('lovefresh', 1), ('loveh', 1), ('lovemusicapi', 1), ('lover', 1), ('lovesit', 1), ('lovin', 1), ('lowest', 1), ('loyalti', 1), ('lp', 1), ('lt', 1), ('luck', 1), ('lucki', 1), ('ludicon', 1), ('lug', 1), ('lunch', 1), ('lust', 1), ('lustr', 1), ('luxuri', 1), ('lxh', 1), ('ly', 1), ('lynn', 1), ('mac', 1), ('macallan', 1), ('macbook', 1), ('macbookpro', 1), ('macchiato', 1), ('machin', 1), ('maci', 1), ('mackbook', 1), ('mad', 1), ('made', 1), ('madebymani', 1), ('mae', 1), ('mag', 1), ('magazin', 1), ('maggi', 1), ('magic', 1), ('maglight', 1), ('magnet', 1), ('magnifi', 1), ('mahalo', 1), ('major', 1), ('make', 1), ('makeri', 1), ('makeshift', 1), ('maladi', 1), ('malbonst', 1), ('mall', 1), ('malt', 1), ('man', 1), ('manag', 1), ('manhandl', 1), ('mani', 1), ('mania', 1), ('manor', 1), ('mantra', 1), ('map', 1), ('mapper', 1), ('mapquest', 1), ('mar', 1), ('marcelosom', 1), ('march', 1), ('margarita', 1), ('margin', 1), ('mari', 1), ('marisa', 1), ('marissa', 1), ('marissagoogl', 1), ('marissamay', 1), ('marissamey', 1), ('mark', 1), ('market', 1), ('marketplac', 1), ('mart', 1), ('marti', 1), ('martini', 1), ('masha', 1), ('mashabl', 1), ('mashbash', 1), ('mass', 1), ('massiv', 1), ('master', 1), ('match', 1), ('mater', 1), ('math', 1), ('matt', 1), ('matter', 1), ('matthew', 1), ('maudi', 1), ('mavi', 1), ('may', 1), ('mayb', 1), ('mayer', 1), ('mayor', 1), ('mbp', 1), ('mccannsxsw', 1), ('mdw', 1), ('mealtim', 1), ('mean', 1), ('meaning', 1), ('meant', 1), ('measur', 1), ('meat', 1), ('mecca', 1), ('mechan', 1), ('media', 1), ('meet', 1), ('meetup', 1), ('mega', 1), ('megastor', 1), ('meh', 1), ('mekong', 1), ('mel', 1), ('member', 1), ('memolan', 1), ('memori', 1), ('men', 1), ('mention', 1), ('mentionn', 1), ('mentionr', 1), ('merchant', 1), ('merci', 1), ('mess', 1), ('messag', 1), ('messeng', 1), ('messina', 1), ('met', 1), ('metaphor', 1), ('methink', 1), ('mexican', 1), ('mhealth', 1), ('miamibeach', 1), ('mic', 1), ('michael', 1), ('michaelpiliero', 1), ('microformat', 1), ('microsoft', 1), ('mid', 1), ('midday', 1), ('middl', 1), ('midem', 1), ('midnight', 1), ('midst', 1), ('midway', 1), ('mifi', 1), ('might', 1), ('mike', 1), ('mile', 1), ('militari', 1), ('mill', 1), ('miller', 1), ('million', 1), ('min', 1), ('mind', 1), ('mindjet', 1), ('mindmanag', 1), ('mindshar', 1), ('mindstorm', 1), ('mine', 1), ('mini', 1), ('minimalistprogram', 1), ('minor', 1), ('mint', 1), ('minut', 1), ('miracl', 1), ('mirror', 1), ('miss', 1), ('mission', 1), ('misstat', 1), ('mistak', 1), ('mister', 1), ('mitharvard', 1), ('mix', 1), ('mk', 1), ('mkt', 1), ('mktg', 1), ('mmm', 1), ('mmod', 1), ('mnbuzz', 1), ('mngr', 1), ('mo', 1), ('mob', 1), ('mobil', 1), ('mobilefarm', 1), ('mobileroadi', 1), ('mock', 1), ('mode', 1), ('model', 1), ('moder', 1), ('mom', 1), ('moma', 1), ('moment', 1), ('momento', 1), ('mommi', 1), ('mon', 1), ('monday', 1), ('monet', 1), ('money', 1), ('monger', 1), ('monitor', 1), ('monopoli', 1), ('monster', 1), ('month', 1), ('mood', 1), ('moodi', 1), ('moonbot', 1), ('moonshin', 1), ('mophi', 1), ('moreknowledg', 1), ('morn', 1), ('morphi', 1), ('mosaicxm', 1), ('most', 1), ('mother', 1), ('motherboard', 1), ('motiv', 1), ('motorola', 1), ('mount', 1), ('mountain', 1), ('mous', 1), ('move', 1), ('movi', 1), ('mozilla', 1), ('mp', 1), ('mp3', 1), ('mq', 1), ('mr', 1), ('mrs', 1), ('msc_page', 1), ('msft', 1), ('mt', 1), ('much', 1), ('mullenweg', 1), ('multipl', 1), ('muro', 1), ('murphi', 1), ('museum', 1), ('music', 1), ('musica', 1), ('musician', 1), ('musicviz', 1), ('musiek', 1), ('musik', 1), ('musiqu', 1), ('must', 1), ('mute', 1), ('mwrc11', 1), ('mycub', 1), ('myegc', 1), ('mylunch', 1), ('mypov', 1), ('myspac', 1), ('mysteri', 1), ('nab', 1), ('nail', 1), ('naiv', 1), ('name', 1), ('naomi', 1), ('nat', 1), ('nationwid', 1), ('nativ', 1), ('natur', 1), ('navig', 1), ('nba', 1), ('nc', 1), ('ncaa', 1), ('near', 1), ('neat', 1), ('need', 1), ('needl', 1), ('neither', 1), ('nerd', 1), ('nerdbird', 1), ('nerdcor', 1), ('nerdheaven', 1), ('nerdi', 1), ('nerdiest', 1), ('nerdsunit', 1), ('ness', 1), ('netbook', 1), ('netflix', 1), ('netflixiphon', 1), ('network', 1), ('neumann', 1), ('never', 1), ('new', 1), ('newapplestoreaustin', 1), ('newest', 1), ('newli', 1), ('news', 1), ('newsapp', 1), ('newspap', 1), ('newtrent', 1), ('next', 1), ('nextflix', 1), ('nexus', 1), ('nfc', 1), ('nfl', 1), ('nhk', 1), ('nice', 1), ('nick', 1), ('nieuw', 1), ('nifti', 1), ('night', 1), ('nightjar', 1), ('nike', 1), ('nine', 1), ('nineti', 1), ('ning', 1), ('ninjafind', 1), ('nobodi', 1), ('noe', 1), ('nokia', 1), ('nokiaconnect', 1), ('non', 1), ('nonprofit', 1), ('noon', 1), ('nope', 1), ('normal', 1), ('notch', 1), ('note', 1), ('notebook', 1), ('notetak', 1), ('notevenstartedyet', 1), ('noth', 1), ('notic', 1), ('notionink', 1), ('notpout', 1), ('notsomuch', 1), ('nottheipad2', 1), ('notwin', 1), ('novelti', 1), ('novideo', 1), ('nowhammi', 1), ('npr', 1), ('nptech', 1), ('nten', 1), ('ntn', 1), ('nuanc', 1), ('nudgenudg', 1), ('numbassonfloor', 1), ('number', 1), ('nur', 1), ('nut', 1), ('nutshel', 1), ('nutter', 1), ('nvidia', 1), ('nxt', 1), ('nyc', 1), ('nyt', 1), ('ob', 1), ('object', 1), ('obnoxi', 1), ('observ', 1), ('obsess', 1), ('obsolet', 1), ('obv', 1), ('obvious', 1), ('occasion', 1), ('odd', 1), ('offer', 1), ('offic', 1), ('offici', 1), ('offlin', 1), ('offsit', 1), ('often', 1), ('ogilvi', 1), ('ogilvynot', 1), ('oh', 1), ('oil', 1), ('ok', 1), ('okay', 1), ('ol', 1), ('old', 1), ('oldschool', 1), ('oldsko0l', 1), ('omaha', 1), ('omfg', 1), ('omg', 1), ('omgz', 1), ('omit', 1), ('one', 1), ('onlin', 1), ('onto', 1), ('oo', 1), ('oooh', 1), ('ooooo', 1), ('open', 1), ('openbeta', 1), ('openbeta6', 1), ('openexhibit', 1), ('oper', 1), ('opinion', 1), ('opportun', 1), ('opposit', 1), ('optim', 1), ('optimist', 1), ('optimum', 1), ('option', 1), ('optiscan', 1), ('or', 1), ('orang', 1), ('order', 1), ('ordin', 1), ('org', 1), ('organ', 1), ('origin', 1), ('orkut', 1), ('orlando', 1), ('oscar', 1), ('osmpw', 1), ('ossum', 1), ('other', 1), ('otherwis', 1), ('ouch', 1), ('out', 1), ('outbrain', 1), ('outdid', 1), ('outlandish', 1), ('outlet', 1), ('outlook', 1), ('outsid', 1), ('overal', 1), ('overblown', 1), ('overcom', 1), ('overcrowd', 1), ('overflow', 1), ('overh', 1), ('overheard', 1), ('overlaid', 1), ('overlap', 1), ('overlay', 1), ('overload', 1), ('overs', 1), ('overshadow', 1), ('overtaken', 1), ('overview', 1), ('overwhelm', 1), ('owl', 1), ('owllov', 1), ('own', 1), ('owner', 1), ('oy', 1), ('pac', 1), ('pace', 1), ('pacif', 1), ('pack', 1), ('packrat', 1), ('padless', 1), ('page', 1), ('pagemak', 1), ('paid', 1), ('pain', 1), ('pair', 1), ('pak', 1), ('pakistan', 1), ('palett', 1), ('palsi', 1), ('pan', 1), ('pandora', 1), ('panel', 1), ('panelist', 1), ('panhandl', 1), ('panic', 1), ('pant', 1), ('paolo', 1), ('papa', 1), ('papasangr', 1), ('paper', 1), ('paperless', 1), ('papyrus', 1), ('para', 1), ('parachut', 1), ('parent', 1), ('parenthes', 1), ('pariah', 1), ('park', 1), ('part', 1), ('parti', 1), ('partial', 1), ('particip', 1), ('partner', 1), ('partnerhub', 1), ('partnership', 1), ('partytweet', 1), ('pass', 1), ('passag', 1), ('passeng', 1), ('passport', 1), ('passì', 1), ('past', 1), ('patch', 1), ('path', 1), ('patienc', 1), ('paul', 1), ('pauli', 1), ('paus', 1), ('pavement', 1), ('pay', 1), ('payingwithdata', 1), ('payment', 1), ('paypal', 1), ('pc', 1), ('pcbuzz', 1), ('pcma', 1), ('pcmag', 1), ('pdanet', 1), ('pdf', 1), ('pdx', 1), ('peak', 1), ('pearl', 1), ('peddl', 1), ('pedicab', 1), ('peek', 1), ('peep', 1), ('peer', 1), ('pen', 1), ('penetr', 1), ('pengairborn', 1), ('penguin', 1), ('peopl', 1), ('pep', 1), ('per', 1), ('percent', 1), ('percentag', 1), ('perfect', 1), ('perform', 1), ('perhap', 1), ('periscop', 1), ('perman', 1), ('perserver', 1), ('person', 1), ('pet', 1), ('peter', 1), ('petit', 1), ('petricon', 1), ('phenomen', 1), ('phew', 1), ('phone', 1), ('photo', 1), ('photobooth', 1), ('photoshar', 1), ('physic', 1), ('pi', 1), ('pic', 1), ('pick', 1), ('pickmeupanipad2', 1), ('pictur', 1), ('pie', 1), ('piec', 1), ('pig', 1), ('pigfuck', 1), ('pilhof', 1), ('pillow', 1), ('pinoy', 1), ('pipe', 1), ('piss', 1), ('pissedimnotgoingtosxsw', 1), ('pit', 1), ('pitch', 1), ('pitchfork', 1), ('pitfal', 1), ('pix', 1), ('pixel', 1), ('pixieengin', 1), ('place', 1), ('plagu', 1), ('plaid', 1), ('plain', 1), ('plan', 1), ('plancast', 1), ('plane', 1), ('planet', 1), ('planner', 1), ('plant', 1), ('planzai', 1), ('plate', 1), ('platform', 1), ('play', 1), ('playback', 1), ('playbook', 1), ('player', 1), ('playhopskoch', 1), ('playstat', 1), ('playsxsw', 1), ('pleas', 1), ('plenti', 1), ('pli', 1), ('pls', 1), ('plug', 1), ('pluge', 1), ('plugin', 1), ('plung', 1), ('plus', 1), ('pm', 1), ('pnid', 1), ('pocket', 1), ('podcast', 1), ('poetri', 1), ('point', 1), ('pointer', 1), ('polic', 1), ('polici', 1), ('polit', 1), ('pollak', 1), ('poni', 1), ('poo', 1), ('pool', 1), ('poor', 1), ('pop', 1), ('popplet', 1), ('poppop', 1), ('popul', 1), ('popular', 1), ('popup', 1), ('popupshop', 1), ('popupstor', 1), ('por', 1), ('porn', 1), ('port', 1), ('portabl', 1), ('pose', 1), ('posit', 1), ('possibl', 1), ('post', 1), ('postpc', 1), ('pot', 1), ('potenti', 1), ('pour', 1), ('poursit', 1), ('power', 1), ('powerhous', 1), ('powermat', 1), ('powermatteam', 1), ('powermattteam', 1), ('pp', 1), ('ppl', 1), ('pr', 1), ('practic', 1), ('pragmat', 1), ('pre', 1), ('preced', 1), ('precommerc', 1), ('prefer', 1), ('preferr', 1), ('prematur', 1), ('premier', 1), ('premium', 1), ('prep', 1), ('prepar', 1), ('presenc', 1), ('present', 1), ('preso', 1), ('press', 1), ('pressi', 1), ('pressur', 1), ('pretti', 1), ('prettycool', 1), ('prev', 1), ('preview', 1), ('previous', 1), ('price', 1), ('pride', 1), ('princess', 1), ('principl', 1), ('print', 1), ('prioriti', 1), ('privaci', 1), ('privat', 1), ('prize', 1), ('pro', 1), ('prob', 1), ('probabl', 1), ('problem', 1), ('process', 1), ('prodmktg', 1), ('produc', 1), ('product', 1), ('profession', 1), ('profil', 1), ('profit', 1), ('program', 1), ('progress', 1), ('progressbar', 1), ('project', 1), ('project314', 1), ('promis', 1), ('promo', 1), ('promot', 1), ('prompt', 1), ('proof', 1), ('prop', 1), ('proprietari', 1), ('protect', 1), ('protip', 1), ('protocol', 1), ('prototyp', 1), ('proud', 1), ('prove', 1), ('provid', 1), ('ps', 1), ('pseudoretweet', 1), ('psfk', 1), ('pst', 1), ('psych', 1), ('pub', 1), ('pubcamp', 1), ('public', 1), ('publish', 1), ('pull', 1), ('pump', 1), ('pun', 1), ('punchout', 1), ('puppi', 1), ('purchas', 1), ('pure', 1), ('puregenius', 1), ('purpos', 1), ('push', 1), ('pusher', 1), ('pushio', 1), ('pushsnowboard', 1), ('put', 1), ('puzzl', 1), ('q7a', 1), ('qa', 1), ('qagb', 1), ('qho', 1), ('qr', 1), ('qrafter', 1), ('qrank', 1), ('qrcode', 1), ('qs', 1), ('quadroid', 1), ('quak', 1), ('qualcomm', 1), ('qualifi', 1), ('qualiti', 1), ('quantiti', 1), ('quantter', 1), ('quarantin', 1), ('quarter', 1), ('que', 1), ('question', 1), ('queue', 1), ('quibid', 1), ('quibidswin', 1), ('quick', 1), ('quicker', 1), ('quiet', 1), ('quinn', 1), ('quit', 1), ('quot', 1), ('quotabl', 1), ('race', 1), ('rachael', 1), ('rad', 1), ('radic', 1), ('radio', 1), ('radius', 1), ('raffl', 1), ('rage', 1), ('rail', 1), ('rain', 1), ('rainjacket', 1), ('rais', 1), ('ralli', 1), ('ran', 1), ('rana', 1), ('random', 1), ('rang', 1), ('rank', 1), ('rant', 1), ('rare', 1), ('rate', 1), ('rather', 1), ('ratio', 1), ('ray', 1), ('reach', 1), ('reacquaint', 1), ('reaction', 1), ('read', 1), ('reader', 1), ('readership', 1), ('readi', 1), ('real', 1), ('realist', 1), ('realiti', 1), ('realiz', 1), ('realli', 1), ('realllllllli', 1), ('realtim', 1), ('rear', 1), ('reason', 1), ('rebecca', 1), ('rebeltv', 1), ('rebrand', 1), ('rec', 1), ('recap', 1), ('receiv', 1), ('recharg', 1), ('recip', 1), ('recipi', 1), ('reclaim', 1), ('reco', 1), ('recogn', 1), ('recognit', 1), ('recomd', 1), ('recommend', 1), ('record', 1), ('recoveri', 1), ('recreat', 1), ('recycl', 1), ('red', 1), ('redbox', 1), ('redbul', 1), ('reddit', 1), ('redicul', 1), ('reduc', 1), ('reel', 1), ('ref', 1), ('refer', 1), ('referr', 1), ('refin', 1), ('refresh', 1), ('refriger', 1), ('regard', 1), ('regel', 1), ('region', 1), ('regist', 1), ('registr', 1), ('regret', 1), ('regular', 1), ('rei', 1), ('reid', 1), ('reili', 1), ('reilli', 1), ('reject', 1), ('relat', 1), ('relationship', 1), ('relax', 1), ('releas', 1), ('relev', 1), ('reli', 1), ('relic', 1), ('relief', 1), ('religion', 1), ('relinquish', 1), ('reliv', 1), ('remain', 1), ('rematch', 1), ('remedi', 1), ('rememb', 1), ('remind', 1), ('remov', 1), ('render', 1), ('renew', 1), ('rent', 1), ('repair', 1), ('replac', 1), ('replenish', 1), ('repli', 1), ('replic', 1), ('report', 1), ('repress', 1), ('reproduc', 1), ('republ', 1), ('reput', 1), ('rerout', 1), ('rescu', 1), ('research', 1), ('reset', 1), ('resist', 1), ('resolv', 1), ('reson', 1), ('resourc', 1), ('respect', 1), ('respons', 1), ('rest', 1), ('restaur', 1), ('restor', 1), ('restraunt', 1), ('result', 1), ('resum', 1), ('retail', 1), ('retir', 1), ('retrollect', 1), ('return', 1), ('retweet', 1), ('reveal', 1), ('revel', 1), ('reveng', 1), ('revenu', 1), ('review', 1), ('revolt', 1), ('revolut', 1), ('revolutionari', 1), ('reward', 1), ('rewardswagon', 1), ('rf', 1), ('rhizom', 1), ('richard', 1), ('ridcul', 1), ('ride', 1), ('ridic', 1), ('ridicul', 1), ('rig', 1), ('rigeur', 1), ('right', 1), ('riley', 1), ('rim', 1), ('ring', 1), ('rinna', 1), ('riot', 1), ('rip', 1), ('rise', 1), ('rise_austin', 1), ('rite', 1), ('rival', 1), ('river', 1), ('rji', 1), ('rm', 1), ('road', 1), ('roadi', 1), ('roam', 1), ('robot', 1), ('rock', 1), ('rockarok', 1), ('rockin', 1), ('rockstach', 1), ('role', 1), ('roll', 1), ('roof', 1), ('room', 1), ('rosso', 1), ('rotat', 1), ('round', 1), ('rout', 1), ('row', 1), ('rpg', 1), ('rsq', 1), ('rsvp', 1), ('rt', 1), ('rub', 1), ('rule', 1), ('rumor', 1), ('rumour', 1), ('run', 1), ('runaround', 1), ('rww', 1), ('saatchini', 1), ('saber', 1), ('sabotag', 1), ('sad', 1), ('sadpanda', 1), ('safari', 1), ('said', 1), ('sale', 1), ('salesperson', 1), ('salon', 1), ('sam', 1), ('sampler', 1), ('samsung', 1), ('samsungmobileus', 1), ('san', 1), ('sandwich', 1), ('sangr', 1), ('sapient', 1), ('sat', 1), ('saturday', 1), ('sauc', 1), ('save', 1), ('savebrand', 1), ('saveustechi', 1), ('savvi', 1), ('saw', 1), ('say', 1), ('sayin', 1), ('saysshewithoutanipad', 1), ('scale', 1), ('scan', 1), ('scarborough', 1), ('scarbrough', 1), ('scare', 1), ('scarf', 1), ('scari', 1), ('scaveng', 1), ('scene', 1), ('sceptic', 1), ('sched', 1), ('schedul', 1), ('schema', 1), ('school', 1), ('schtuff', 1), ('schwag', 1), ('scienc', 1), ('scientif', 1), ('scope', 1), ('score', 1), ('scoremor', 1), ('scout', 1), ('scream', 1), ('screen', 1), ('sd', 1), ('sea', 1), ('search', 1), ('searchabl', 1), ('season', 1), ('seat', 1), ('seattl', 1), ('sec', 1), ('second', 1), ('secret', 1), ('secur', 1), ('see', 1), ('seem', 1), ('seen', 1), ('seenatsxsw2011', 1), ('seenocreepi', 1), ('seesmic', 1), ('select', 1), ('self', 1), ('selfish', 1), ('sell', 1), ('sem', 1), ('semant', 1), ('send', 1), ('sens', 1), ('sent', 1), ('seo', 1), ('separ', 1), ('septemb', 1), ('serendip', 1), ('serious', 1), ('serv', 1), ('server', 1), ('servic', 1), ('sesh', 1), ('session', 1), ('set', 1), ('seta', 1), ('settl', 1), ('setup', 1), ('sever', 1), ('sfo', 1), ('shade', 1), ('shakespear', 1), ('shall', 1), ('shallow', 1), ('shame', 1), ('shameless', 1), ('shape', 1), ('share', 1), ('shareabl', 1), ('sharer', 1), ('sharp', 1), ('shat', 1), ('shatter', 1), ('sheen', 1), ('sheepl', 1), ('shell', 1), ('shelv', 1), ('sheraton', 1), ('shift', 1), ('shill', 1), ('shiner', 1), ('shini', 1), ('shinmi', 1), ('ship', 1), ('shipment', 1), ('shirt', 1), ('shit', 1), ('shite', 1), ('shitti', 1), ('shock', 1), ('shoot', 1), ('shop', 1), ('short', 1), ('shortcut', 1), ('shorten', 1), ('shot', 1), ('shotgun', 1), ('shoulda', 1), ('shoulder', 1), ('shout', 1), ('show', 1), ('showcas', 1), ('showdown', 1), ('showusyouricrazi', 1), ('shrink', 1), ('shuffl', 1), ('shut', 1), ('sick', 1), ('side', 1), ('sigh', 1), ('sight', 1), ('sign', 1), ('signal', 1), ('silicon', 1), ('silli', 1), ('sillier', 1), ('silver', 1), ('similarili', 1), ('simpl', 1), ('simpli', 1), ('simultan', 1), ('sin', 1), ('sinc', 1), ('sing', 1), ('singl', 1), ('singular', 1), ('sip', 1), ('sis', 1), ('sister', 1), ('sisyphus', 1), ('sit', 1), ('sitbi', 1), ('site', 1), ('six', 1), ('sixth', 1), ('size', 1), ('skateboard', 1), ('skeptic', 1), ('sketch', 1), ('sketchi', 1), ('skier', 1), ('skill', 1), ('skinni', 1), ('skip', 1), ('skull', 1), ('skyfir', 1), ('skynet', 1), ('skype', 1), ('slap', 1), ('slate', 1), ('sleek', 1), ('sleep', 1), ('sleepi', 1), ('sleev', 1), ('slice', 1), ('slick', 1), ('slide', 1), ('slight', 1), ('slim', 1), ('slip', 1), ('sloanxsw', 1), ('slow', 1), ('slower', 1), ('slowli', 1), ('slowpok', 1), ('slp', 1), ('smackdown', 1), ('small', 1), ('smallbiz', 1), ('smaller', 1), ('smart', 1), ('smartcov', 1), ('smarter', 1), ('smartest', 1), ('smartphon', 1), ('smartth', 1), ('smash', 1), ('smcdalla', 1), ('smcomedyfyeah', 1), ('smell', 1), ('smile', 1), ('smileyparti', 1), ('smm', 1), ('smmnextgen', 1), ('smoke', 1), ('smooth', 1), ('smtravel', 1), ('smudgi', 1), ('smug', 1), ('smurf', 1), ('smut', 1), ('smvis', 1), ('smyle', 1), ('sn', 1), ('snag', 1), ('snakeheead', 1), ('snap', 1), ('snarki', 1), ('sneak', 1), ('sneaker', 1), ('sneaki', 1), ('socbiz', 1), ('social', 1), ('socialfuel', 1), ('socialmedia', 1), ('socialmediabum', 1), ('socialmus', 1), ('socialview', 1), ('societi', 1), ('sock', 1), ('socnet', 1), ('softbal', 1), ('softlay', 1), ('softwar', 1), ('sold', 1), ('sole', 1), ('solid', 1), ('solo', 1), ('solut', 1), ('solv', 1), ('somebodi', 1), ('someday', 1), ('somehow', 1), ('someon', 1), ('someth', 1), ('somewher', 1), ('song', 1), ('soni', 1), ('sono', 1), ('soo', 1), ('soon', 1), ('sore', 1), ('sorri', 1), ('sort', 1), ('sorta', 1), ('sound', 1), ('soundcloud', 1), ('sourc', 1), ('south', 1), ('southbi', 1), ('southpaw', 1), ('southwest', 1), ('space', 1), ('spank', 1), ('spark', 1), ('spasmat', 1), ('spazmat', 1), ('speak', 1), ('speakeasi', 1), ('speaker', 1), ('special', 1), ('specif', 1), ('speech', 1), ('speed', 1), ('speedup', 1), ('spell', 1), ('spend', 1), ('spent', 1), ('spi', 1), ('spider', 1), ('spill', 1), ('spin', 1), ('spirit', 1), ('spoil', 1), ('spoke', 1), ('spoken', 1), ('sponso', 1), ('sponsor', 1), ('spontanieti', 1), ('sport', 1), ('spot', 1), ('spread', 1), ('spring', 1), ('sprinkl', 1), ('sprint', 1), ('sq', 1), ('squar', 1), ('squeal', 1), ('squeez', 1), ('srsli', 1), ('st', 1), ('stabil', 1), ('stack', 1), ('staff', 1), ('stage', 1), ('stand', 1), ('standard', 1), ('star', 1), ('starbu', 1), ('starbuck', 1), ('stare', 1), ('starri', 1), ('start', 1), ('startup', 1), ('startupbus', 1), ('stat', 1), ('state', 1), ('statement', 1), ('station', 1), ('status', 1), ('stay', 1), ('steadi', 1), ('steal', 1), ('steami', 1), ('steampunk', 1), ('stellar', 1), ('step', 1), ('ster', 1), ('stereo', 1), ('steve', 1), ('sticker', 1), ('still', 1), ('stillman', 1), ('stock', 1), ('stogi', 1), ('stoke', 1), ('stole', 1), ('stolen', 1), ('stood', 1), ('stop', 1), ('storag', 1), ('store', 1), ('stori', 1), ('storm', 1), ('straight', 1), ('strang', 1), ('strangeproblem', 1), ('stranger', 1), ('strap', 1), ('strategi', 1), ('straw', 1), ('stream', 1), ('street', 1), ('streetview', 1), ('strength', 1), ('stress', 1), ('stretch', 1), ('strike', 1), ('strip', 1), ('strive', 1), ('stroke', 1), ('strong', 1), ('structur', 1), ('struggl', 1), ('strum', 1), ('stuck', 1), ('studentsforcleanwat', 1), ('studi', 1), ('studio', 1), ('stuff', 1), ('stumbl', 1), ('stumbledupon', 1), ('stun', 1), ('stunt', 1), ('stupid', 1), ('style', 1), ('stylish', 1), ('suasxsw', 1), ('subscript', 1), ('succeed', 1), ('success', 1), ('succumb', 1), ('suck', 1), ('sucka', 1), ('suckl', 1), ('sudden', 1), ('suffer', 1), ('suggest', 1), ('suicid', 1), ('sullivan', 1), ('sum', 1), ('summer', 1), ('summit', 1), ('sun', 1), ('sunday', 1), ('sundayswagg', 1), ('sunglass', 1), ('sunni', 1), ('super', 1), ('superbia', 1), ('suppli', 1), ('support', 1), ('suppos', 1), ('sure', 1), ('surfac', 1), ('surpass', 1), ('surplus', 1), ('surpris', 1), ('surround', 1), ('surui', 1), ('survey', 1), ('surviv', 1), ('suspens', 1), ('sustain', 1), ('sux', 1), ('suxsw', 1), ('svcs', 1), ('swag', 1), ('swarm', 1), ('sweater', 1), ('sweeeeet', 1), ('sweeeet', 1), ('sweepstak', 1), ('sweet', 1), ('swift', 1), ('swing', 1), ('swish', 1), ('swisher', 1), ('switch', 1), ('swonderlin', 1), ('swoon', 1), ('swsurrog', 1), ('swsx', 1), ('sxfl', 1), ('sxflip', 1), ('sxprotect', 1), ('sxsh', 1), ('sxsurrog', 1), ('sxsw', 1), ('sxsw11', 1), ('sxsw2011', 1), ('sxsw4japan', 1), ('sxswaccel', 1), ('sxswbarcrawl', 1), ('sxswbigbrand', 1), ('sxswbuffalo', 1), ('sxswchi', 1), ('sxswfail', 1), ('sxswgood', 1), ('sxswh', 1), ('sxswi', 1), ('sxswk', 1), ('sxswlatam', 1), ('sxswmobileapp', 1), ('sxswmoot', 1), ('sxswmusic', 1), ('sxswmymistak', 1), ('sxswnui', 1), ('sxswpass', 1), ('sxswsa', 1), ('sxswsex', 1), ('sxswsmall', 1), ('sxswtoolkit', 1), ('sxtxstate', 1), ('sxwsi', 1), ('sxxpress', 1), ('syke', 1), ('symbian', 1), ('symbol', 1), ('sync', 1), ('synch', 1), ('synergi', 1), ('system', 1), ('taariq', 1), ('tab', 1), ('tabl', 1), ('tablet', 1), ('taccsxsw', 1), ('taco', 1), ('tag', 1), ('take', 1), ('takeaway', 1), ('taken', 1), ('takeov', 1), ('takin', 1), ('talent', 1), ('talib', 1), ('talk', 1), ('tan', 1), ('tap', 1), ('tapworthi', 1), ('target', 1), ('task', 1), ('tast', 1), ('tattoo', 1), ('taught', 1), ('taunt', 1), ('tax', 1), ('taxi', 1), ('tbalina', 1), ('tbwasxsw', 1), ('tc', 1), ('tchin', 1), ('tdg', 1), ('teach', 1), ('team', 1), ('team_android', 1), ('teamandroid', 1), ('teamandroidsxsw', 1), ('tear', 1), ('teather', 1), ('tech', 1), ('tech4good', 1), ('tech_new', 1), ('techcrunch', 1), ('techenvi', 1), ('techgeek', 1), ('techi', 1), ('techiesunit', 1), ('technew', 1), ('technic', 1), ('techno', 1), ('technolog', 1), ('techrockstar', 1), ('techsmith', 1), ('tee', 1), ('teem', 1), ('teeni', 1), ('teeth', 1), ('telegraph', 1), ('teleport', 1), ('televis', 1), ('telework', 1), ('tell', 1), ('temp', 1), ('temperatur', 1), ('temporari', 1), ('tempt', 1), ('temptat', 1), ('ten', 1), ('tenet', 1), ('tent', 1), ('teo', 1), ('term', 1), ('termin', 1), ('terribl', 1), ('test', 1), ('tether', 1), ('texa', 1), ('texaseveri', 1), ('text', 1), ('th', 1), ('thank', 1), ('thanksforthebrandedshad', 1), ('thankyou', 1), ('thankyouecon', 1), ('the_daili', 1), ('theatr', 1), ('theem', 1), ('theft', 1), ('thegogam', 1), ('theindustryparti', 1), ('theme', 1), ('thenextweb', 1), ('theplatform', 1), ('ther', 1), ('therapi', 1), ('therebi', 1), ('therefor', 1), ('thewildernessdowntown', 1), ('thick', 1), ('thier', 1), ('thin', 1), ('thing', 1), ('thingsthatdontgotogeth', 1), ('think', 1), ('thinmint', 1), ('thinner', 1), ('third', 1), ('thirsti', 1), ('thisisdar', 1), ('tho', 1), ('thoma', 1), ('thoora', 1), ('though', 1), ('thought', 1), ('thousand', 1), ('threat', 1), ('three', 1), ('threw', 1), ('thrill', 1), ('throughout', 1), ('throw', 1), ('throwin', 1), ('thru', 1), ('tht', 1), ('thumb', 1), ('thunder', 1), ('thursday', 1), ('thus', 1), ('thx', 1), ('ticket', 1), ('tidbit', 1), ('tiff', 1), ('tigerblood', 1), ('til', 1), ('till', 1), ('tim', 1), ('timberlak', 1), ('time', 1), ('timechang', 1), ('timelin', 1), ('tini', 1), ('tinker', 1), ('tinyurl', 1), ('tip', 1), ('tis', 1), ('titl', 1), ('tix', 1), ('tkts', 1), ('tm', 1), ('tme', 1), ('tmobil', 1), ('tmr', 1), ('tmsxsw', 1), ('tnw', 1), ('tnx', 1), ('toast', 1), ('today', 1), ('toe', 1), ('togeth', 1), ('told', 1), ('tomlinson', 1), ('tomorrow', 1), ('ton', 1), ('tonchidot', 1), ('tonigh', 1), ('tonight', 1), ('toocoolforsxswanyway', 1), ('toodamnlucki', 1), ('took', 1), ('tool', 1), ('toolkit', 1), ('toolongform', 1), ('toooo', 1), ('top', 1), ('topic', 1), ('topnew', 1), ('topspin', 1), ('torch', 1), ('tore', 1), ('tortur', 1), ('total', 1), ('totalitarian', 1), ('tote', 1), ('touch', 1), ('touchingstori', 1), ('tough', 1), ('tougher', 1), ('tour', 1), ('tournament', 1), ('toward', 1), ('towel', 1), ('town', 1), ('toy', 1), ('track', 1), ('tracker', 1), ('trackpad', 1), ('tractor', 1), ('trade', 1), ('tradeshow', 1), ('tradit', 1), ('traffic', 1), ('trailer', 1), ('train', 1), ('trajan', 1), ('trampl', 1), ('transfer', 1), ('transient', 1), ('transit', 1), ('translat', 1), ('transpar', 1), ('trashi', 1), ('trauma', 1), ('travel', 1), ('treatment', 1), ('trench', 1), ('trend', 1), ('tri', 1), ('tribe', 1), ('trick', 1), ('trigger', 1), ('trip', 1), ('tron', 1), ('trophi', 1), ('troubl', 1), ('truck', 1), ('true', 1), ('truli', 1), ('trump', 1), ('trust', 1), ('trustworthi', 1), ('truth', 1), ('ts', 1), ('tshirt', 1), ('tsunami', 1), ('tt', 1), ('tub', 1), ('tube', 1), ('tuesday', 1), ('tumblr', 1), ('tunag', 1), ('tune', 1), ('tunehopp', 1), ('ture', 1), ('turkey', 1), ('turn', 1), ('tv', 1), ('tveverywher', 1), ('tvontheradio', 1), ('tvs', 1), ('tweep', 1), ('tweet', 1), ('tweetcast', 1), ('tweetdeck', 1), ('tweethous', 1), ('tweeti', 1), ('tweetignit', 1), ('tweetup', 1), ('twice', 1), ('twit', 1), ('twitpic', 1), ('twitter', 1), ('twitterpow', 1), ('two', 1), ('tx', 1), ('tye', 1), ('type', 1), ('tyson', 1), ('uber', 1), ('uberguid', 1), ('ubersoci', 1), ('ubertwitt', 1), ('ubiqu', 1), ('ubiquit', 1), ('ubuntu', 1), ('ugh', 1), ('ughhh', 1), ('ui', 1), ('um', 1), ('umassjour', 1), ('umm', 1), ('ummmm', 1), ('umshini', 1), ('un', 1), ('una', 1), ('unabash', 1), ('unadulter', 1), ('unbear', 1), ('unbeliev', 1), ('unbox', 1), ('uncategor', 1), ('uncharg', 1), ('unconfirm', 1), ('underestim', 1), ('underneath', 1), ('understand', 1), ('underway', 1), ('underwir', 1), ('undoubt', 1), ('unequip', 1), ('unexpect', 1), ('ungrat', 1), ('unimit', 1), ('uniqu', 1), ('unit', 1), ('univers', 1), ('unleash', 1), ('unless', 1), ('unlist', 1), ('unload', 1), ('unlock', 1), ('unoff', 1), ('unoffici', 1), ('unpack', 1), ('unpaid', 1), ('unreal', 1), ('unscientif', 1), ('unsix', 1), ('unstabl', 1), ('untap', 1), ('unus', 1), ('unveil', 1), ('uosxsw', 1), ('up', 1), ('upbeat', 1), ('upc', 1), ('updat', 1), ('upgrad', 1), ('upload', 1), ('uppward', 1), ('upset', 1), ('upsid', 1), ('ur', 1), ('urthot', 1), ('us', 1), ('usa', 1), ('usabl', 1), ('usag', 1), ('usb', 1), ('usd', 1), ('use', 1), ('useless', 1), ('user', 1), ('usguy', 1), ('ustream', 1), ('usual', 1), ('usurp', 1), ('util', 1), ('utter', 1), ('ux', 1), ('uxd', 1), ('uzu', 1), ('v1', 1), ('v2', 1), ('v3', 1), ('v5', 1), ('vacat', 1), ('valid', 1), ('valley', 1), ('valu', 1), ('valuabl', 1), ('vast', 1), ('vb', 1), ('vcard', 1), ('vector', 1), ('vega', 1), ('vegan', 1), ('vend', 1), ('venturebeat', 1), ('venu', 1), ('ver', 1), ('verizon', 1), ('verpixelungsrecht', 1), ('version', 1), ('veryslow', 1), ('vestibul', 1), ('vet', 1), ('veteran', 1), ('via', 1), ('viagra', 1), ('vibe', 1), ('vicari', 1), ('victim', 1), ('vid', 1), ('video', 1), ('videogam', 1), ('view', 1), ('view512', 1), ('vinh', 1), ('vintag', 1), ('vip', 1), ('virgin', 1), ('virtual', 1), ('virtualoffic', 1), ('virtualwallet', 1), ('visigoth', 1), ('visit', 1), ('visitor', 1), ('visual', 1), ('vmware', 1), ('voic', 1), ('voicefe', 1), ('volum', 1), ('volunt', 1), ('voluntarili', 1), ('vortex', 1), ('vote', 1), ('voxpop', 1), ('vp', 1), ('vs', 1), ('vuelta', 1), ('vufind', 1), ('vuvuzela', 1), ('w00t', 1), ('waaaaaa', 1), ('waaaambul', 1), ('wack', 1), ('wait', 1), ('wakeup', 1), ('wal', 1), ('walk', 1), ('walkin', 1), ('wall', 1), ('wallac', 1), ('walmart', 1), ('wam', 1), ('wander', 1), ('wanna', 1), ('wannab', 1), ('want', 1), ('war', 1), ('wari', 1), ('warmer', 1), ('warmth', 1), ('warn', 1), ('wast', 1), ('watch', 1), ('water', 1), ('waterproof', 1), ('watson', 1), ('wave', 1), ('way', 1), ('waze', 1), ('wcag', 1), ('wear', 1), ('weasel', 1), ('weather', 1), ('web', 1), ('web3', 1), ('web30', 1), ('webdoc', 1), ('webkit', 1), ('webmail', 1), ('webmast', 1), ('websit', 1), ('webvis', 1), ('wed', 1), ('week', 1), ('weekend', 1), ('weep', 1), ('weight', 1), ('weinschenk', 1), ('weird', 1), ('welcom', 1), ('weliveher', 1), ('well', 1), ('went', 1), ('wesley83', 1), ('weve', 1), ('wew', 1), ('whale', 1), ('whatcha', 1), ('whattt', 1), ('whether', 1), ('whimsic', 1), ('white', 1), ('whiteboard', 1), ('whoa', 1), ('whole', 1), ('whoooooo', 1), ('whoop', 1), ('whowillris', 1), ('whrrl', 1), ('wi', 1), ('wider', 1), ('widfi', 1), ('widget', 1), ('wife', 1), ('wifi', 1), ('wii', 1), ('wil', 1), ('wild', 1), ('wilder', 1), ('will', 1), ('william', 1), ('willpay', 1), ('willpow', 1), ('wilt', 1), ('win', 1), ('winamp', 1), ('window', 1), ('wine', 1), ('wing', 1), ('winner', 1), ('winsåê', 1), ('winsåêsxsw', 1), ('wintel', 1), ('winwin', 1), ('wipe', 1), ('wire', 1), ('wireless', 1), ('wise', 1), ('wish', 1), ('within', 1), ('withm', 1), ('without', 1), ('witti', 1), ('wjchat', 1), ('wk', 1), ('wkd', 1), ('wkend', 1), ('wknd', 1), ('woah', 1), ('wodpress', 1), ('woe', 1), ('wohooo', 1), ('woke', 1), ('wolfenstein', 1), ('wolfram', 1), ('woman', 1), ('women', 1), ('wonder', 1), ('woo', 1), ('woohoo', 1), ('wooooo', 1), ('woop', 1), ('woot', 1), ('word', 1), ('wordnerd', 1), ('wordpress', 1), ('work', 1), ('worker', 1), ('workin', 1), ('workspac', 1), ('world', 1), ('worldwid', 1), ('worn', 1), ('worri', 1), ('wors', 1), ('worst', 1), ('worth', 1), ('worthwhil', 1), ('wot', 1), ('would', 1), ('wow', 1), ('wowwwwww', 1), ('wozniak', 1), ('wp7', 1), ('wr', 1), ('wrap', 1), ('wrapper', 1), ('write', 1), ('writer', 1), ('wrong', 1), ('wrote', 1), ('wsj', 1), ('wssxsw', 1), ('wtf', 1), ('wth', 1), ('wundertablet', 1), ('wwsxsw', 1), ('www', 1), ('x6t1pi6av7', 1), ('xbox', 1), ('xd', 1), ('xipad', 1), ('xm', 1), ('xmas', 1), ('xml', 1), ('xoom', 1), ('xperia', 1), ('xwave', 1), ('ya', 1), ('yai', 1), ('yall', 1), ('yawn', 1), ('yay', 1), ('yea', 1), ('yeaayyy', 1), ('yeah', 1), ('year', 1), ('yeasay', 1), ('yeay', 1), ('yellow', 1), ('yelp', 1), ('yep', 1), ('yer', 1), ('yes', 1), ('yesterday', 1), ('yet', 1), ('yield', 1), ('yike', 1), ('yo', 1), ('yobongo', 1), ('yonker', 1), ('york', 1), ('youneedthi', 1), ('youtub', 1), ('yowza', 1), ('yr', 1), ('yrs', 1), ('yummi', 1), ('yup', 1), ('zaar', 1), ('zaarlyiscom', 1), ('zagg', 1), ('zaggl', 1), ('zappo', 1), ('zazzl', 1), ('zazzlesxsw', 1), ('zazzlsxsw', 1), ('ze', 1), ('zelda', 1), ('zeldman', 1), ('zero', 1), ('zimrid', 1), ('zing', 1), ('zip', 1), ('zite', 1), ('zms', 1), ('zombi', 1), ('zomg', 1), ('zone', 1), ('zoom', 1), ('zzzs', 1), ('¼¼', 1), ('á¾_î¾ð', 1), ('äá', 1), ('å_', 1), ('åç', 1), ('åçwhat', 1), ('çü', 1), ('èï', 1), ('ðü', 1), ('öý', 1), ('ù_¾', 1), ('û_', 1), ('ûª', 1), ('ûªll', 1), ('ûªm', 1), ('ûªs', 1), ('ûªt', 1), ('ûï', 1), ('ûï35', 1), ('ûïbutton', 1), ('ûïfoursquar', 1), ('ûïline', 1), ('ûïmore', 1), ('ûïmute', 1), ('ûïspecial', 1), ('ûïthe', 1), ('ûïview', 1), ('ûò', 1), ('ûòand', 1), ('ûó', 1), ('ûójust', 1), ('ûólewi', 1), ('ûóthe', 1)]\n"
     ]
    }
   ],
   "source": [
    "print(fdist.most_common())"
   ]
  },
  {
   "cell_type": "markdown",
   "metadata": {},
   "source": [
    "## Grid Search"
   ]
  },
  {
   "cell_type": "code",
   "execution_count": 36,
   "metadata": {},
   "outputs": [],
   "source": [
    "param_grid = {'n_estimators': [5, 10, 50, 100, 200],\n",
    "              'max_depth': [None, 5, 10],\n",
    "              'min_samples_split': [2, 5, 10, 20]}"
   ]
  },
  {
   "cell_type": "code",
   "execution_count": 37,
   "metadata": {},
   "outputs": [],
   "source": [
    "rf = RandomForestClassifier()"
   ]
  },
  {
   "cell_type": "code",
   "execution_count": 38,
   "metadata": {},
   "outputs": [],
   "source": [
    "grid_search = GridSearchCV(rf, param_grid, cv=5, scoring='accuracy')"
   ]
  },
  {
   "cell_type": "code",
   "execution_count": 39,
   "metadata": {},
   "outputs": [
    {
     "data": {
      "text/plain": [
       "GridSearchCV(cv=5, estimator=RandomForestClassifier(),\n",
       "             param_grid={'max_depth': [None, 5, 10],\n",
       "                         'min_samples_split': [2, 5, 10, 20],\n",
       "                         'n_estimators': [5, 10, 50, 100, 200]},\n",
       "             scoring='accuracy')"
      ]
     },
     "execution_count": 39,
     "metadata": {},
     "output_type": "execute_result"
    }
   ],
   "source": [
    "grid_search.fit(X_train, y_train)"
   ]
  },
  {
   "cell_type": "code",
   "execution_count": 40,
   "metadata": {},
   "outputs": [
    {
     "name": "stdout",
     "output_type": "stream",
     "text": [
      "Best parameters:  {'max_depth': None, 'min_samples_split': 2, 'n_estimators': 50}\n",
      "Best score:  0.8442262321339673\n"
     ]
    }
   ],
   "source": [
    "print(\"Best parameters: \", grid_search.best_params_)\n",
    "print(\"Best score: \", grid_search.best_score_)"
   ]
  },
  {
   "cell_type": "code",
   "execution_count": 53,
   "metadata": {},
   "outputs": [],
   "source": [
    "rf_tuned = RandomForestClassifier(n_estimators=50, max_depth= None, min_samples_split=2, random_state=42)"
   ]
  },
  {
   "cell_type": "code",
   "execution_count": 54,
   "metadata": {},
   "outputs": [
    {
     "data": {
      "text/plain": [
       "0.8528072837632777"
      ]
     },
     "execution_count": 54,
     "metadata": {},
     "output_type": "execute_result"
    }
   ],
   "source": [
    "rf_tuned.fit(X_train, y_train)\n",
    "rf_tuned.score(X_test, y_test)"
   ]
  },
  {
   "cell_type": "code",
   "execution_count": null,
   "metadata": {},
   "outputs": [],
   "source": []
  }
 ],
 "metadata": {
  "kernelspec": {
   "display_name": "Python (learn-env)",
   "language": "python",
   "name": "learn-env"
  },
  "language_info": {
   "codemirror_mode": {
    "name": "ipython",
    "version": 3
   },
   "file_extension": ".py",
   "mimetype": "text/x-python",
   "name": "python",
   "nbconvert_exporter": "python",
   "pygments_lexer": "ipython3",
   "version": "3.8.5"
  }
 },
 "nbformat": 4,
 "nbformat_minor": 4
}
