{
 "cells": [
  {
   "cell_type": "markdown",
   "metadata": {},
   "source": [
    "# Phase 4 project"
   ]
  },
  {
   "cell_type": "code",
   "execution_count": 2,
   "metadata": {
    "ExecuteTime": {
     "end_time": "2023-01-25T19:58:23.578016Z",
     "start_time": "2023-01-25T19:58:21.525305Z"
    }
   },
   "outputs": [],
   "source": [
    "import pandas as pd\n",
    "import numpy as np\n",
    "import matplotlib.pyplot as plt\n",
    "import seaborn as sns\n",
    "from sklearn.model_selection import train_test_split\n",
    "from sklearn.feature_extraction.text import CountVectorizer, TfidfVectorizer\n",
    "from sklearn.ensemble import RandomForestClassifier\n",
    "from nltk.corpus import stopwords\n",
    "from nltk.corpus import wordnet\n",
    "from nltk.tokenize import regexp_tokenize, word_tokenize, RegexpTokenizer\n",
    "import nltk\n",
    "from nltk import pos_tag\n",
    "from sklearn.naive_bayes import MultinomialNB\n",
    "from sklearn.model_selection import train_test_split, GridSearchCV, cross_val_score\n",
    "from sklearn.pipeline import Pipeline\n",
    "\n",
    "%matplotlib inline"
   ]
  },
  {
   "cell_type": "code",
   "execution_count": 3,
   "metadata": {
    "ExecuteTime": {
     "end_time": "2023-01-25T19:58:25.373494Z",
     "start_time": "2023-01-25T19:58:25.336818Z"
    }
   },
   "outputs": [],
   "source": [
    "data = pd.read_csv('data/judge-1377884607_tweet_product_company.csv', encoding='latin1')"
   ]
  },
  {
   "cell_type": "code",
   "execution_count": 4,
   "metadata": {
    "ExecuteTime": {
     "end_time": "2023-01-25T19:58:25.412959Z",
     "start_time": "2023-01-25T19:58:25.390887Z"
    },
    "scrolled": false
   },
   "outputs": [
    {
     "data": {
      "text/html": [
       "<div>\n",
       "<style scoped>\n",
       "    .dataframe tbody tr th:only-of-type {\n",
       "        vertical-align: middle;\n",
       "    }\n",
       "\n",
       "    .dataframe tbody tr th {\n",
       "        vertical-align: top;\n",
       "    }\n",
       "\n",
       "    .dataframe thead th {\n",
       "        text-align: right;\n",
       "    }\n",
       "</style>\n",
       "<table border=\"1\" class=\"dataframe\">\n",
       "  <thead>\n",
       "    <tr style=\"text-align: right;\">\n",
       "      <th></th>\n",
       "      <th>tweet_text</th>\n",
       "      <th>emotion_in_tweet_is_directed_at</th>\n",
       "      <th>is_there_an_emotion_directed_at_a_brand_or_product</th>\n",
       "    </tr>\n",
       "  </thead>\n",
       "  <tbody>\n",
       "    <tr>\n",
       "      <th>0</th>\n",
       "      <td>.@wesley83 I have a 3G iPhone. After 3 hrs twe...</td>\n",
       "      <td>iPhone</td>\n",
       "      <td>Negative emotion</td>\n",
       "    </tr>\n",
       "    <tr>\n",
       "      <th>1</th>\n",
       "      <td>@jessedee Know about @fludapp ? Awesome iPad/i...</td>\n",
       "      <td>iPad or iPhone App</td>\n",
       "      <td>Positive emotion</td>\n",
       "    </tr>\n",
       "    <tr>\n",
       "      <th>2</th>\n",
       "      <td>@swonderlin Can not wait for #iPad 2 also. The...</td>\n",
       "      <td>iPad</td>\n",
       "      <td>Positive emotion</td>\n",
       "    </tr>\n",
       "    <tr>\n",
       "      <th>3</th>\n",
       "      <td>@sxsw I hope this year's festival isn't as cra...</td>\n",
       "      <td>iPad or iPhone App</td>\n",
       "      <td>Negative emotion</td>\n",
       "    </tr>\n",
       "    <tr>\n",
       "      <th>4</th>\n",
       "      <td>@sxtxstate great stuff on Fri #SXSW: Marissa M...</td>\n",
       "      <td>Google</td>\n",
       "      <td>Positive emotion</td>\n",
       "    </tr>\n",
       "  </tbody>\n",
       "</table>\n",
       "</div>"
      ],
      "text/plain": [
       "                                          tweet_text  \\\n",
       "0  .@wesley83 I have a 3G iPhone. After 3 hrs twe...   \n",
       "1  @jessedee Know about @fludapp ? Awesome iPad/i...   \n",
       "2  @swonderlin Can not wait for #iPad 2 also. The...   \n",
       "3  @sxsw I hope this year's festival isn't as cra...   \n",
       "4  @sxtxstate great stuff on Fri #SXSW: Marissa M...   \n",
       "\n",
       "  emotion_in_tweet_is_directed_at  \\\n",
       "0                          iPhone   \n",
       "1              iPad or iPhone App   \n",
       "2                            iPad   \n",
       "3              iPad or iPhone App   \n",
       "4                          Google   \n",
       "\n",
       "  is_there_an_emotion_directed_at_a_brand_or_product  \n",
       "0                                   Negative emotion  \n",
       "1                                   Positive emotion  \n",
       "2                                   Positive emotion  \n",
       "3                                   Negative emotion  \n",
       "4                                   Positive emotion  "
      ]
     },
     "execution_count": 4,
     "metadata": {},
     "output_type": "execute_result"
    }
   ],
   "source": [
    "data.head()"
   ]
  },
  {
   "cell_type": "code",
   "execution_count": 5,
   "metadata": {
    "ExecuteTime": {
     "end_time": "2023-01-25T19:58:25.451748Z",
     "start_time": "2023-01-25T19:58:25.442771Z"
    }
   },
   "outputs": [],
   "source": [
    "# Change the column names so it can be more readable\n",
    "\n",
    "data.columns = ['tweet', 'product', 'sentiment']"
   ]
  },
  {
   "cell_type": "code",
   "execution_count": 6,
   "metadata": {
    "ExecuteTime": {
     "end_time": "2023-01-25T19:58:25.493608Z",
     "start_time": "2023-01-25T19:58:25.480515Z"
    },
    "scrolled": true
   },
   "outputs": [
    {
     "data": {
      "text/html": [
       "<div>\n",
       "<style scoped>\n",
       "    .dataframe tbody tr th:only-of-type {\n",
       "        vertical-align: middle;\n",
       "    }\n",
       "\n",
       "    .dataframe tbody tr th {\n",
       "        vertical-align: top;\n",
       "    }\n",
       "\n",
       "    .dataframe thead th {\n",
       "        text-align: right;\n",
       "    }\n",
       "</style>\n",
       "<table border=\"1\" class=\"dataframe\">\n",
       "  <thead>\n",
       "    <tr style=\"text-align: right;\">\n",
       "      <th></th>\n",
       "      <th>tweet</th>\n",
       "      <th>product</th>\n",
       "      <th>sentiment</th>\n",
       "    </tr>\n",
       "  </thead>\n",
       "  <tbody>\n",
       "    <tr>\n",
       "      <th>0</th>\n",
       "      <td>.@wesley83 I have a 3G iPhone. After 3 hrs twe...</td>\n",
       "      <td>iPhone</td>\n",
       "      <td>Negative emotion</td>\n",
       "    </tr>\n",
       "    <tr>\n",
       "      <th>1</th>\n",
       "      <td>@jessedee Know about @fludapp ? Awesome iPad/i...</td>\n",
       "      <td>iPad or iPhone App</td>\n",
       "      <td>Positive emotion</td>\n",
       "    </tr>\n",
       "    <tr>\n",
       "      <th>2</th>\n",
       "      <td>@swonderlin Can not wait for #iPad 2 also. The...</td>\n",
       "      <td>iPad</td>\n",
       "      <td>Positive emotion</td>\n",
       "    </tr>\n",
       "    <tr>\n",
       "      <th>3</th>\n",
       "      <td>@sxsw I hope this year's festival isn't as cra...</td>\n",
       "      <td>iPad or iPhone App</td>\n",
       "      <td>Negative emotion</td>\n",
       "    </tr>\n",
       "    <tr>\n",
       "      <th>4</th>\n",
       "      <td>@sxtxstate great stuff on Fri #SXSW: Marissa M...</td>\n",
       "      <td>Google</td>\n",
       "      <td>Positive emotion</td>\n",
       "    </tr>\n",
       "  </tbody>\n",
       "</table>\n",
       "</div>"
      ],
      "text/plain": [
       "                                               tweet             product  \\\n",
       "0  .@wesley83 I have a 3G iPhone. After 3 hrs twe...              iPhone   \n",
       "1  @jessedee Know about @fludapp ? Awesome iPad/i...  iPad or iPhone App   \n",
       "2  @swonderlin Can not wait for #iPad 2 also. The...                iPad   \n",
       "3  @sxsw I hope this year's festival isn't as cra...  iPad or iPhone App   \n",
       "4  @sxtxstate great stuff on Fri #SXSW: Marissa M...              Google   \n",
       "\n",
       "          sentiment  \n",
       "0  Negative emotion  \n",
       "1  Positive emotion  \n",
       "2  Positive emotion  \n",
       "3  Negative emotion  \n",
       "4  Positive emotion  "
      ]
     },
     "execution_count": 6,
     "metadata": {},
     "output_type": "execute_result"
    }
   ],
   "source": [
    "data.head()"
   ]
  },
  {
   "cell_type": "code",
   "execution_count": 7,
   "metadata": {
    "ExecuteTime": {
     "end_time": "2023-01-25T19:58:25.547299Z",
     "start_time": "2023-01-25T19:58:25.521369Z"
    },
    "scrolled": true
   },
   "outputs": [
    {
     "data": {
      "text/plain": [
       "No emotion toward brand or product    5389\n",
       "Positive emotion                      2978\n",
       "Negative emotion                       570\n",
       "I can't tell                           156\n",
       "Name: sentiment, dtype: int64"
      ]
     },
     "execution_count": 7,
     "metadata": {},
     "output_type": "execute_result"
    }
   ],
   "source": [
    "data.sentiment.value_counts()"
   ]
  },
  {
   "cell_type": "code",
   "execution_count": 8,
   "metadata": {
    "ExecuteTime": {
     "end_time": "2023-01-25T19:58:25.599206Z",
     "start_time": "2023-01-25T19:58:25.585020Z"
    }
   },
   "outputs": [],
   "source": [
    "df = data[(data['sentiment'] == \"Negative emotion\") | (data['sentiment'] == \"Positive emotion\")]"
   ]
  },
  {
   "cell_type": "code",
   "execution_count": 9,
   "metadata": {
    "ExecuteTime": {
     "end_time": "2023-01-25T19:58:25.641149Z",
     "start_time": "2023-01-25T19:58:25.628173Z"
    }
   },
   "outputs": [],
   "source": [
    "df = data.dropna(axis=0)"
   ]
  },
  {
   "cell_type": "code",
   "execution_count": 10,
   "metadata": {
    "ExecuteTime": {
     "end_time": "2023-01-25T19:58:25.682478Z",
     "start_time": "2023-01-25T19:58:25.663960Z"
    },
    "scrolled": true
   },
   "outputs": [
    {
     "data": {
      "text/html": [
       "<div>\n",
       "<style scoped>\n",
       "    .dataframe tbody tr th:only-of-type {\n",
       "        vertical-align: middle;\n",
       "    }\n",
       "\n",
       "    .dataframe tbody tr th {\n",
       "        vertical-align: top;\n",
       "    }\n",
       "\n",
       "    .dataframe thead th {\n",
       "        text-align: right;\n",
       "    }\n",
       "</style>\n",
       "<table border=\"1\" class=\"dataframe\">\n",
       "  <thead>\n",
       "    <tr style=\"text-align: right;\">\n",
       "      <th></th>\n",
       "      <th>tweet</th>\n",
       "      <th>product</th>\n",
       "      <th>sentiment</th>\n",
       "    </tr>\n",
       "  </thead>\n",
       "  <tbody>\n",
       "    <tr>\n",
       "      <th>0</th>\n",
       "      <td>.@wesley83 I have a 3G iPhone. After 3 hrs twe...</td>\n",
       "      <td>iPhone</td>\n",
       "      <td>Negative emotion</td>\n",
       "    </tr>\n",
       "    <tr>\n",
       "      <th>1</th>\n",
       "      <td>@jessedee Know about @fludapp ? Awesome iPad/i...</td>\n",
       "      <td>iPad or iPhone App</td>\n",
       "      <td>Positive emotion</td>\n",
       "    </tr>\n",
       "    <tr>\n",
       "      <th>2</th>\n",
       "      <td>@swonderlin Can not wait for #iPad 2 also. The...</td>\n",
       "      <td>iPad</td>\n",
       "      <td>Positive emotion</td>\n",
       "    </tr>\n",
       "    <tr>\n",
       "      <th>3</th>\n",
       "      <td>@sxsw I hope this year's festival isn't as cra...</td>\n",
       "      <td>iPad or iPhone App</td>\n",
       "      <td>Negative emotion</td>\n",
       "    </tr>\n",
       "    <tr>\n",
       "      <th>4</th>\n",
       "      <td>@sxtxstate great stuff on Fri #SXSW: Marissa M...</td>\n",
       "      <td>Google</td>\n",
       "      <td>Positive emotion</td>\n",
       "    </tr>\n",
       "    <tr>\n",
       "      <th>...</th>\n",
       "      <td>...</td>\n",
       "      <td>...</td>\n",
       "      <td>...</td>\n",
       "    </tr>\n",
       "    <tr>\n",
       "      <th>9077</th>\n",
       "      <td>@mention your PR guy just convinced me to swit...</td>\n",
       "      <td>iPhone</td>\n",
       "      <td>Positive emotion</td>\n",
       "    </tr>\n",
       "    <tr>\n",
       "      <th>9079</th>\n",
       "      <td>&amp;quot;papyrus...sort of like the ipad&amp;quot; - ...</td>\n",
       "      <td>iPad</td>\n",
       "      <td>Positive emotion</td>\n",
       "    </tr>\n",
       "    <tr>\n",
       "      <th>9080</th>\n",
       "      <td>Diller says Google TV &amp;quot;might be run over ...</td>\n",
       "      <td>Other Google product or service</td>\n",
       "      <td>Negative emotion</td>\n",
       "    </tr>\n",
       "    <tr>\n",
       "      <th>9085</th>\n",
       "      <td>I've always used Camera+ for my iPhone b/c it ...</td>\n",
       "      <td>iPad or iPhone App</td>\n",
       "      <td>Positive emotion</td>\n",
       "    </tr>\n",
       "    <tr>\n",
       "      <th>9088</th>\n",
       "      <td>Ipad everywhere. #SXSW {link}</td>\n",
       "      <td>iPad</td>\n",
       "      <td>Positive emotion</td>\n",
       "    </tr>\n",
       "  </tbody>\n",
       "</table>\n",
       "<p>3291 rows × 3 columns</p>\n",
       "</div>"
      ],
      "text/plain": [
       "                                                  tweet  \\\n",
       "0     .@wesley83 I have a 3G iPhone. After 3 hrs twe...   \n",
       "1     @jessedee Know about @fludapp ? Awesome iPad/i...   \n",
       "2     @swonderlin Can not wait for #iPad 2 also. The...   \n",
       "3     @sxsw I hope this year's festival isn't as cra...   \n",
       "4     @sxtxstate great stuff on Fri #SXSW: Marissa M...   \n",
       "...                                                 ...   \n",
       "9077  @mention your PR guy just convinced me to swit...   \n",
       "9079  &quot;papyrus...sort of like the ipad&quot; - ...   \n",
       "9080  Diller says Google TV &quot;might be run over ...   \n",
       "9085  I've always used Camera+ for my iPhone b/c it ...   \n",
       "9088                      Ipad everywhere. #SXSW {link}   \n",
       "\n",
       "                              product         sentiment  \n",
       "0                              iPhone  Negative emotion  \n",
       "1                  iPad or iPhone App  Positive emotion  \n",
       "2                                iPad  Positive emotion  \n",
       "3                  iPad or iPhone App  Negative emotion  \n",
       "4                              Google  Positive emotion  \n",
       "...                               ...               ...  \n",
       "9077                           iPhone  Positive emotion  \n",
       "9079                             iPad  Positive emotion  \n",
       "9080  Other Google product or service  Negative emotion  \n",
       "9085               iPad or iPhone App  Positive emotion  \n",
       "9088                             iPad  Positive emotion  \n",
       "\n",
       "[3291 rows x 3 columns]"
      ]
     },
     "execution_count": 10,
     "metadata": {},
     "output_type": "execute_result"
    }
   ],
   "source": [
    "df"
   ]
  },
  {
   "cell_type": "code",
   "execution_count": 11,
   "metadata": {
    "ExecuteTime": {
     "end_time": "2023-01-25T19:58:25.729416Z",
     "start_time": "2023-01-25T19:58:25.716310Z"
    },
    "scrolled": true
   },
   "outputs": [
    {
     "data": {
      "text/plain": [
       "iPad                               946\n",
       "Apple                              661\n",
       "iPad or iPhone App                 470\n",
       "Google                             430\n",
       "iPhone                             297\n",
       "Other Google product or service    293\n",
       "Android App                         81\n",
       "Android                             78\n",
       "Other Apple product or service      35\n",
       "Name: product, dtype: int64"
      ]
     },
     "execution_count": 11,
     "metadata": {},
     "output_type": "execute_result"
    }
   ],
   "source": [
    "df['product'].value_counts()"
   ]
  },
  {
   "cell_type": "code",
   "execution_count": 12,
   "metadata": {
    "ExecuteTime": {
     "end_time": "2023-01-25T19:58:25.780183Z",
     "start_time": "2023-01-25T19:58:25.752243Z"
    }
   },
   "outputs": [
    {
     "data": {
      "text/plain": [
       "tweet        0\n",
       "product      0\n",
       "sentiment    0\n",
       "dtype: int64"
      ]
     },
     "execution_count": 12,
     "metadata": {},
     "output_type": "execute_result"
    }
   ],
   "source": [
    "df.isnull().sum()"
   ]
  },
  {
   "cell_type": "code",
   "execution_count": 13,
   "metadata": {
    "ExecuteTime": {
     "end_time": "2023-01-25T19:58:25.843738Z",
     "start_time": "2023-01-25T19:58:25.827434Z"
    }
   },
   "outputs": [
    {
     "name": "stdout",
     "output_type": "stream",
     "text": [
      "<class 'pandas.core.frame.DataFrame'>\n",
      "Int64Index: 3291 entries, 0 to 9088\n",
      "Data columns (total 3 columns):\n",
      " #   Column     Non-Null Count  Dtype \n",
      "---  ------     --------------  ----- \n",
      " 0   tweet      3291 non-null   object\n",
      " 1   product    3291 non-null   object\n",
      " 2   sentiment  3291 non-null   object\n",
      "dtypes: object(3)\n",
      "memory usage: 102.8+ KB\n"
     ]
    }
   ],
   "source": [
    "df.info()"
   ]
  },
  {
   "cell_type": "markdown",
   "metadata": {},
   "source": [
    "Pre-processing"
   ]
  },
  {
   "cell_type": "code",
   "execution_count": 14,
   "metadata": {
    "ExecuteTime": {
     "end_time": "2023-01-25T19:58:28.102320Z",
     "start_time": "2023-01-25T19:58:25.883105Z"
    }
   },
   "outputs": [
    {
     "name": "stdout",
     "output_type": "stream",
     "text": [
      "Requirement already satisfied: pandas in c:\\users\\natek\\anaconda3\\envs\\learn-env\\lib\\site-packages (1.1.3)\n",
      "Requirement already satisfied: numpy>=1.15.4 in c:\\users\\natek\\anaconda3\\envs\\learn-env\\lib\\site-packages (from pandas) (1.22.0)\n",
      "Requirement already satisfied: pytz>=2017.2 in c:\\users\\natek\\anaconda3\\envs\\learn-env\\lib\\site-packages (from pandas) (2020.1)\n",
      "Requirement already satisfied: python-dateutil>=2.7.3 in c:\\users\\natek\\anaconda3\\envs\\learn-env\\lib\\site-packages (from pandas) (2.8.2)\n",
      "Requirement already satisfied: six>=1.5 in c:\\users\\natek\\anaconda3\\envs\\learn-env\\lib\\site-packages (from python-dateutil>=2.7.3->pandas) (1.15.0)\n",
      "Note: you may need to restart the kernel to use updated packages.\n"
     ]
    }
   ],
   "source": [
    "pip install pandas"
   ]
  },
  {
   "cell_type": "code",
   "execution_count": 15,
   "metadata": {
    "ExecuteTime": {
     "end_time": "2023-01-25T19:58:28.323590Z",
     "start_time": "2023-01-25T19:58:28.132071Z"
    }
   },
   "outputs": [
    {
     "name": "stdout",
     "output_type": "stream",
     "text": [
      "$: dollar\n",
      "    $ -$ --$ A$ C$ HK$ M$ NZ$ S$ U.S.$ US$\n",
      "'': closing quotation mark\n",
      "    ' ''\n",
      "(: opening parenthesis\n",
      "    ( [ {\n",
      "): closing parenthesis\n",
      "    ) ] }\n",
      ",: comma\n",
      "    ,\n",
      "--: dash\n",
      "    --\n",
      ".: sentence terminator\n",
      "    . ! ?\n",
      ":: colon or ellipsis\n",
      "    : ; ...\n",
      "CC: conjunction, coordinating\n",
      "    & 'n and both but either et for less minus neither nor or plus so\n",
      "    therefore times v. versus vs. whether yet\n",
      "CD: numeral, cardinal\n",
      "    mid-1890 nine-thirty forty-two one-tenth ten million 0.5 one forty-\n",
      "    seven 1987 twenty '79 zero two 78-degrees eighty-four IX '60s .025\n",
      "    fifteen 271,124 dozen quintillion DM2,000 ...\n",
      "DT: determiner\n",
      "    all an another any both del each either every half la many much nary\n",
      "    neither no some such that the them these this those\n",
      "EX: existential there\n",
      "    there\n",
      "FW: foreign word\n",
      "    gemeinschaft hund ich jeux habeas Haementeria Herr K'ang-si vous\n",
      "    lutihaw alai je jour objets salutaris fille quibusdam pas trop Monte\n",
      "    terram fiche oui corporis ...\n",
      "IN: preposition or conjunction, subordinating\n",
      "    astride among uppon whether out inside pro despite on by throughout\n",
      "    below within for towards near behind atop around if like until below\n",
      "    next into if beside ...\n",
      "JJ: adjective or numeral, ordinal\n",
      "    third ill-mannered pre-war regrettable oiled calamitous first separable\n",
      "    ectoplasmic battery-powered participatory fourth still-to-be-named\n",
      "    multilingual multi-disciplinary ...\n",
      "JJR: adjective, comparative\n",
      "    bleaker braver breezier briefer brighter brisker broader bumper busier\n",
      "    calmer cheaper choosier cleaner clearer closer colder commoner costlier\n",
      "    cozier creamier crunchier cuter ...\n",
      "JJS: adjective, superlative\n",
      "    calmest cheapest choicest classiest cleanest clearest closest commonest\n",
      "    corniest costliest crassest creepiest crudest cutest darkest deadliest\n",
      "    dearest deepest densest dinkiest ...\n",
      "LS: list item marker\n",
      "    A A. B B. C C. D E F First G H I J K One SP-44001 SP-44002 SP-44005\n",
      "    SP-44007 Second Third Three Two * a b c d first five four one six three\n",
      "    two\n",
      "MD: modal auxiliary\n",
      "    can cannot could couldn't dare may might must need ought shall should\n",
      "    shouldn't will would\n",
      "NN: noun, common, singular or mass\n",
      "    common-carrier cabbage knuckle-duster Casino afghan shed thermostat\n",
      "    investment slide humour falloff slick wind hyena override subhumanity\n",
      "    machinist ...\n",
      "NNP: noun, proper, singular\n",
      "    Motown Venneboerger Czestochwa Ranzer Conchita Trumplane Christos\n",
      "    Oceanside Escobar Kreisler Sawyer Cougar Yvette Ervin ODI Darryl CTCA\n",
      "    Shannon A.K.C. Meltex Liverpool ...\n",
      "NNPS: noun, proper, plural\n",
      "    Americans Americas Amharas Amityvilles Amusements Anarcho-Syndicalists\n",
      "    Andalusians Andes Andruses Angels Animals Anthony Antilles Antiques\n",
      "    Apache Apaches Apocrypha ...\n",
      "NNS: noun, common, plural\n",
      "    undergraduates scotches bric-a-brac products bodyguards facets coasts\n",
      "    divestitures storehouses designs clubs fragrances averages\n",
      "    subjectivists apprehensions muses factory-jobs ...\n",
      "PDT: pre-determiner\n",
      "    all both half many quite such sure this\n",
      "POS: genitive marker\n",
      "    ' 's\n",
      "PRP: pronoun, personal\n",
      "    hers herself him himself hisself it itself me myself one oneself ours\n",
      "    ourselves ownself self she thee theirs them themselves they thou thy us\n",
      "PRP$: pronoun, possessive\n",
      "    her his mine my our ours their thy your\n",
      "RB: adverb\n",
      "    occasionally unabatingly maddeningly adventurously professedly\n",
      "    stirringly prominently technologically magisterially predominately\n",
      "    swiftly fiscally pitilessly ...\n",
      "RBR: adverb, comparative\n",
      "    further gloomier grander graver greater grimmer harder harsher\n",
      "    healthier heavier higher however larger later leaner lengthier less-\n",
      "    perfectly lesser lonelier longer louder lower more ...\n",
      "RBS: adverb, superlative\n",
      "    best biggest bluntest earliest farthest first furthest hardest\n",
      "    heartiest highest largest least less most nearest second tightest worst\n",
      "RP: particle\n",
      "    aboard about across along apart around aside at away back before behind\n",
      "    by crop down ever fast for forth from go high i.e. in into just later\n",
      "    low more off on open out over per pie raising start teeth that through\n",
      "    under unto up up-pp upon whole with you\n",
      "SYM: symbol\n",
      "    % & ' '' ''. ) ). * + ,. < = > @ A[fj] U.S U.S.S.R * ** ***\n",
      "TO: \"to\" as preposition or infinitive marker\n",
      "    to\n",
      "UH: interjection\n",
      "    Goodbye Goody Gosh Wow Jeepers Jee-sus Hubba Hey Kee-reist Oops amen\n",
      "    huh howdy uh dammit whammo shucks heck anyways whodunnit honey golly\n",
      "    man baby diddle hush sonuvabitch ...\n",
      "VB: verb, base form\n",
      "    ask assemble assess assign assume atone attention avoid bake balkanize\n",
      "    bank begin behold believe bend benefit bevel beware bless boil bomb\n",
      "    boost brace break bring broil brush build ...\n",
      "VBD: verb, past tense\n",
      "    dipped pleaded swiped regummed soaked tidied convened halted registered\n",
      "    cushioned exacted snubbed strode aimed adopted belied figgered\n",
      "    speculated wore appreciated contemplated ...\n",
      "VBG: verb, present participle or gerund\n",
      "    telegraphing stirring focusing angering judging stalling lactating\n",
      "    hankerin' alleging veering capping approaching traveling besieging\n",
      "    encrypting interrupting erasing wincing ...\n",
      "VBN: verb, past participle\n",
      "    multihulled dilapidated aerosolized chaired languished panelized used\n",
      "    experimented flourished imitated reunifed factored condensed sheared\n",
      "    unsettled primed dubbed desired ...\n",
      "VBP: verb, present tense, not 3rd person singular\n",
      "    predominate wrap resort sue twist spill cure lengthen brush terminate\n",
      "    appear tend stray glisten obtain comprise detest tease attract\n",
      "    emphasize mold postpone sever return wag ...\n",
      "VBZ: verb, present tense, 3rd person singular\n",
      "    bases reconstructs marks mixes displeases seals carps weaves snatches\n",
      "    slumps stretches authorizes smolders pictures emerges stockpiles\n",
      "    seduces fizzes uses bolsters slaps speaks pleads ...\n",
      "WDT: WH-determiner\n",
      "    that what whatever which whichever\n",
      "WP: WH-pronoun\n",
      "    that what whatever whatsoever which who whom whosoever\n",
      "WP$: WH-pronoun, possessive\n",
      "    whose\n",
      "WRB: Wh-adverb\n",
      "    how however whence whenever where whereby whereever wherein whereof why\n",
      "``: opening quotation mark\n",
      "    ` ``\n"
     ]
    },
    {
     "name": "stderr",
     "output_type": "stream",
     "text": [
      "[nltk_data] Downloading package wordnet to\n",
      "[nltk_data]     C:\\Users\\natek\\AppData\\Roaming\\nltk_data...\n",
      "[nltk_data]   Package wordnet is already up-to-date!\n",
      "[nltk_data] Downloading package tagsets to\n",
      "[nltk_data]     C:\\Users\\natek\\AppData\\Roaming\\nltk_data...\n",
      "[nltk_data]   Package tagsets is already up-to-date!\n",
      "[nltk_data] Downloading package averaged_perceptron_tagger to\n",
      "[nltk_data]     C:\\Users\\natek\\AppData\\Roaming\\nltk_data...\n",
      "[nltk_data]   Package averaged_perceptron_tagger is already up-to-\n",
      "[nltk_data]       date!\n"
     ]
    }
   ],
   "source": [
    "nltk.download('wordnet')\n",
    "nltk.download('tagsets')\n",
    "nltk.download('averaged_perceptron_tagger')\n",
    "nltk.help.upenn_tagset()"
   ]
  },
  {
   "cell_type": "code",
   "execution_count": 16,
   "metadata": {
    "ExecuteTime": {
     "end_time": "2023-01-25T19:58:28.356870Z",
     "start_time": "2023-01-25T19:58:28.342678Z"
    }
   },
   "outputs": [],
   "source": [
    "def get_wordnet_pos(treebank_tag):\n",
    "    '''\n",
    "    Translate nltk POS to wordnet tags\n",
    "    '''\n",
    "    if treebank_tag.startswith('J'):\n",
    "        return wordnet.ADJ\n",
    "    elif treebank_tag.startswith('V'):\n",
    "        return wordnet.VERB\n",
    "    elif treebank_tag.startswith('N'):\n",
    "        return wordnet.NOUN\n",
    "    elif treebank_tag.startswith('R'):\n",
    "        return wordnet.ADV\n",
    "    else:\n",
    "        return wordnet.NOUN"
   ]
  },
  {
   "cell_type": "code",
   "execution_count": 17,
   "metadata": {
    "ExecuteTime": {
     "end_time": "2023-01-25T19:58:28.412355Z",
     "start_time": "2023-01-25T19:58:28.398362Z"
    },
    "scrolled": true
   },
   "outputs": [
    {
     "data": {
      "text/html": [
       "<div>\n",
       "<style scoped>\n",
       "    .dataframe tbody tr th:only-of-type {\n",
       "        vertical-align: middle;\n",
       "    }\n",
       "\n",
       "    .dataframe tbody tr th {\n",
       "        vertical-align: top;\n",
       "    }\n",
       "\n",
       "    .dataframe thead th {\n",
       "        text-align: right;\n",
       "    }\n",
       "</style>\n",
       "<table border=\"1\" class=\"dataframe\">\n",
       "  <thead>\n",
       "    <tr style=\"text-align: right;\">\n",
       "      <th></th>\n",
       "      <th>tweet</th>\n",
       "      <th>product</th>\n",
       "      <th>sentiment</th>\n",
       "    </tr>\n",
       "  </thead>\n",
       "  <tbody>\n",
       "    <tr>\n",
       "      <th>0</th>\n",
       "      <td>.@wesley83 I have a 3G iPhone. After 3 hrs twe...</td>\n",
       "      <td>iPhone</td>\n",
       "      <td>Negative emotion</td>\n",
       "    </tr>\n",
       "    <tr>\n",
       "      <th>1</th>\n",
       "      <td>@jessedee Know about @fludapp ? Awesome iPad/i...</td>\n",
       "      <td>iPad or iPhone App</td>\n",
       "      <td>Positive emotion</td>\n",
       "    </tr>\n",
       "    <tr>\n",
       "      <th>2</th>\n",
       "      <td>@swonderlin Can not wait for #iPad 2 also. The...</td>\n",
       "      <td>iPad</td>\n",
       "      <td>Positive emotion</td>\n",
       "    </tr>\n",
       "    <tr>\n",
       "      <th>3</th>\n",
       "      <td>@sxsw I hope this year's festival isn't as cra...</td>\n",
       "      <td>iPad or iPhone App</td>\n",
       "      <td>Negative emotion</td>\n",
       "    </tr>\n",
       "    <tr>\n",
       "      <th>4</th>\n",
       "      <td>@sxtxstate great stuff on Fri #SXSW: Marissa M...</td>\n",
       "      <td>Google</td>\n",
       "      <td>Positive emotion</td>\n",
       "    </tr>\n",
       "    <tr>\n",
       "      <th>...</th>\n",
       "      <td>...</td>\n",
       "      <td>...</td>\n",
       "      <td>...</td>\n",
       "    </tr>\n",
       "    <tr>\n",
       "      <th>9077</th>\n",
       "      <td>@mention your PR guy just convinced me to swit...</td>\n",
       "      <td>iPhone</td>\n",
       "      <td>Positive emotion</td>\n",
       "    </tr>\n",
       "    <tr>\n",
       "      <th>9079</th>\n",
       "      <td>&amp;quot;papyrus...sort of like the ipad&amp;quot; - ...</td>\n",
       "      <td>iPad</td>\n",
       "      <td>Positive emotion</td>\n",
       "    </tr>\n",
       "    <tr>\n",
       "      <th>9080</th>\n",
       "      <td>Diller says Google TV &amp;quot;might be run over ...</td>\n",
       "      <td>Other Google product or service</td>\n",
       "      <td>Negative emotion</td>\n",
       "    </tr>\n",
       "    <tr>\n",
       "      <th>9085</th>\n",
       "      <td>I've always used Camera+ for my iPhone b/c it ...</td>\n",
       "      <td>iPad or iPhone App</td>\n",
       "      <td>Positive emotion</td>\n",
       "    </tr>\n",
       "    <tr>\n",
       "      <th>9088</th>\n",
       "      <td>Ipad everywhere. #SXSW {link}</td>\n",
       "      <td>iPad</td>\n",
       "      <td>Positive emotion</td>\n",
       "    </tr>\n",
       "  </tbody>\n",
       "</table>\n",
       "<p>3291 rows × 3 columns</p>\n",
       "</div>"
      ],
      "text/plain": [
       "                                                  tweet  \\\n",
       "0     .@wesley83 I have a 3G iPhone. After 3 hrs twe...   \n",
       "1     @jessedee Know about @fludapp ? Awesome iPad/i...   \n",
       "2     @swonderlin Can not wait for #iPad 2 also. The...   \n",
       "3     @sxsw I hope this year's festival isn't as cra...   \n",
       "4     @sxtxstate great stuff on Fri #SXSW: Marissa M...   \n",
       "...                                                 ...   \n",
       "9077  @mention your PR guy just convinced me to swit...   \n",
       "9079  &quot;papyrus...sort of like the ipad&quot; - ...   \n",
       "9080  Diller says Google TV &quot;might be run over ...   \n",
       "9085  I've always used Camera+ for my iPhone b/c it ...   \n",
       "9088                      Ipad everywhere. #SXSW {link}   \n",
       "\n",
       "                              product         sentiment  \n",
       "0                              iPhone  Negative emotion  \n",
       "1                  iPad or iPhone App  Positive emotion  \n",
       "2                                iPad  Positive emotion  \n",
       "3                  iPad or iPhone App  Negative emotion  \n",
       "4                              Google  Positive emotion  \n",
       "...                               ...               ...  \n",
       "9077                           iPhone  Positive emotion  \n",
       "9079                             iPad  Positive emotion  \n",
       "9080  Other Google product or service  Negative emotion  \n",
       "9085               iPad or iPhone App  Positive emotion  \n",
       "9088                             iPad  Positive emotion  \n",
       "\n",
       "[3291 rows x 3 columns]"
      ]
     },
     "execution_count": 17,
     "metadata": {},
     "output_type": "execute_result"
    }
   ],
   "source": [
    "df"
   ]
  },
  {
   "cell_type": "code",
   "execution_count": 127,
   "metadata": {
    "ExecuteTime": {
     "end_time": "2023-01-25T21:24:17.237080Z",
     "start_time": "2023-01-25T21:24:13.462190Z"
    },
    "scrolled": false
   },
   "outputs": [
    {
     "name": "stderr",
     "output_type": "stream",
     "text": [
      "<ipython-input-127-90c1795ea903>:7: SettingWithCopyWarning: \n",
      "A value is trying to be set on a copy of a slice from a DataFrame.\n",
      "Try using .loc[row_indexer,col_indexer] = value instead\n",
      "\n",
      "See the caveats in the documentation: https://pandas.pydata.org/pandas-docs/stable/user_guide/indexing.html#returning-a-view-versus-a-copy\n",
      "  df['tweet_edited'] = df['tweet']\n",
      "<ipython-input-127-90c1795ea903>:8: SettingWithCopyWarning: \n",
      "A value is trying to be set on a copy of a slice from a DataFrame.\n",
      "Try using .loc[row_indexer,col_indexer] = value instead\n",
      "\n",
      "See the caveats in the documentation: https://pandas.pydata.org/pandas-docs/stable/user_guide/indexing.html#returning-a-view-versus-a-copy\n",
      "  df['tweet_edited'] = df['tweet_edited'].apply(str.lower)\n",
      "<ipython-input-127-90c1795ea903>:9: SettingWithCopyWarning: \n",
      "A value is trying to be set on a copy of a slice from a DataFrame.\n",
      "Try using .loc[row_indexer,col_indexer] = value instead\n",
      "\n",
      "See the caveats in the documentation: https://pandas.pydata.org/pandas-docs/stable/user_guide/indexing.html#returning-a-view-versus-a-copy\n",
      "  df['tweet_edited'] = df['tweet_edited'].apply(str.split)\n",
      "<ipython-input-127-90c1795ea903>:10: SettingWithCopyWarning: \n",
      "A value is trying to be set on a copy of a slice from a DataFrame.\n",
      "Try using .loc[row_indexer,col_indexer] = value instead\n",
      "\n",
      "See the caveats in the documentation: https://pandas.pydata.org/pandas-docs/stable/user_guide/indexing.html#returning-a-view-versus-a-copy\n",
      "  df['tweet_edited'] = df['tweet_edited'].apply(lambda x: \" \".join([n for n in x if '@' not in n]))\n",
      "<ipython-input-127-90c1795ea903>:11: SettingWithCopyWarning: \n",
      "A value is trying to be set on a copy of a slice from a DataFrame.\n",
      "Try using .loc[row_indexer,col_indexer] = value instead\n",
      "\n",
      "See the caveats in the documentation: https://pandas.pydata.org/pandas-docs/stable/user_guide/indexing.html#returning-a-view-versus-a-copy\n",
      "  df['tweet_edited'] = df['tweet_edited'].apply(tokenizer.tokenize)\n",
      "<ipython-input-127-90c1795ea903>:12: SettingWithCopyWarning: \n",
      "A value is trying to be set on a copy of a slice from a DataFrame.\n",
      "Try using .loc[row_indexer,col_indexer] = value instead\n",
      "\n",
      "See the caveats in the documentation: https://pandas.pydata.org/pandas-docs/stable/user_guide/indexing.html#returning-a-view-versus-a-copy\n",
      "  df['tweet_edited'] = df['tweet_edited'].apply(pos_tag)\n",
      "<ipython-input-127-90c1795ea903>:13: SettingWithCopyWarning: \n",
      "A value is trying to be set on a copy of a slice from a DataFrame.\n",
      "Try using .loc[row_indexer,col_indexer] = value instead\n",
      "\n",
      "See the caveats in the documentation: https://pandas.pydata.org/pandas-docs/stable/user_guide/indexing.html#returning-a-view-versus-a-copy\n",
      "  df['tweet_edited'] = df['tweet_edited'].apply(lambda x: [(n[0], get_wordnet_pos(n[1])) for n in x])\n",
      "<ipython-input-127-90c1795ea903>:14: SettingWithCopyWarning: \n",
      "A value is trying to be set on a copy of a slice from a DataFrame.\n",
      "Try using .loc[row_indexer,col_indexer] = value instead\n",
      "\n",
      "See the caveats in the documentation: https://pandas.pydata.org/pandas-docs/stable/user_guide/indexing.html#returning-a-view-versus-a-copy\n",
      "  df['tweet_edited'] = df['tweet_edited'].apply(lambda x: \" \".join([lemmatizer.lemmatize(n[0], (n[1])) for n in x]))\n",
      "<ipython-input-127-90c1795ea903>:15: SettingWithCopyWarning: \n",
      "A value is trying to be set on a copy of a slice from a DataFrame.\n",
      "Try using .loc[row_indexer,col_indexer] = value instead\n",
      "\n",
      "See the caveats in the documentation: https://pandas.pydata.org/pandas-docs/stable/user_guide/indexing.html#returning-a-view-versus-a-copy\n",
      "  df['tweet_edited'] = df['tweet_edited'].apply(lambda x: \" \".join([n for n in x.split() if n not in sw]))\n",
      "<ipython-input-127-90c1795ea903>:17: SettingWithCopyWarning: \n",
      "A value is trying to be set on a copy of a slice from a DataFrame.\n",
      "Try using .loc[row_indexer,col_indexer] = value instead\n",
      "\n",
      "See the caveats in the documentation: https://pandas.pydata.org/pandas-docs/stable/user_guide/indexing.html#returning-a-view-versus-a-copy\n",
      "  df['product'] = df['product'].apply(str.strip)\n",
      "<ipython-input-127-90c1795ea903>:18: SettingWithCopyWarning: \n",
      "A value is trying to be set on a copy of a slice from a DataFrame.\n",
      "Try using .loc[row_indexer,col_indexer] = value instead\n",
      "\n",
      "See the caveats in the documentation: https://pandas.pydata.org/pandas-docs/stable/user_guide/indexing.html#returning-a-view-versus-a-copy\n",
      "  df['Company'] = df['product']\n",
      "<ipython-input-127-90c1795ea903>:19: SettingWithCopyWarning: \n",
      "A value is trying to be set on a copy of a slice from a DataFrame.\n",
      "Try using .loc[row_indexer,col_indexer] = value instead\n",
      "\n",
      "See the caveats in the documentation: https://pandas.pydata.org/pandas-docs/stable/user_guide/indexing.html#returning-a-view-versus-a-copy\n",
      "  df['Company'] = df['Company'].replace({\n"
     ]
    },
    {
     "data": {
      "text/html": [
       "<div>\n",
       "<style scoped>\n",
       "    .dataframe tbody tr th:only-of-type {\n",
       "        vertical-align: middle;\n",
       "    }\n",
       "\n",
       "    .dataframe tbody tr th {\n",
       "        vertical-align: top;\n",
       "    }\n",
       "\n",
       "    .dataframe thead th {\n",
       "        text-align: right;\n",
       "    }\n",
       "</style>\n",
       "<table border=\"1\" class=\"dataframe\">\n",
       "  <thead>\n",
       "    <tr style=\"text-align: right;\">\n",
       "      <th></th>\n",
       "      <th>tweet</th>\n",
       "      <th>product</th>\n",
       "      <th>sentiment</th>\n",
       "      <th>tweet_edited</th>\n",
       "      <th>Company</th>\n",
       "    </tr>\n",
       "  </thead>\n",
       "  <tbody>\n",
       "    <tr>\n",
       "      <th>0</th>\n",
       "      <td>.@wesley83 I have a 3G iPhone. After 3 hrs tweeting at #RISE_Austin, it was dead!  I need to upg...</td>\n",
       "      <td>iPhone</td>\n",
       "      <td>Negative emotion</td>\n",
       "      <td>g iphone hr tweeting rise austin dead need upgrade plugin station sxsw</td>\n",
       "      <td>Apple</td>\n",
       "    </tr>\n",
       "    <tr>\n",
       "      <th>1</th>\n",
       "      <td>@jessedee Know about @fludapp ? Awesome iPad/iPhone app that you'll likely appreciate for its de...</td>\n",
       "      <td>iPad or iPhone App</td>\n",
       "      <td>Positive emotion</td>\n",
       "      <td>know awesome ipad iphone app likely appreciate design also they're give free sxsw</td>\n",
       "      <td>Apple</td>\n",
       "    </tr>\n",
       "    <tr>\n",
       "      <th>2</th>\n",
       "      <td>@swonderlin Can not wait for #iPad 2 also. They should sale them down at #SXSW.</td>\n",
       "      <td>iPad</td>\n",
       "      <td>Positive emotion</td>\n",
       "      <td>wait ipad also sale sxsw</td>\n",
       "      <td>Apple</td>\n",
       "    </tr>\n",
       "    <tr>\n",
       "      <th>3</th>\n",
       "      <td>@sxsw I hope this year's festival isn't as crashy as this year's iPhone app. #sxsw</td>\n",
       "      <td>iPad or iPhone App</td>\n",
       "      <td>Negative emotion</td>\n",
       "      <td>hope year's festival crashy year's iphone app sxsw</td>\n",
       "      <td>Apple</td>\n",
       "    </tr>\n",
       "    <tr>\n",
       "      <th>4</th>\n",
       "      <td>@sxtxstate great stuff on Fri #SXSW: Marissa Mayer (Google), Tim O'Reilly (tech books/conference...</td>\n",
       "      <td>Google</td>\n",
       "      <td>Positive emotion</td>\n",
       "      <td>great stuff fri sxsw marissa mayer google tim o'reilly tech book conference matt mullenweg wordp...</td>\n",
       "      <td>Google</td>\n",
       "    </tr>\n",
       "    <tr>\n",
       "      <th>...</th>\n",
       "      <td>...</td>\n",
       "      <td>...</td>\n",
       "      <td>...</td>\n",
       "      <td>...</td>\n",
       "      <td>...</td>\n",
       "    </tr>\n",
       "    <tr>\n",
       "      <th>9077</th>\n",
       "      <td>@mention your PR guy just convinced me to switch back to iPhone. Great #sxsw coverage. #princess</td>\n",
       "      <td>iPhone</td>\n",
       "      <td>Positive emotion</td>\n",
       "      <td>pr guy convince switch back iphone great sxsw coverage princess</td>\n",
       "      <td>Apple</td>\n",
       "    </tr>\n",
       "    <tr>\n",
       "      <th>9079</th>\n",
       "      <td>&amp;quot;papyrus...sort of like the ipad&amp;quot; - nice! Lol! #SXSW Lavelle</td>\n",
       "      <td>iPad</td>\n",
       "      <td>Positive emotion</td>\n",
       "      <td>papyrus sort like ipad nice lol sxsw lavelle</td>\n",
       "      <td>Apple</td>\n",
       "    </tr>\n",
       "    <tr>\n",
       "      <th>9080</th>\n",
       "      <td>Diller says Google TV &amp;quot;might be run over by the PlayStation and the Xbox, which are essenti...</td>\n",
       "      <td>Other Google product or service</td>\n",
       "      <td>Negative emotion</td>\n",
       "      <td>diller say google tv might run playstation xbox essentially ready today sxsw diller</td>\n",
       "      <td>Google</td>\n",
       "    </tr>\n",
       "    <tr>\n",
       "      <th>9085</th>\n",
       "      <td>I've always used Camera+ for my iPhone b/c it has an image stabilizer mode. Suggestions for an i...</td>\n",
       "      <td>iPad or iPhone App</td>\n",
       "      <td>Positive emotion</td>\n",
       "      <td>i've always use camera iphone b c image stabilizer mode suggestion ipad cam app w feature sxsw s...</td>\n",
       "      <td>Apple</td>\n",
       "    </tr>\n",
       "    <tr>\n",
       "      <th>9088</th>\n",
       "      <td>Ipad everywhere. #SXSW {link}</td>\n",
       "      <td>iPad</td>\n",
       "      <td>Positive emotion</td>\n",
       "      <td>ipad everywhere sxsw</td>\n",
       "      <td>Apple</td>\n",
       "    </tr>\n",
       "  </tbody>\n",
       "</table>\n",
       "<p>3291 rows × 5 columns</p>\n",
       "</div>"
      ],
      "text/plain": [
       "                                                                                                    tweet  \\\n",
       "0     .@wesley83 I have a 3G iPhone. After 3 hrs tweeting at #RISE_Austin, it was dead!  I need to upg...   \n",
       "1     @jessedee Know about @fludapp ? Awesome iPad/iPhone app that you'll likely appreciate for its de...   \n",
       "2                         @swonderlin Can not wait for #iPad 2 also. They should sale them down at #SXSW.   \n",
       "3                      @sxsw I hope this year's festival isn't as crashy as this year's iPhone app. #sxsw   \n",
       "4     @sxtxstate great stuff on Fri #SXSW: Marissa Mayer (Google), Tim O'Reilly (tech books/conference...   \n",
       "...                                                                                                   ...   \n",
       "9077     @mention your PR guy just convinced me to switch back to iPhone. Great #sxsw coverage. #princess   \n",
       "9079                               &quot;papyrus...sort of like the ipad&quot; - nice! Lol! #SXSW Lavelle   \n",
       "9080  Diller says Google TV &quot;might be run over by the PlayStation and the Xbox, which are essenti...   \n",
       "9085  I've always used Camera+ for my iPhone b/c it has an image stabilizer mode. Suggestions for an i...   \n",
       "9088                                                                        Ipad everywhere. #SXSW {link}   \n",
       "\n",
       "                              product         sentiment  \\\n",
       "0                              iPhone  Negative emotion   \n",
       "1                  iPad or iPhone App  Positive emotion   \n",
       "2                                iPad  Positive emotion   \n",
       "3                  iPad or iPhone App  Negative emotion   \n",
       "4                              Google  Positive emotion   \n",
       "...                               ...               ...   \n",
       "9077                           iPhone  Positive emotion   \n",
       "9079                             iPad  Positive emotion   \n",
       "9080  Other Google product or service  Negative emotion   \n",
       "9085               iPad or iPhone App  Positive emotion   \n",
       "9088                             iPad  Positive emotion   \n",
       "\n",
       "                                                                                             tweet_edited  \\\n",
       "0                                  g iphone hr tweeting rise austin dead need upgrade plugin station sxsw   \n",
       "1                       know awesome ipad iphone app likely appreciate design also they're give free sxsw   \n",
       "2                                                                                wait ipad also sale sxsw   \n",
       "3                                                      hope year's festival crashy year's iphone app sxsw   \n",
       "4     great stuff fri sxsw marissa mayer google tim o'reilly tech book conference matt mullenweg wordp...   \n",
       "...                                                                                                   ...   \n",
       "9077                                      pr guy convince switch back iphone great sxsw coverage princess   \n",
       "9079                                                         papyrus sort like ipad nice lol sxsw lavelle   \n",
       "9080                  diller say google tv might run playstation xbox essentially ready today sxsw diller   \n",
       "9085  i've always use camera iphone b c image stabilizer mode suggestion ipad cam app w feature sxsw s...   \n",
       "9088                                                                                 ipad everywhere sxsw   \n",
       "\n",
       "     Company  \n",
       "0      Apple  \n",
       "1      Apple  \n",
       "2      Apple  \n",
       "3      Apple  \n",
       "4     Google  \n",
       "...      ...  \n",
       "9077   Apple  \n",
       "9079   Apple  \n",
       "9080  Google  \n",
       "9085   Apple  \n",
       "9088   Apple  \n",
       "\n",
       "[3291 rows x 5 columns]"
      ]
     },
     "execution_count": 127,
     "metadata": {},
     "output_type": "execute_result"
    }
   ],
   "source": [
    "pattern = \"([a-zA-Z]+(?:'[a-z]+)?)\"\n",
    "tokenizer = RegexpTokenizer(pattern)\n",
    "lemmatizer = nltk.stem.WordNetLemmatizer()\n",
    "sw = set(stopwords.words('english'))\n",
    "sw.update(['link', 'rt', 'quot', 'amp'])\n",
    "\n",
    "df['tweet_edited'] = df['tweet']\n",
    "df['tweet_edited'] = df['tweet_edited'].apply(str.lower)\n",
    "df['tweet_edited'] = df['tweet_edited'].apply(str.split)\n",
    "df['tweet_edited'] = df['tweet_edited'].apply(lambda x: \" \".join([n for n in x if '@' not in n]))\n",
    "df['tweet_edited'] = df['tweet_edited'].apply(tokenizer.tokenize)\n",
    "df['tweet_edited'] = df['tweet_edited'].apply(pos_tag)\n",
    "df['tweet_edited'] = df['tweet_edited'].apply(lambda x: [(n[0], get_wordnet_pos(n[1])) for n in x])\n",
    "df['tweet_edited'] = df['tweet_edited'].apply(lambda x: \" \".join([lemmatizer.lemmatize(n[0], (n[1])) for n in x]))\n",
    "df['tweet_edited'] = df['tweet_edited'].apply(lambda x: \" \".join([n for n in x.split() if n not in sw]))\n",
    "\n",
    "df['product'] = df['product'].apply(str.strip)\n",
    "df['Company'] = df['product']\n",
    "df['Company'] = df['Company'].replace({\n",
    "    'iPad':'Apple',\n",
    "    'iPad or iPhone App':'Apple',\n",
    "    'iPhone':'Apple',\n",
    "    'Other Apple product or service':'Apple',\n",
    "    'Other Google product or service':'Google',\n",
    "    'Android App':'Google',\n",
    "    'Android':'Google'   \n",
    "})\n",
    "df\n"
   ]
  },
  {
   "cell_type": "code",
   "execution_count": 128,
   "metadata": {
    "ExecuteTime": {
     "end_time": "2023-01-25T21:24:17.333624Z",
     "start_time": "2023-01-25T21:24:17.309472Z"
    }
   },
   "outputs": [
    {
     "data": {
      "text/html": [
       "<div>\n",
       "<style scoped>\n",
       "    .dataframe tbody tr th:only-of-type {\n",
       "        vertical-align: middle;\n",
       "    }\n",
       "\n",
       "    .dataframe tbody tr th {\n",
       "        vertical-align: top;\n",
       "    }\n",
       "\n",
       "    .dataframe thead th {\n",
       "        text-align: right;\n",
       "    }\n",
       "</style>\n",
       "<table border=\"1\" class=\"dataframe\">\n",
       "  <thead>\n",
       "    <tr style=\"text-align: right;\">\n",
       "      <th></th>\n",
       "      <th>tweet</th>\n",
       "      <th>product</th>\n",
       "      <th>sentiment</th>\n",
       "      <th>tweet_edited</th>\n",
       "      <th>Company</th>\n",
       "    </tr>\n",
       "  </thead>\n",
       "  <tbody>\n",
       "    <tr>\n",
       "      <th>0</th>\n",
       "      <td>.@wesley83 I have a 3G iPhone. After 3 hrs tweeting at #RISE_Austin, it was dead!  I need to upg...</td>\n",
       "      <td>iPhone</td>\n",
       "      <td>Negative emotion</td>\n",
       "      <td>g iphone hr tweeting rise austin dead need upgrade plugin station sxsw</td>\n",
       "      <td>Apple</td>\n",
       "    </tr>\n",
       "    <tr>\n",
       "      <th>1</th>\n",
       "      <td>@jessedee Know about @fludapp ? Awesome iPad/iPhone app that you'll likely appreciate for its de...</td>\n",
       "      <td>iPad or iPhone App</td>\n",
       "      <td>Positive emotion</td>\n",
       "      <td>know awesome ipad iphone app likely appreciate design also they're give free sxsw</td>\n",
       "      <td>Apple</td>\n",
       "    </tr>\n",
       "    <tr>\n",
       "      <th>2</th>\n",
       "      <td>@swonderlin Can not wait for #iPad 2 also. They should sale them down at #SXSW.</td>\n",
       "      <td>iPad</td>\n",
       "      <td>Positive emotion</td>\n",
       "      <td>wait ipad also sale sxsw</td>\n",
       "      <td>Apple</td>\n",
       "    </tr>\n",
       "    <tr>\n",
       "      <th>3</th>\n",
       "      <td>@sxsw I hope this year's festival isn't as crashy as this year's iPhone app. #sxsw</td>\n",
       "      <td>iPad or iPhone App</td>\n",
       "      <td>Negative emotion</td>\n",
       "      <td>hope year's festival crashy year's iphone app sxsw</td>\n",
       "      <td>Apple</td>\n",
       "    </tr>\n",
       "    <tr>\n",
       "      <th>4</th>\n",
       "      <td>@sxtxstate great stuff on Fri #SXSW: Marissa Mayer (Google), Tim O'Reilly (tech books/conference...</td>\n",
       "      <td>Google</td>\n",
       "      <td>Positive emotion</td>\n",
       "      <td>great stuff fri sxsw marissa mayer google tim o'reilly tech book conference matt mullenweg wordp...</td>\n",
       "      <td>Google</td>\n",
       "    </tr>\n",
       "    <tr>\n",
       "      <th>...</th>\n",
       "      <td>...</td>\n",
       "      <td>...</td>\n",
       "      <td>...</td>\n",
       "      <td>...</td>\n",
       "      <td>...</td>\n",
       "    </tr>\n",
       "    <tr>\n",
       "      <th>9077</th>\n",
       "      <td>@mention your PR guy just convinced me to switch back to iPhone. Great #sxsw coverage. #princess</td>\n",
       "      <td>iPhone</td>\n",
       "      <td>Positive emotion</td>\n",
       "      <td>pr guy convince switch back iphone great sxsw coverage princess</td>\n",
       "      <td>Apple</td>\n",
       "    </tr>\n",
       "    <tr>\n",
       "      <th>9079</th>\n",
       "      <td>&amp;quot;papyrus...sort of like the ipad&amp;quot; - nice! Lol! #SXSW Lavelle</td>\n",
       "      <td>iPad</td>\n",
       "      <td>Positive emotion</td>\n",
       "      <td>papyrus sort like ipad nice lol sxsw lavelle</td>\n",
       "      <td>Apple</td>\n",
       "    </tr>\n",
       "    <tr>\n",
       "      <th>9080</th>\n",
       "      <td>Diller says Google TV &amp;quot;might be run over by the PlayStation and the Xbox, which are essenti...</td>\n",
       "      <td>Other Google product or service</td>\n",
       "      <td>Negative emotion</td>\n",
       "      <td>diller say google tv might run playstation xbox essentially ready today sxsw diller</td>\n",
       "      <td>Google</td>\n",
       "    </tr>\n",
       "    <tr>\n",
       "      <th>9085</th>\n",
       "      <td>I've always used Camera+ for my iPhone b/c it has an image stabilizer mode. Suggestions for an i...</td>\n",
       "      <td>iPad or iPhone App</td>\n",
       "      <td>Positive emotion</td>\n",
       "      <td>i've always use camera iphone b c image stabilizer mode suggestion ipad cam app w feature sxsw s...</td>\n",
       "      <td>Apple</td>\n",
       "    </tr>\n",
       "    <tr>\n",
       "      <th>9088</th>\n",
       "      <td>Ipad everywhere. #SXSW {link}</td>\n",
       "      <td>iPad</td>\n",
       "      <td>Positive emotion</td>\n",
       "      <td>ipad everywhere sxsw</td>\n",
       "      <td>Apple</td>\n",
       "    </tr>\n",
       "  </tbody>\n",
       "</table>\n",
       "<p>3291 rows × 5 columns</p>\n",
       "</div>"
      ],
      "text/plain": [
       "                                                                                                    tweet  \\\n",
       "0     .@wesley83 I have a 3G iPhone. After 3 hrs tweeting at #RISE_Austin, it was dead!  I need to upg...   \n",
       "1     @jessedee Know about @fludapp ? Awesome iPad/iPhone app that you'll likely appreciate for its de...   \n",
       "2                         @swonderlin Can not wait for #iPad 2 also. They should sale them down at #SXSW.   \n",
       "3                      @sxsw I hope this year's festival isn't as crashy as this year's iPhone app. #sxsw   \n",
       "4     @sxtxstate great stuff on Fri #SXSW: Marissa Mayer (Google), Tim O'Reilly (tech books/conference...   \n",
       "...                                                                                                   ...   \n",
       "9077     @mention your PR guy just convinced me to switch back to iPhone. Great #sxsw coverage. #princess   \n",
       "9079                               &quot;papyrus...sort of like the ipad&quot; - nice! Lol! #SXSW Lavelle   \n",
       "9080  Diller says Google TV &quot;might be run over by the PlayStation and the Xbox, which are essenti...   \n",
       "9085  I've always used Camera+ for my iPhone b/c it has an image stabilizer mode. Suggestions for an i...   \n",
       "9088                                                                        Ipad everywhere. #SXSW {link}   \n",
       "\n",
       "                              product         sentiment  \\\n",
       "0                              iPhone  Negative emotion   \n",
       "1                  iPad or iPhone App  Positive emotion   \n",
       "2                                iPad  Positive emotion   \n",
       "3                  iPad or iPhone App  Negative emotion   \n",
       "4                              Google  Positive emotion   \n",
       "...                               ...               ...   \n",
       "9077                           iPhone  Positive emotion   \n",
       "9079                             iPad  Positive emotion   \n",
       "9080  Other Google product or service  Negative emotion   \n",
       "9085               iPad or iPhone App  Positive emotion   \n",
       "9088                             iPad  Positive emotion   \n",
       "\n",
       "                                                                                             tweet_edited  \\\n",
       "0                                  g iphone hr tweeting rise austin dead need upgrade plugin station sxsw   \n",
       "1                       know awesome ipad iphone app likely appreciate design also they're give free sxsw   \n",
       "2                                                                                wait ipad also sale sxsw   \n",
       "3                                                      hope year's festival crashy year's iphone app sxsw   \n",
       "4     great stuff fri sxsw marissa mayer google tim o'reilly tech book conference matt mullenweg wordp...   \n",
       "...                                                                                                   ...   \n",
       "9077                                      pr guy convince switch back iphone great sxsw coverage princess   \n",
       "9079                                                         papyrus sort like ipad nice lol sxsw lavelle   \n",
       "9080                  diller say google tv might run playstation xbox essentially ready today sxsw diller   \n",
       "9085  i've always use camera iphone b c image stabilizer mode suggestion ipad cam app w feature sxsw s...   \n",
       "9088                                                                                 ipad everywhere sxsw   \n",
       "\n",
       "     Company  \n",
       "0      Apple  \n",
       "1      Apple  \n",
       "2      Apple  \n",
       "3      Apple  \n",
       "4     Google  \n",
       "...      ...  \n",
       "9077   Apple  \n",
       "9079   Apple  \n",
       "9080  Google  \n",
       "9085   Apple  \n",
       "9088   Apple  \n",
       "\n",
       "[3291 rows x 5 columns]"
      ]
     },
     "execution_count": 128,
     "metadata": {},
     "output_type": "execute_result"
    }
   ],
   "source": [
    "df"
   ]
  },
  {
   "cell_type": "code",
   "execution_count": 129,
   "metadata": {
    "ExecuteTime": {
     "end_time": "2023-01-25T21:24:17.412088Z",
     "start_time": "2023-01-25T21:24:17.398983Z"
    }
   },
   "outputs": [],
   "source": [
    "pd.options.display.max_colwidth = 100"
   ]
  },
  {
   "cell_type": "code",
   "execution_count": 130,
   "metadata": {
    "ExecuteTime": {
     "end_time": "2023-01-25T21:24:17.475643Z",
     "start_time": "2023-01-25T21:24:17.463706Z"
    },
    "scrolled": true
   },
   "outputs": [
    {
     "data": {
      "text/plain": [
       "1      @jessedee Know about @fludapp ? Awesome iPad/iPhone app that you'll likely appreciate for its de...\n",
       "2                          @swonderlin Can not wait for #iPad 2 also. They should sale them down at #SXSW.\n",
       "8      Beautifully smart and simple idea RT @madebymany @thenextweb wrote about our #hollergram iPad ap...\n",
       "9                 Counting down the days to #sxsw plus strong Canadian dollar means stock up on Apple gear\n",
       "14                                       Great #sxsw ipad app from @madebymany: http://tinyurl.com/4nqv92l\n",
       "15                      haha, awesomely rad iPad app by @madebymany http://bit.ly/hTdFim #hollergram #sxsw\n",
       "18     Just added my #SXSW flights to @planely. Matching people on planes/airports. Also downloaded the...\n",
       "19     Must have #SXSW app! RT @malbonster: Lovely review from Forbes for our SXSW iPad app Holler Gram...\n",
       "20     Need to buy an iPad2 while I'm in Austin at #sxsw. Not sure if I'll need to Q up at an Austin Ap...\n",
       "21     Oh. My. God. The #SXSW app for iPad is pure, unadulterated awesome. It's easier to browse events...\n",
       "23          Photo: Just installed the #SXSW iPhone app, which is really nice! http://tumblr.com/x6t1pi6av7\n",
       "25     RT @LaurieShook: I'm looking forward to the #SMCDallas pre #SXSW party Wed., and hoping I'll win...\n",
       "26     RT haha, awesomely rad iPad app by @madebymany http://bit.ly/hTdFim #hollergram #sxsw (via @mich...\n",
       "28     The new #4sq3 looks like it is going to rock. Update for iPhone and Android should push tonight ...\n",
       "30     Very smart from @madebymany #hollergram iPad app for #sxsw! http://t.co/A3xvWc6 (may leave my vu...\n",
       "31     You must have this app for your iPad if you are going to #SXSW http://itunes.apple.com/us/app/ho...\n",
       "36     The best!  RT @mention Ha! First in line for #ipad2 at #sxsw &quot;pop-up&quot; Apple store was ...\n",
       "40     @mention  - Great weather to greet you for #sxsw! Still need a sweater at night..Apple putting u...\n",
       "45     #IPad2 's Û÷#SmartCoverÛª Opens to Instant Access - I should have waited to get one! - {link} ...\n",
       "47             HOORAY RT ÛÏ@mention Apple Is Opening A Pop-Up Store In Austin For #SXSW | @mention {link}\n",
       "49                           wooooo!!! ÛÏ@mention Apple store downtown Austin open til Midnight. #sxswÛ\n",
       "57     {link} RT @mention 1st stop on the #SXSW #Chaos &amp; @mention hunt: Austin Java. Get in the spy...\n",
       "62     #OMFG! RT @mention Heard about Apple's pop-up store in downtown Austin? Pics are already on Gowa...\n",
       "69     Check out @mention @mention &amp; @mention in line for their iPad 2 in Austin. Power to them! #s...\n",
       "76                      I love my @mention iPhone case from #Sxsw but I can't get my phone out of it #fail\n",
       "80     New Post: @mention iPhone app makes it easy to connect on all social networks with people you me...\n",
       "81               Nice that @mention iPhone app is behaving today. Crashes yesterday were ridiculous. #sxsw\n",
       "83     Nice!! RT @mention Hey, Apple fans! Get a peek at the space that's slated to be a pop-up #SXSW A...\n",
       "89     Thanks to @mention for her mention of our new #Speech iPad apps being showcased at the #SXSW Con...\n",
       "95     XMAS!! RT @mention Shiny new @mention @mention @mention apps, a new @garyvee book, pop-up iPad 2...\n",
       "96     Yai!!! RT @mention New #UberSocial for #iPhone now in the App Store includes UberGuide to #SXSW ...\n",
       "101    Headline: &quot;#iPad 2 is the Must-Have Gadget at #SXSW&quot; Hmm... I could have seen that one...\n",
       "109    Kawasaki: &quot;Not C.S. Lewis level reasoning, but Apple's continued existence is evidence for ...\n",
       "111    Kawasaki: &quot;pagemaker saved Apple.&quot; Oh those were the days. #sxsw #jwtatl #enchantment ...\n",
       "114    #SXSW and #Apple iPad 2's are great, but thoughts are w/ Japan and APAC regions dealing w/ earth...\n",
       "116                                                At #SXSW, #Apple schools the marketing experts - {link}\n",
       "118                          Temporary #apple store is def not a tent, it's a powerhouse gym #SXSW  {link}\n",
       "119           Temporary #Apple store on 6th and Congress for #sxsw, along with 10,000 very happy hipsters.\n",
       "120    ÛÏ@mention #Apple wins #SXSW {link} Opening a temporary store in downtown Austin to support #iP...\n",
       "121                         #iPad and #Austin are trending today. Have fun at #sxsw all you nerdy nerds!!!\n",
       "124    Christian #iPad #iPhone devs I want to talk to u at #sxsw or after -maybe we can wk together on ...\n",
       "126    The Apple #iPAD2  has taken #SxSW and #Austin by storm.. {link}  @mention excited to a be a part...\n",
       "127                                                                I can haz #iPad2 ifrom #SxSW Gr8 {link}\n",
       "128    Stacks of #ipad2's waiting to be bought at #sxsw. I got mine, no hassle at all. Apple handled th...\n",
       "135    Take that #SXSW ! RT @mention Major South Korean director gets $130,000 to make a movie entirely...\n",
       "136                                             Beautiful #sxsw (@mention Apple Store, SXSW) [pic]: {link}\n",
       "142    Must have #SXSW app! RT @mention Lovely review from Forbes for our SXSW iPad app Holler Gram - {...\n",
       "143                                       Temporary #sxsw apple store. Apple being sneaky as usual  {link}\n",
       "145    ÛÏ@mention #sxsw beta testing interactive book for iPad app by Moonbot studios out of Louisiana...\n",
       "146                                                   Apple won #SxSW from day one. Seeing a TON of #iPad2\n",
       "Name: tweet, dtype: object"
      ]
     },
     "execution_count": 130,
     "metadata": {},
     "output_type": "execute_result"
    }
   ],
   "source": [
    "df_subset = df[(df['Company']=='Apple') & (df['sentiment']=='Positive emotion')]\n",
    "df_subset['tweet'][0:50]"
   ]
  },
  {
   "cell_type": "code",
   "execution_count": 168,
   "metadata": {
    "ExecuteTime": {
     "end_time": "2023-01-25T21:47:57.896462Z",
     "start_time": "2023-01-25T21:47:57.717633Z"
    }
   },
   "outputs": [
    {
     "name": "stderr",
     "output_type": "stream",
     "text": [
      "<ipython-input-168-f94dd10cf2e4>:2: SettingWithCopyWarning: \n",
      "A value is trying to be set on a copy of a slice from a DataFrame.\n",
      "Try using .loc[row_indexer,col_indexer] = value instead\n",
      "\n",
      "See the caveats in the documentation: https://pandas.pydata.org/pandas-docs/stable/user_guide/indexing.html#returning-a-view-versus-a-copy\n",
      "  df_subset['tweet_edited'] = df_subset['tweet_edited'].str.split()\n"
     ]
    },
    {
     "data": {
      "image/png": "[encoded data removed]",
      "text/plain": [
       "<Figure size 720x360 with 1 Axes>"
      ]
     },
     "metadata": {
      "needs_background": "light"
     },
     "output_type": "display_data"
    }
   ],
   "source": [
    "df_subset = df[(df['Company']=='Apple') & (df['sentiment']=='Positive emotion')]\n",
    "df_subset['tweet_edited'] = df_subset['tweet_edited'].str.split()\n",
    "df_subset = df_subset.tweet_edited.explode()\n",
    "df_subset\n",
    "ax = df_subset.value_counts()[0:10].plot(kind='bar',\n",
    "                                    title = 'High Frequency Words - Positive Apple Sentiment',\n",
    "                                    figsize=(10,5))"
   ]
  },
  {
   "cell_type": "code",
   "execution_count": null,
   "metadata": {},
   "outputs": [],
   "source": []
  },
  {
   "cell_type": "code",
   "execution_count": 159,
   "metadata": {
    "ExecuteTime": {
     "end_time": "2023-01-25T21:42:44.125601Z",
     "start_time": "2023-01-25T21:42:38.756742Z"
    },
    "scrolled": true
   },
   "outputs": [
    {
     "data": {
      "text/plain": [
       "0      .@wesley83 I have a 3G iPhone. After 3 hrs tweeting at #RISE_Austin, it was dead!  I need to upg...\n",
       "3                       @sxsw I hope this year's festival isn't as crashy as this year's iPhone app. #sxsw\n",
       "17     I just noticed DST is coming this weekend. How many iPhone users will be an hour late at SXSW co...\n",
       "67                                                   attending @mention iPad design headaches #sxsw {link}\n",
       "92     What !?!? @mention  #SXSW does not provide iPhone chargers?!?  I've changed my mind about going ...\n",
       "170    Seriously #sxsw? Did you do any testing on the mobile apps? Constant iPad crashes causing lost s...\n",
       "172                                               ipad2 and #sxsw...a conflagration of doofusness.  {link}\n",
       "180    You spent $1,000+ to come to SXSW. \\n\\nYou've already used iPad 1. \\n\\nThe wait is a couple city...\n",
       "190    I'm up to 2 iPad 2s seen in the wild. Both people say it is fast, but the still pics are terribl...\n",
       "233    If iPhone alarms botch the timechange, how many #SXSW'ers freak? Late to flights, missed panels,...\n",
       "236                                                   I meant I also wish I  at #SXSW #dyac stupid iPhone!\n",
       "261    Found the app kyping my iPhone's geolocation &amp; not releasing when in background. Need a patc...\n",
       "268    Of course Apple built a temp store in Austin. It's Texas. They understand the concept of corrall...\n",
       "277    ÛÏ@mention Apple is opening up a temporary store in downtown Austin for #SXSW and the iPad 2 la...\n",
       "291    &quot;The Apple store at the mall on Sunday is 10x as crowded as this. This line is fake. I just...\n",
       "304                                                          iPad news apps 'so last year' at #SXSW {link}\n",
       "324    Overheard at #sxsw interactive: &quot;Arg! I hate the iphone! I want my blackberry back&quot; #s...\n",
       "326    ÛÏ@mention at #sxsw: &quot;apple comes up with cool technology no one's ever heard of because t...\n",
       "335    overheard at MDW (and I'll second it) &quot;halfway through my iPhone battery already and I have...\n",
       "352    .@mention Bad Apple: shows up late, Qs the process, poo-poos ideas, leaves early. Can even be &q...\n",
       "354    Trying to balance the power of power needs on iPhone vs iPad at #sxsw. This 3G iPad sucks it out...\n",
       "357                     My iPhone battery can't keep up with my tweets! Thanks Apple.  #SXSW  #precommerce\n",
       "367    ÛÏ@mention Best thing I've heard this weekend at #SXSW &quot;I gave my iPad 2 money to #Japan r...\n",
       "405                    iPad 2 is coming out at #SXSW, guess Apple's pretty desperate to give it attention.\n",
       "421                                                  IPhone is dead. Find me on the secret batphone #sxsw.\n",
       "442              Why Barry Diller thinks iPad only content is nuts @mention #SXSW @mention {link} @mention\n",
       "445    In Japan: Docomo introduced mobile apps six years before Apple came out with app store. #jpmobil...\n",
       "456    Jeez guys dunno about an Apple pop-up over a Gold's Gym. Do u realize how un-Jobs-aesthetic that...\n",
       "498    I need to find a better #SXSW stream to follow. The inane iPad 2 tweets are surely not what Sout...\n",
       "541    Austin is getting full, and #SXSW is underway.  I can tell because my iPhone is an intermittent ...\n",
       "625    Hey #SXSW how bout donating all this $ your spending on the new #iPad to Japan. Do you REALLY ne...\n",
       "634    .@mention I have a 3G iPhone. After 3 hrs tweeting at #RISE_Austin, it was dead!  I need to upgr...\n",
       "635    .@mention I have a feeling #SXSW will be the worst place to try &amp; get an iPad 2- everyone th...\n",
       "645        I thought I would use my iPad a lot during #SXSW, but I haven't even touched it once.  Hmmzies.\n",
       "692    the first iPad didn't even exist here last year and I already feel like I'm pulling out an antiq...\n",
       "697    shoot, my ipad will not display any search results :( will have to go through questions later #o...\n",
       "700                       The #SXSW iPhone app is mocking me. Like I have the money to be there - COME ON.\n",
       "701                          The #SXSW iPhone app is one of the worst I've had to use in a very long time.\n",
       "708                                           Disliking iPhone twitter auto shortening links for me. #sxsw\n",
       "714                my iPhone is overheating. why are there so many british sounding people in texas? #SXSW\n",
       "722                                               My iPhone is wilting under the stress of being at #sxsw.\n",
       "747    iPhone, I know this #SXSW week will be tough on your already-dwindling battery, but so help me J...\n",
       "835    God, it's like being at #sxsw - have iMac, MacBook, iPhone and BlackBerry all staring at me. Eno...\n",
       "837    ha, seems like it --&gt; ÛÏ@mention The only news at SXSWi was Apple's temporary iPad store? #s...\n",
       "905    Day 1 and my charger kicked the bucket. Where the heck is the Apple store that's within walking ...\n",
       "909      With just my iPhone and iPad on me, I feel very unequipped compared to everyone else. Dang! #sxsw\n",
       "939    &quot;All of #SXSW is nothing but a teeming sea of iPhone addicts too busy Twittering to ever en...\n",
       "940    Not a fan of a new #sxsw trend - audience sharing opinions via holding up an iPad. Not here to l...\n",
       "955    Tomlinson of TX Observer says Apple subscription data holding is biggest impediment to success. ...\n",
       "979    #Apple to Open Pop-Up Shop at SXSW {link} &lt;---cool concept but I wouldn't spend my #SXSW wait...\n",
       "Name: tweet, dtype: object"
      ]
     },
     "execution_count": 159,
     "metadata": {},
     "output_type": "execute_result"
    },
    {
     "data": {
      "image/png": "[encoded data removed]",
      "text/plain": [
       "<Figure size 432x288 with 1 Axes>"
      ]
     },
     "metadata": {
      "needs_background": "light"
     },
     "output_type": "display_data"
    }
   ],
   "source": [
    "df_subset = df[(df['Company']=='Apple') & (df['sentiment']=='Negative emotion')]\n",
    "\n",
    "df_subset['tweet'][0:50]"
   ]
  },
  {
   "cell_type": "code",
   "execution_count": 169,
   "metadata": {
    "ExecuteTime": {
     "end_time": "2023-01-25T21:49:14.330833Z",
     "start_time": "2023-01-25T21:49:14.158606Z"
    }
   },
   "outputs": [
    {
     "name": "stderr",
     "output_type": "stream",
     "text": [
      "<ipython-input-169-a161d2ba87df>:2: SettingWithCopyWarning: \n",
      "A value is trying to be set on a copy of a slice from a DataFrame.\n",
      "Try using .loc[row_indexer,col_indexer] = value instead\n",
      "\n",
      "See the caveats in the documentation: https://pandas.pydata.org/pandas-docs/stable/user_guide/indexing.html#returning-a-view-versus-a-copy\n",
      "  df_subset['tweet_edited'] = df_subset['tweet_edited'].str.split()\n"
     ]
    },
    {
     "data": {
      "image/png": "[encoded data removed]",
      "text/plain": [
       "<Figure size 720x360 with 1 Axes>"
      ]
     },
     "metadata": {
      "needs_background": "light"
     },
     "output_type": "display_data"
    }
   ],
   "source": [
    "df_subset = df[(df['Company']=='Apple') & (df['sentiment']=='Negative emotion')]\n",
    "df_subset['tweet_edited'] = df_subset['tweet_edited'].str.split()\n",
    "df_subset = df_subset.tweet_edited.explode()\n",
    "df_subset\n",
    "ax = df_subset.value_counts()[0:10].plot(kind='bar',\n",
    "                                    title = 'High Frequency Words - Negative Apple Sentiment',\n",
    "                                    figsize=(10,5))"
   ]
  },
  {
   "cell_type": "code",
   "execution_count": 174,
   "metadata": {
    "ExecuteTime": {
     "end_time": "2023-01-25T21:56:05.638404Z",
     "start_time": "2023-01-25T21:56:05.413858Z"
    }
   },
   "outputs": [
    {
     "name": "stderr",
     "output_type": "stream",
     "text": [
      "<ipython-input-174-5cc04d99a2bc>:2: SettingWithCopyWarning: \n",
      "A value is trying to be set on a copy of a slice from a DataFrame.\n",
      "Try using .loc[row_indexer,col_indexer] = value instead\n",
      "\n",
      "See the caveats in the documentation: https://pandas.pydata.org/pandas-docs/stable/user_guide/indexing.html#returning-a-view-versus-a-copy\n",
      "  df_subset['tweet_edited'] = df_subset['tweet_edited'].str.split()\n"
     ]
    },
    {
     "data": {
      "image/png": "[encoded data removed]",
      "text/plain": [
       "<Figure size 720x360 with 1 Axes>"
      ]
     },
     "metadata": {
      "needs_background": "light"
     },
     "output_type": "display_data"
    }
   ],
   "source": [
    "df_subset = df[(df['Company']=='Apple') & (df['sentiment']=='Positive emotion')  & (df['product']=='iPad')]\n",
    "df_subset['tweet_edited'] = df_subset['tweet_edited'].str.split()\n",
    "df_subset = df_subset.tweet_edited.explode()\n",
    "df_subset\n",
    "ax = df_subset.value_counts()[0:20].plot(kind='bar',\n",
    "                                    title = 'High Frequency Words - Positive Apple iPad Sentiment',\n",
    "                                    figsize=(10,5))"
   ]
  },
  {
   "cell_type": "code",
   "execution_count": 173,
   "metadata": {
    "ExecuteTime": {
     "end_time": "2023-01-25T21:55:57.203681Z",
     "start_time": "2023-01-25T21:55:56.984479Z"
    },
    "scrolled": false
   },
   "outputs": [
    {
     "name": "stderr",
     "output_type": "stream",
     "text": [
      "<ipython-input-173-f83ff3d811d3>:2: SettingWithCopyWarning: \n",
      "A value is trying to be set on a copy of a slice from a DataFrame.\n",
      "Try using .loc[row_indexer,col_indexer] = value instead\n",
      "\n",
      "See the caveats in the documentation: https://pandas.pydata.org/pandas-docs/stable/user_guide/indexing.html#returning-a-view-versus-a-copy\n",
      "  df_subset['tweet_edited'] = df_subset['tweet_edited'].str.split()\n"
     ]
    },
    {
     "data": {
      "image/png": "[encoded data removed]",
      "text/plain": [
       "<Figure size 720x360 with 1 Axes>"
      ]
     },
     "metadata": {
      "needs_background": "light"
     },
     "output_type": "display_data"
    }
   ],
   "source": [
    "df_subset = df[(df['Company']=='Apple') & (df['sentiment']=='Negative emotion')  & (df['product']=='iPad')]\n",
    "df_subset['tweet_edited'] = df_subset['tweet_edited'].str.split()\n",
    "df_subset = df_subset.tweet_edited.explode()\n",
    "df_subset\n",
    "ax = df_subset.value_counts()[0:20].plot(kind='bar',\n",
    "                                    title = 'High Frequency Words - Negative Apple iPad Sentiment',\n",
    "                                    figsize=(10,5))"
   ]
  },
  {
   "cell_type": "code",
   "execution_count": 170,
   "metadata": {
    "ExecuteTime": {
     "end_time": "2023-01-25T21:49:43.299630Z",
     "start_time": "2023-01-25T21:49:43.138270Z"
    },
    "scrolled": true
   },
   "outputs": [
    {
     "name": "stderr",
     "output_type": "stream",
     "text": [
      "<ipython-input-170-13befb77b672>:2: SettingWithCopyWarning: \n",
      "A value is trying to be set on a copy of a slice from a DataFrame.\n",
      "Try using .loc[row_indexer,col_indexer] = value instead\n",
      "\n",
      "See the caveats in the documentation: https://pandas.pydata.org/pandas-docs/stable/user_guide/indexing.html#returning-a-view-versus-a-copy\n",
      "  df_subset['tweet_edited'] = df_subset['tweet_edited'].str.split()\n"
     ]
    },
    {
     "data": {
      "image/png": "[encoded data removed]",
      "text/plain": [
       "<Figure size 720x360 with 1 Axes>"
      ]
     },
     "metadata": {
      "needs_background": "light"
     },
     "output_type": "display_data"
    }
   ],
   "source": [
    "df_subset = df[(df['Company']=='Apple') & (df['sentiment']=='Negative emotion')  & (df['product']=='iPhone')]\n",
    "df_subset['tweet_edited'] = df_subset['tweet_edited'].str.split()\n",
    "df_subset = df_subset.tweet_edited.explode()\n",
    "df_subset\n",
    "ax = df_subset.value_counts()[0:10].plot(kind='bar',\n",
    "                                    title = 'High Frequency Words - Negative Apple iPhone Sentiment',\n",
    "                                    figsize=(10,5))"
   ]
  },
  {
   "cell_type": "code",
   "execution_count": 146,
   "metadata": {
    "ExecuteTime": {
     "end_time": "2023-01-25T21:31:13.619214Z",
     "start_time": "2023-01-25T21:31:13.605709Z"
    }
   },
   "outputs": [],
   "source": [
    "df_subset = df[(df['Company']=='Apple') & (df['sentiment']=='Negative emotion') & (df['product']=='iPhone')]"
   ]
  },
  {
   "cell_type": "code",
   "execution_count": 135,
   "metadata": {
    "ExecuteTime": {
     "end_time": "2023-01-25T21:24:17.924331Z",
     "start_time": "2023-01-25T21:24:17.911345Z"
    }
   },
   "outputs": [
    {
     "data": {
      "text/plain": [
       "0       .@wesley83 I have a 3G iPhone. After 3 hrs tweeting at #RISE_Austin, it was dead!  I need to upg...\n",
       "17      I just noticed DST is coming this weekend. How many iPhone users will be an hour late at SXSW co...\n",
       "92      What !?!? @mention  #SXSW does not provide iPhone chargers?!?  I've changed my mind about going ...\n",
       "233     If iPhone alarms botch the timechange, how many #SXSW'ers freak? Late to flights, missed panels,...\n",
       "236                                                    I meant I also wish I  at #SXSW #dyac stupid iPhone!\n",
       "324     Overheard at #sxsw interactive: &quot;Arg! I hate the iphone! I want my blackberry back&quot; #s...\n",
       "335     overheard at MDW (and I'll second it) &quot;halfway through my iPhone battery already and I have...\n",
       "357                      My iPhone battery can't keep up with my tweets! Thanks Apple.  #SXSW  #precommerce\n",
       "421                                                   IPhone is dead. Find me on the secret batphone #sxsw.\n",
       "541     Austin is getting full, and #SXSW is underway.  I can tell because my iPhone is an intermittent ...\n",
       "634     .@mention I have a 3G iPhone. After 3 hrs tweeting at #RISE_Austin, it was dead!  I need to upgr...\n",
       "714                 my iPhone is overheating. why are there so many british sounding people in texas? #SXSW\n",
       "722                                                My iPhone is wilting under the stress of being at #sxsw.\n",
       "747     iPhone, I know this #SXSW week will be tough on your already-dwindling battery, but so help me J...\n",
       "835     God, it's like being at #sxsw - have iMac, MacBook, iPhone and BlackBerry all staring at me. Eno...\n",
       "909       With just my iPhone and iPad on me, I feel very unequipped compared to everyone else. Dang! #sxsw\n",
       "939     &quot;All of #SXSW is nothing but a teeming sea of iPhone addicts too busy Twittering to ever en...\n",
       "989                                        @mention  packing a point by showing iphone fragmentation  #SXSW\n",
       "1181    You think there would be a #sxsw app for blackberry. Just when I gave iPhone the finger! Guess I...\n",
       "1278    Do i know u? Why u selling to me! Weve never talked. I now Hate your product! RT @mention check ...\n",
       "1285                     Def could use an iPad for  #SXSW today. Tweeting via iPhone sorta pretty much sux.\n",
       "1335    Disgusted with my iPhone's battery life. Already down to 11% at 3:30 pm while my blackberry is g...\n",
       "1387    Lost iPad, corrupted iPhone, and crazy hotels. Good times. #SXSW @mention AUS Austin-Bergstrom {...\n",
       "1390    At midday, iPhone at mid-battery. This outlet, blocked by an immobile booth, serves no purpose b...\n",
       "1504                 I know it's #SXSW because my iPhone has started lying to me about its signal strength.\n",
       "1511    @mention 's nexus s on t-mobile is 10x more useful than my iphone4 on AT&amp;T at #sxsw. Is it b...\n",
       "1755                  Disaster = iPhone died in middle of #sxsw ... can't function. heading to apple store.\n",
       "1774              Not even 10am here in Austin and my iPhone batt is at 54% - shit #SXSW #notevenstartedyet\n",
       "1944    #virtualwallet #sxsw no NFC in #iphone5 bc of standardization while #android will have it #confu...\n",
       "2087    @mention arg. It won't load on me iPhone. Not via the app store or the site. Just trying to #sxs...\n",
       "2088    had to charge the #iphone every 6hours here on #sxsw. running it on lowest possible screen brigh...\n",
       "2169                                                    #iPhone battery doesn't last long under #sxsw usage\n",
       "2275    Will somebody write an app that lets me consistently type &quot;SHIT&quot; on my goddamn iphone?...\n",
       "2341    #sxsw #enchantment: @mention &quot;Sell your dream. Steve Jobs doesn't say: iPhone is $188 of pa...\n",
       "2360    Stupid technology! You always fail at important times! At #SXSW w/ an iPhone, laptop AND Blackbe...\n",
       "2376                                           Pretty excited for my iPhone to stop working #sxsw #AT&amp;T\n",
       "2465    You should probably put that away... RT @mention at the Android party and kinda embarrassed by m...\n",
       "2555    Fest tip-don't be an iPhone douche.Put away your phone and talk to your fellow festgoers in line...\n",
       "2565                                          at the Android party and kinda embarrassed by my iPhone #SXSW\n",
       "2625    New Iphone autocorrect already tried to change &quot;coworkers&quot; to &quot;visigoths.&quot; I...\n",
       "2629                                                     The iPhone battery was not made for @mention #sxsw\n",
       "2790             I never realized how shitty by iphone battery was until #sxsw I'm charging every few hours\n",
       "2866                          Like in Vegas during #CES, the iPhone is best used as a hand warmer at #SXSW.\n",
       "2911    To my friends at #SXSW who think I abandoned you, in reality I just didn't have any means of com...\n",
       "3018    iPhone users at #SXSW - any of you have your GPS stuck on? Is one of the new geo app updates doi...\n",
       "3121                                                 #sxsw is exposing my iphone's horrendous battery life.\n",
       "3132    Outside of 9:30 panels which 75% of people skip I can barely get anything to work on my iPhone. ...\n",
       "3159                     Why is wifi working on my laptop but neither that nor 3g on my iphone? grrr. #sxsw\n",
       "3214    Navigating a crowded party sucks. But its way worse when everyone walks around with their face i...\n",
       "3275    @mention glad I've not got a faulty iPhone then. That'll go down well for #sxsw everyone's batte...\n",
       "Name: tweet, dtype: object"
      ]
     },
     "execution_count": 135,
     "metadata": {},
     "output_type": "execute_result"
    }
   ],
   "source": [
    "df_subset = df[(df['Company']=='Apple') & (df['sentiment']=='Negative emotion') & (df['product']=='iPhone') & (df['tweet_edited'].str.contains(''))]\n",
    "df_subset['tweet'][0:50]"
   ]
  },
  {
   "cell_type": "code",
   "execution_count": 136,
   "metadata": {
    "ExecuteTime": {
     "end_time": "2023-01-25T21:24:18.032758Z",
     "start_time": "2023-01-25T21:24:17.994112Z"
    }
   },
   "outputs": [
    {
     "name": "stderr",
     "output_type": "stream",
     "text": [
      "<ipython-input-136-9dda880d72da>:2: SettingWithCopyWarning: \n",
      "A value is trying to be set on a copy of a slice from a DataFrame.\n",
      "Try using .loc[row_indexer,col_indexer] = value instead\n",
      "\n",
      "See the caveats in the documentation: https://pandas.pydata.org/pandas-docs/stable/user_guide/indexing.html#returning-a-view-versus-a-copy\n",
      "  df_subset['tweet_edited'] = df_subset['tweet_edited'].str.split()\n"
     ]
    },
    {
     "data": {
      "text/plain": [
       "sxsw          105\n",
       "iphone        105\n",
       "battery        16\n",
       "go             15\n",
       "austin         12\n",
       "time            9\n",
       "blackberry      8\n",
       "get             8\n",
       "app             7\n",
       "g               7\n",
       "Name: tweet_edited, dtype: int64"
      ]
     },
     "execution_count": 136,
     "metadata": {},
     "output_type": "execute_result"
    }
   ],
   "source": [
    "df_subset = df[(df['Company']=='Apple') & (df['sentiment']=='Negative emotion') & (df['product']=='iPhone') & (df['tweet_edited'].str.contains(''))]\n",
    "df_subset['tweet_edited'] = df_subset['tweet_edited'].str.split()\n",
    "df_subset = df_subset.tweet_edited.explode()\n",
    "df_subset\n",
    "df_subset.value_counts()[0:10]"
   ]
  },
  {
   "cell_type": "code",
   "execution_count": 137,
   "metadata": {
    "ExecuteTime": {
     "end_time": "2023-01-25T21:24:18.165718Z",
     "start_time": "2023-01-25T21:24:18.141233Z"
    }
   },
   "outputs": [
    {
     "name": "stderr",
     "output_type": "stream",
     "text": [
      "<ipython-input-137-c3affceb7276>:2: SettingWithCopyWarning: \n",
      "A value is trying to be set on a copy of a slice from a DataFrame.\n",
      "Try using .loc[row_indexer,col_indexer] = value instead\n",
      "\n",
      "See the caveats in the documentation: https://pandas.pydata.org/pandas-docs/stable/user_guide/indexing.html#returning-a-view-versus-a-copy\n",
      "  df_apple_negative['tweet_edited'] = df_apple_negative['tweet_edited'].str.split()\n"
     ]
    },
    {
     "data": {
      "text/plain": [
       "sxsw          189\n",
       "iphone        186\n",
       "get            25\n",
       "ipad           21\n",
       "amp            15\n",
       "charge         14\n",
       "use            14\n",
       "make           14\n",
       "new            13\n",
       "i'm            13\n",
       "love           13\n",
       "case           12\n",
       "phone          12\n",
       "w              11\n",
       "one             9\n",
       "like            9\n",
       "thanks          9\n",
       "charger         9\n",
       "free            9\n",
       "android         9\n",
       "next            9\n",
       "give            8\n",
       "battery         8\n",
       "go              8\n",
       "zazzlesxsw      8\n",
       "ready           7\n",
       "austin          7\n",
       "sxswi           7\n",
       "via             7\n",
       "u               7\n",
       "Name: tweet_edited, dtype: int64"
      ]
     },
     "execution_count": 137,
     "metadata": {},
     "output_type": "execute_result"
    }
   ],
   "source": [
    "df_apple_negative = df[(df['Company']=='Apple') & (df['sentiment']=='Positive emotion')]\n",
    "df_apple_negative['tweet_edited'] = df_apple_negative['tweet_edited'].str.split()\n",
    "df_apple_positive\n",
    "df_apple_positive_words = df_apple_ipad_positive.tweet_edited.explode()\n",
    "df_apple_positive_words\n",
    "df_apple_positive_words.value_counts()[0:30]\n"
   ]
  },
  {
   "cell_type": "code",
   "execution_count": 138,
   "metadata": {
    "ExecuteTime": {
     "end_time": "2023-01-25T21:24:18.280958Z",
     "start_time": "2023-01-25T21:24:18.244504Z"
    },
    "scrolled": false
   },
   "outputs": [
    {
     "name": "stderr",
     "output_type": "stream",
     "text": [
      "<ipython-input-138-c9141a3e92c8>:2: SettingWithCopyWarning: \n",
      "A value is trying to be set on a copy of a slice from a DataFrame.\n",
      "Try using .loc[row_indexer,col_indexer] = value instead\n",
      "\n",
      "See the caveats in the documentation: https://pandas.pydata.org/pandas-docs/stable/user_guide/indexing.html#returning-a-view-versus-a-copy\n",
      "  df_apple_ipad_positive['tweet_edited'] = df_apple_ipad_positive['tweet_edited'].str.split()\n"
     ]
    },
    {
     "data": {
      "text/plain": [
       "sxsw      838\n",
       "ipad      829\n",
       "apple     218\n",
       "store     175\n",
       "get        96\n",
       "austin     83\n",
       "win        82\n",
       "new        75\n",
       "line       69\n",
       "pop        69\n",
       "go         52\n",
       "i'm        50\n",
       "one        49\n",
       "buy        44\n",
       "take       40\n",
       "look       36\n",
       "want       36\n",
       "day        34\n",
       "come       34\n",
       "design     34\n",
       "sell       34\n",
       "first      33\n",
       "video      33\n",
       "sxswi      32\n",
       "like       31\n",
       "need       30\n",
       "open       30\n",
       "wait       30\n",
       "launch     29\n",
       "via        29\n",
       "Name: tweet_edited, dtype: int64"
      ]
     },
     "execution_count": 138,
     "metadata": {},
     "output_type": "execute_result"
    }
   ],
   "source": [
    "df_apple_ipad_positive = df[(df['Company']=='Apple') & (df['product']=='iPad') & (df['sentiment']=='Positive emotion')]\n",
    "df_apple_ipad_positive['tweet_edited'] = df_apple_ipad_positive['tweet_edited'].str.split()\n",
    "df_apple_ipad_positive\n",
    "df_apple_ipad_positive_words = df_apple_ipad_positive.tweet_edited.explode()\n",
    "df_apple_ipad_positive_words\n",
    "df_apple_ipad_positive_words.value_counts()[0:30]\n",
    "\n",
    "\n"
   ]
  },
  {
   "cell_type": "code",
   "execution_count": 139,
   "metadata": {
    "ExecuteTime": {
     "end_time": "2023-01-25T21:24:18.416417Z",
     "start_time": "2023-01-25T21:24:18.391477Z"
    },
    "scrolled": true
   },
   "outputs": [
    {
     "name": "stderr",
     "output_type": "stream",
     "text": [
      "<ipython-input-139-6e53fd0d2be6>:2: SettingWithCopyWarning: \n",
      "A value is trying to be set on a copy of a slice from a DataFrame.\n",
      "Try using .loc[row_indexer,col_indexer] = value instead\n",
      "\n",
      "See the caveats in the documentation: https://pandas.pydata.org/pandas-docs/stable/user_guide/indexing.html#returning-a-view-versus-a-copy\n",
      "  df_apple_ipad_positive['tweet_edited'] = df_apple_ipad_positive['tweet_edited'].str.split()\n"
     ]
    },
    {
     "data": {
      "text/plain": [
       "sxsw          189\n",
       "iphone        186\n",
       "get            25\n",
       "ipad           21\n",
       "make           14\n",
       "use            14\n",
       "charge         14\n",
       "love           13\n",
       "i'm            13\n",
       "new            13\n",
       "case           12\n",
       "phone          12\n",
       "w              11\n",
       "charger         9\n",
       "one             9\n",
       "like            9\n",
       "thanks          9\n",
       "free            9\n",
       "android         9\n",
       "next            9\n",
       "give            8\n",
       "go              8\n",
       "zazzlesxsw      8\n",
       "battery         8\n",
       "year            7\n",
       "tell            7\n",
       "austin          7\n",
       "sxswi           7\n",
       "via             7\n",
       "u               7\n",
       "Name: tweet_edited, dtype: int64"
      ]
     },
     "execution_count": 139,
     "metadata": {},
     "output_type": "execute_result"
    }
   ],
   "source": [
    "df_apple_ipad_positive = df[(df['Company']=='Apple') & (df['product']=='iPhone') & (df['sentiment']=='Positive emotion')]\n",
    "df_apple_ipad_positive['tweet_edited'] = df_apple_ipad_positive['tweet_edited'].str.split()\n",
    "df_apple_ipad_positive\n",
    "df_apple_ipad_positive_words = df_apple_ipad_positive.tweet_edited.explode()\n",
    "df_apple_ipad_positive_words\n",
    "df_apple_ipad_positive_words.value_counts()[0:30]"
   ]
  },
  {
   "cell_type": "code",
   "execution_count": 140,
   "metadata": {
    "ExecuteTime": {
     "end_time": "2023-01-25T21:24:18.568248Z",
     "start_time": "2023-01-25T21:24:18.522753Z"
    }
   },
   "outputs": [
    {
     "name": "stderr",
     "output_type": "stream",
     "text": [
      "<ipython-input-140-c7bf4386ccb1>:2: SettingWithCopyWarning: \n",
      "A value is trying to be set on a copy of a slice from a DataFrame.\n",
      "Try using .loc[row_indexer,col_indexer] = value instead\n",
      "\n",
      "See the caveats in the documentation: https://pandas.pydata.org/pandas-docs/stable/user_guide/indexing.html#returning-a-view-versus-a-copy\n",
      "  df_apple_iphone_negative['tweet_edited'] = df_apple_ipad_positive['tweet_edited'].str.split()\n"
     ]
    },
    {
     "data": {
      "text/plain": [
       "sxsw          189\n",
       "iphone        186\n",
       "get            25\n",
       "ipad           21\n",
       "make           14\n",
       "use            14\n",
       "charge         14\n",
       "love           13\n",
       "i'm            13\n",
       "new            13\n",
       "case           12\n",
       "phone          12\n",
       "w              11\n",
       "charger         9\n",
       "one             9\n",
       "like            9\n",
       "thanks          9\n",
       "free            9\n",
       "android         9\n",
       "next            9\n",
       "give            8\n",
       "go              8\n",
       "zazzlesxsw      8\n",
       "battery         8\n",
       "year            7\n",
       "tell            7\n",
       "austin          7\n",
       "sxswi           7\n",
       "via             7\n",
       "u               7\n",
       "Name: tweet_edited, dtype: int64"
      ]
     },
     "execution_count": 140,
     "metadata": {},
     "output_type": "execute_result"
    }
   ],
   "source": [
    "df_apple_iphone_negative = df[(df['Company']=='Apple') & (df['product']=='iPhone') & (df['sentiment']=='Negative emotion')]\n",
    "df_apple_iphone_negative['tweet_edited'] = df_apple_ipad_positive['tweet_edited'].str.split()\n",
    "df_apple_iphone_negative\n",
    "df_apple_iphone_negative_words = df_apple_ipad_positive.tweet_edited.explode()\n",
    "df_apple_iphone_negative_words\n",
    "df_apple_iphone_negative_words.value_counts()[0:30]\n"
   ]
  },
  {
   "cell_type": "code",
   "execution_count": null,
   "metadata": {},
   "outputs": [],
   "source": []
  },
  {
   "cell_type": "code",
   "execution_count": 141,
   "metadata": {
    "ExecuteTime": {
     "end_time": "2023-01-25T21:24:18.696315Z",
     "start_time": "2023-01-25T21:24:18.685187Z"
    }
   },
   "outputs": [
    {
     "data": {
      "text/plain": [
       "2                                             can not wait for ipad also they should sale them down at sxsw\n",
       "20      need to buy an ipad while i'm in austin at sxsw not sure if i'll need to q up at an austin apple...\n",
       "25      rt i'm look forward to the smcdallas pre sxsw party wed and hop i'll win an ipad resulting from ...\n",
       "36      the best rt ha first in line for ipad at sxsw quot pop up quot apple store be an event planner e...\n",
       "57          link rt st stop on the sxsw chaos amp hunt austin java get in the spy game a chance win an ipad\n",
       "                                                       ...                                                 \n",
       "9063                       you should get the ipad to save your back from lug the laptop sxsw sxswmymistake\n",
       "9070               you know you've make it to sxsw when you see a bunch of grown men hoot over get the ipad\n",
       "9071                              what be your essential for sxsw mine pocket camera laptop ipad extra cord\n",
       "9079                                          quot papyrus sort of like the ipad quot nice lol sxsw lavelle\n",
       "9088                                                                              ipad everywhere sxsw link\n",
       "Name: tweet_edited, Length: 793, dtype: object"
      ]
     },
     "execution_count": 141,
     "metadata": {},
     "output_type": "execute_result"
    }
   ],
   "source": [
    "tweet_words"
   ]
  },
  {
   "cell_type": "code",
   "execution_count": null,
   "metadata": {},
   "outputs": [],
   "source": []
  },
  {
   "cell_type": "code",
   "execution_count": null,
   "metadata": {},
   "outputs": [],
   "source": []
  }
 ],
 "metadata": {
  "kernelspec": {
   "display_name": "Python (learn-env)",
   "language": "python",
   "name": "learn-env"
  },
  "language_info": {
   "codemirror_mode": {
    "name": "ipython",
    "version": 3
   },
   "file_extension": ".py",
   "mimetype": "text/x-python",
   "name": "python",
   "nbconvert_exporter": "python",
   "pygments_lexer": "ipython3",
   "version": "3.8.5"
  },
  "toc": {
   "base_numbering": 1,
   "nav_menu": {},
   "number_sections": true,
   "sideBar": true,
   "skip_h1_title": false,
   "title_cell": "Table of Contents",
   "title_sidebar": "Contents",
   "toc_cell": false,
   "toc_position": {},
   "toc_section_display": true,
   "toc_window_display": false
  },
  "varInspector": {
   "cols": {
    "lenName": 16,
    "lenType": 16,
    "lenVar": 40
   },
   "kernels_config": {
    "python": {
     "delete_cmd_postfix": "",
     "delete_cmd_prefix": "del ",
     "library": "var_list.py",
     "varRefreshCmd": "print(var_dic_list())"
    },
    "r": {
     "delete_cmd_postfix": ") ",
     "delete_cmd_prefix": "rm(",
     "library": "var_list.r",
     "varRefreshCmd": "cat(var_dic_list()) "
    }
   },
   "types_to_exclude": [
    "module",
    "function",
    "builtin_function_or_method",
    "instance",
    "_Feature"
   ],
   "window_display": false
  }
 },
 "nbformat": 4,
 "nbformat_minor": 4
}
